{
 "cells": [
  {
   "cell_type": "markdown",
   "id": "65a12f1e",
   "metadata": {},
   "source": [
    "### FAULTY AIR QUALITY SENSOR CHALLENGE"
   ]
  },
  {
   "cell_type": "markdown",
   "id": "18e07056",
   "metadata": {},
   "source": [
    "#### VYRODOK TEAM\n",
    "School: EDSA\n",
    "\n",
    "- Eric Mbuthia\n",
    "- Linda Kelida\n",
    "- Teddy Waweru\n",
    "- Jessica Njuguna"
   ]
  },
  {
   "cell_type": "markdown",
   "id": "1524eaaa",
   "metadata": {},
   "source": [
    "#### IMPORT PACKAGES"
   ]
  },
  {
   "cell_type": "code",
   "execution_count": 1,
   "id": "f0cd59ac",
   "metadata": {},
   "outputs": [],
   "source": [
    "import pandas as pd\n",
    "import numpy as np\n",
    "import matplotlib.pyplot as plt\n",
    "import seaborn as sns"
   ]
  },
  {
   "cell_type": "markdown",
   "id": "a00c38df",
   "metadata": {},
   "source": [
    "#### IMPORT DATA"
   ]
  },
  {
   "cell_type": "code",
   "execution_count": 4,
   "id": "f56c51d9",
   "metadata": {},
   "outputs": [],
   "source": [
    "train_df = pd.read_csv('Challenge/data/train.csv')\n",
    "test_df = pd.read_csv('Challenge/data/test.csv')"
   ]
  },
  {
   "cell_type": "code",
   "execution_count": null,
   "id": "02701bc9",
   "metadata": {},
   "outputs": [],
   "source": []
  }
 ],
 "metadata": {
  "kernelspec": {
   "display_name": "Python 3",
   "language": "python",
   "name": "python3"
  },
  "language_info": {
   "codemirror_mode": {
    "name": "ipython",
    "version": 3
   },
   "file_extension": ".py",
   "mimetype": "text/x-python",
   "name": "python",
   "nbconvert_exporter": "python",
   "pygments_lexer": "ipython3",
   "version": "3.8.8"
  }
 },
 "nbformat": 4,
 "nbformat_minor": 5
}
