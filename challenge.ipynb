{
 "cells": [
  {
   "cell_type": "markdown",
   "id": "65a12f1e",
   "metadata": {},
   "source": [
    "### FAULTY AIR QUALITY SENSOR CHALLENGE"
   ]
  },
  {
   "cell_type": "markdown",
   "id": "18e07056",
   "metadata": {},
   "source": [
    "#### VYRODOK TEAM\n",
    "School: EDSA\n",
    "\n",
    "- Eric Mbuthia\n",
    "- Linda Kelida\n",
    "- Teddy Waweru\n",
    "- Jessica Njuguna"
   ]
  },
  {
   "cell_type": "markdown",
   "id": "1ee561ee",
   "metadata": {},
   "source": [
    "# 1. EDA Process"
   ]
  },
  {
   "cell_type": "markdown",
   "id": "1524eaaa",
   "metadata": {},
   "source": [
    "#### Import EDA Packages"
   ]
  },
  {
   "cell_type": "code",
   "execution_count": 24,
   "id": "f0cd59ac",
   "metadata": {},
   "outputs": [],
   "source": [
    "import pandas as pd\n",
    "import numpy as np\n",
    "import matplotlib.pyplot as plt\n",
    "\n",
    "import seaborn as sns\n",
    "sns.set()"
   ]
  },
  {
   "cell_type": "markdown",
   "id": "a00c38df",
   "metadata": {},
   "source": [
    "#### Import Data"
   ]
  },
  {
   "cell_type": "code",
   "execution_count": 120,
   "id": "f56c51d9",
   "metadata": {},
   "outputs": [],
   "source": [
    "#A00\n",
    "# Load Files\n",
    "raw_train_df = pd.read_csv('Challenge/data/train.csv', parse_dates=['Datetime'])\n",
    "raw_test_df = pd.read_csv('Challe\"nge/data/test.csv', parse_dates=['Datetime'])\n",
    "raw_samp_df = pd.read_csv('Challenge/data/SampleSubmission.csv')"
   ]
  },
  {
   "cell_type": "markdown",
   "id": "46a7b956",
   "metadata": {},
   "source": [
    "## Statistical Summaries"
   ]
  },
  {
   "cell_type": "code",
   "execution_count": 121,
   "id": "9c158afa",
   "metadata": {},
   "outputs": [
    {
     "data": {
      "text/plain": [
       "(Index(['ID', 'Datetime', 'Sensor1_PM2.5', 'Sensor2_PM2.5', 'Temperature',\n",
       "        'Relative_Humidity', 'Offset_fault'],\n",
       "       dtype='object'),\n",
       " Index(['ID', 'Datetime', 'Sensor1_PM2.5', 'Sensor2_PM2.5', 'Temperature',\n",
       "        'Relative_Humidity'],\n",
       "       dtype='object'),\n",
       " Index(['ID', 'Offset_fault'], dtype='object'))"
      ]
     },
     "execution_count": 121,
     "metadata": {},
     "output_type": "execute_result"
    }
   ],
   "source": [
    "raw_train_df.columns, test_df.columns, samp_df.columns"
   ]
  },
  {
   "cell_type": "code",
   "execution_count": 12,
   "id": "02701bc9",
   "metadata": {},
   "outputs": [
    {
     "data": {
      "text/plain": [
       "((297177, 7),\n",
       " (127361, 6),\n",
       " (127361, 2),\n",
       " ID                      0\n",
       " Datetime                0\n",
       " Sensor1_PM2.5        3614\n",
       " Sensor2_PM2.5        3614\n",
       " Temperature          3549\n",
       " Relative_Humidity    3549\n",
       " Offset_fault            0\n",
       " dtype: int64,\n",
       " ID                       0\n",
       " Datetime                 0\n",
       " Sensor1_PM2.5            0\n",
       " Sensor2_PM2.5            0\n",
       " Temperature          88090\n",
       " Relative_Humidity    88090\n",
       " dtype: int64)"
      ]
     },
     "execution_count": 12,
     "metadata": {},
     "output_type": "execute_result"
    }
   ],
   "source": [
    "raw_train_df.shape, test_df.shape, raw_samp_df.shape, raw_train_df.isna().sum(), raw_test_df.isna().sum()"
   ]
  },
  {
   "cell_type": "code",
   "execution_count": 122,
   "id": "6bf57dc6",
   "metadata": {},
   "outputs": [
    {
     "name": "stdout",
     "output_type": "stream",
     "text": [
      "<class 'pandas.core.frame.DataFrame'>\n",
      "RangeIndex: 297177 entries, 0 to 297176\n",
      "Data columns (total 7 columns):\n",
      " #   Column             Non-Null Count   Dtype         \n",
      "---  ------             --------------   -----         \n",
      " 0   ID                 297177 non-null  object        \n",
      " 1   Datetime           297177 non-null  datetime64[ns]\n",
      " 2   Sensor1_PM2.5      293563 non-null  float64       \n",
      " 3   Sensor2_PM2.5      293563 non-null  float64       \n",
      " 4   Temperature        293628 non-null  float64       \n",
      " 5   Relative_Humidity  293628 non-null  float64       \n",
      " 6   Offset_fault       297177 non-null  int64         \n",
      "dtypes: datetime64[ns](1), float64(4), int64(1), object(1)\n",
      "memory usage: 15.9+ MB\n"
     ]
    },
    {
     "data": {
      "text/plain": [
       "(None,\n",
       " ID                           object\n",
       " Datetime             datetime64[ns]\n",
       " Sensor1_PM2.5               float64\n",
       " Sensor2_PM2.5               float64\n",
       " Temperature                 float64\n",
       " Relative_Humidity           float64\n",
       " Offset_fault                  int64\n",
       " dtype: object)"
      ]
     },
     "execution_count": 122,
     "metadata": {},
     "output_type": "execute_result"
    }
   ],
   "source": [
    "raw_train_df.info(), raw_train_df.dtypes"
   ]
  },
  {
   "cell_type": "markdown",
   "id": "d3cddddf",
   "metadata": {},
   "source": [
    "We convert the Datetime column to datetime format, & add columns for the year, month, day & hour <br/>\n",
    "We shall have this in a function so it can be reused later."
   ]
  },
  {
   "cell_type": "markdown",
   "id": "688e7944",
   "metadata": {},
   "source": [
    "We shall declare a function that will contain these initial changes, in case we need to repeat the preparation of the dataset to contain these columns.\n",
    "(May be updated with other functions)"
   ]
  },
  {
   "cell_type": "code",
   "execution_count": 112,
   "id": "9ed9834c",
   "metadata": {},
   "outputs": [],
   "source": [
    "#Input: Expects df similar to the original dataset\n",
    "#Output: DF with the following columns:\n",
    "\n",
    "def prepare_df(_df):\n",
    "\n",
    "    df = _df.copy(deep=True)\n",
    "    #Convert datetime format\n",
    "    df['Datetime'] = pd.to_datetime(df['Datetime'])\n",
    "\n",
    "    # Add columns for year, month, day, hour\n",
    "    df['YEAR'] = pd.DatetimeIndex(df['Datetime']).year\n",
    "    df['MONTH'] = pd.DatetimeIndex(df['Datetime']).month\n",
    "    df['DAY'] = pd.DatetimeIndex(df['Datetime']).day\n",
    "    df['HOUR'] = pd.DatetimeIndex(df['Datetime']).hour\n",
    "    df['DAY_OF_WEEK'] = pd.DatetimeIndex(df['Datetime']).dayofweek\n",
    "    df['HOUR_OF_WEEK'] = ((pd.DatetimeIndex(df['Datetime']).dayofweek * 24) + pd.DatetimeIndex(df['Datetime']).hour)\n",
    "\n",
    "\n",
    "    #Standardize column titles\n",
    "    df.rename(\n",
    "        columns = {\n",
    "            'Datetime': 'DATETIME', 'Sensor1_PM2.5' : 'SENSOR1_PM2.5',\n",
    "            'Sensor2_PM2.5' : 'SENSOR2_PM2.5', 'Temperature': 'TEMPERATURE',\n",
    "            'Relative_Humidity': 'RELATIVE_HUMIDITY', 'Offset_fault': 'OFFSET_FAULT'\n",
    "        }, inplace=True\n",
    "    )\n",
    "\n",
    "    #Re-order columns\n",
    "    df = df.reindex(\n",
    "        columns = ['ID'] + ['DATETIME'] + ['YEAR'] + ['MONTH'] + ['DAY'] + \\\n",
    "            ['DAY_OF_WEEK'] + ['HOUR'] + ['HOUR_OF_WEEK'] + \\\n",
    "            [col for col in df.columns if col not in \\\n",
    "                ['ID', 'DATETIME', 'YEAR', 'MONTH', 'DAY', 'HOUR',\n",
    "                'OFFSET_FAULT', 'DAY_OF_WEEK', 'HOUR_OF_WEEK']]\\\n",
    "                    + ['OFFSET_FAULT']\n",
    "    )\n",
    "\n",
    "    return df"
   ]
  },
  {
   "cell_type": "code",
   "execution_count": 137,
   "id": "4d18240b",
   "metadata": {},
   "outputs": [],
   "source": [
    "#A00\n",
    "train_df = prepare_df(raw_train_df)"
   ]
  },
  {
   "cell_type": "code",
   "execution_count": 124,
   "id": "c3dd1379",
   "metadata": {},
   "outputs": [
    {
     "data": {
      "text/html": [
       "<div><div id=dc7be6d1-c28b-4231-bffd-0f9790a1f521 style=\"display:none; background-color:#9D6CFF; color:white; width:200px; height:30px; padding-left:5px; border-radius:4px; flex-direction:row; justify-content:space-around; align-items:center;\" onmouseover=\"this.style.backgroundColor='#BA9BF8'\" onmouseout=\"this.style.backgroundColor='#9D6CFF'\" onclick=\"window.commands?.execute('create-mitosheet-from-dataframe-output');\">See Full Dataframe in Mito</div> <script> if (window.commands.hasCommand('create-mitosheet-from-dataframe-output')) document.getElementById('dc7be6d1-c28b-4231-bffd-0f9790a1f521').style.display = 'flex' </script> <table border=\"1\" class=\"dataframe\">\n",
       "  <thead>\n",
       "    <tr style=\"text-align: right;\">\n",
       "      <th></th>\n",
       "      <th>YEAR</th>\n",
       "      <th>MONTH</th>\n",
       "      <th>DAY</th>\n",
       "      <th>DAY_OF_WEEK</th>\n",
       "      <th>HOUR</th>\n",
       "      <th>HOUR_OF_WEEK</th>\n",
       "      <th>SENSOR1_PM2.5</th>\n",
       "      <th>SENSOR2_PM2.5</th>\n",
       "      <th>TEMPERATURE</th>\n",
       "      <th>RELATIVE_HUMIDITY</th>\n",
       "      <th>OFFSET_FAULT</th>\n",
       "    </tr>\n",
       "  </thead>\n",
       "  <tbody>\n",
       "    <tr>\n",
       "      <th>count</th>\n",
       "      <td>297177.00</td>\n",
       "      <td>297177.00</td>\n",
       "      <td>297177.00</td>\n",
       "      <td>297177.00</td>\n",
       "      <td>297177.00</td>\n",
       "      <td>297177.00</td>\n",
       "      <td>293563.00</td>\n",
       "      <td>293563.00</td>\n",
       "      <td>293628.00</td>\n",
       "      <td>293628.00</td>\n",
       "      <td>297177.00</td>\n",
       "    </tr>\n",
       "    <tr>\n",
       "      <th>mean</th>\n",
       "      <td>2021.21</td>\n",
       "      <td>9.07</td>\n",
       "      <td>15.99</td>\n",
       "      <td>2.99</td>\n",
       "      <td>11.39</td>\n",
       "      <td>83.14</td>\n",
       "      <td>40.75</td>\n",
       "      <td>38.18</td>\n",
       "      <td>23.32</td>\n",
       "      <td>78.65</td>\n",
       "      <td>0.37</td>\n",
       "    </tr>\n",
       "    <tr>\n",
       "      <th>std</th>\n",
       "      <td>0.41</td>\n",
       "      <td>4.19</td>\n",
       "      <td>8.67</td>\n",
       "      <td>2.00</td>\n",
       "      <td>6.94</td>\n",
       "      <td>48.55</td>\n",
       "      <td>28.53</td>\n",
       "      <td>28.65</td>\n",
       "      <td>3.84</td>\n",
       "      <td>14.77</td>\n",
       "      <td>0.48</td>\n",
       "    </tr>\n",
       "    <tr>\n",
       "      <th>min</th>\n",
       "      <td>2021.00</td>\n",
       "      <td>1.00</td>\n",
       "      <td>1.00</td>\n",
       "      <td>0.00</td>\n",
       "      <td>0.00</td>\n",
       "      <td>0.00</td>\n",
       "      <td>-9.45</td>\n",
       "      <td>-9.70</td>\n",
       "      <td>16.70</td>\n",
       "      <td>27.00</td>\n",
       "      <td>0.00</td>\n",
       "    </tr>\n",
       "    <tr>\n",
       "      <th>25%</th>\n",
       "      <td>2021.00</td>\n",
       "      <td>10.00</td>\n",
       "      <td>9.00</td>\n",
       "      <td>1.00</td>\n",
       "      <td>5.00</td>\n",
       "      <td>41.00</td>\n",
       "      <td>22.43</td>\n",
       "      <td>19.52</td>\n",
       "      <td>20.40</td>\n",
       "      <td>68.00</td>\n",
       "      <td>0.00</td>\n",
       "    </tr>\n",
       "    <tr>\n",
       "      <th>50%</th>\n",
       "      <td>2021.00</td>\n",
       "      <td>11.00</td>\n",
       "      <td>16.00</td>\n",
       "      <td>3.00</td>\n",
       "      <td>11.00</td>\n",
       "      <td>83.00</td>\n",
       "      <td>36.47</td>\n",
       "      <td>33.72</td>\n",
       "      <td>21.90</td>\n",
       "      <td>84.00</td>\n",
       "      <td>0.00</td>\n",
       "    </tr>\n",
       "    <tr>\n",
       "      <th>75%</th>\n",
       "      <td>2021.00</td>\n",
       "      <td>12.00</td>\n",
       "      <td>23.00</td>\n",
       "      <td>5.00</td>\n",
       "      <td>17.00</td>\n",
       "      <td>125.00</td>\n",
       "      <td>49.42</td>\n",
       "      <td>47.57</td>\n",
       "      <td>26.30</td>\n",
       "      <td>91.00</td>\n",
       "      <td>1.00</td>\n",
       "    </tr>\n",
       "    <tr>\n",
       "      <th>max</th>\n",
       "      <td>2022.00</td>\n",
       "      <td>12.00</td>\n",
       "      <td>31.00</td>\n",
       "      <td>6.00</td>\n",
       "      <td>23.00</td>\n",
       "      <td>167.00</td>\n",
       "      <td>997.96</td>\n",
       "      <td>997.26</td>\n",
       "      <td>34.90</td>\n",
       "      <td>99.00</td>\n",
       "      <td>1.00</td>\n",
       "    </tr>\n",
       "  </tbody>\n",
       "</table></div>"
      ],
      "text/plain": [
       "            YEAR      MONTH        DAY  DAY_OF_WEEK       HOUR  HOUR_OF_WEEK  \\\n",
       "count  297177.00  297177.00  297177.00    297177.00  297177.00     297177.00   \n",
       "mean     2021.21       9.07      15.99         2.99      11.39         83.14   \n",
       "std         0.41       4.19       8.67         2.00       6.94         48.55   \n",
       "min      2021.00       1.00       1.00         0.00       0.00          0.00   \n",
       "25%      2021.00      10.00       9.00         1.00       5.00         41.00   \n",
       "50%      2021.00      11.00      16.00         3.00      11.00         83.00   \n",
       "75%      2021.00      12.00      23.00         5.00      17.00        125.00   \n",
       "max      2022.00      12.00      31.00         6.00      23.00        167.00   \n",
       "\n",
       "       SENSOR1_PM2.5  SENSOR2_PM2.5  TEMPERATURE  RELATIVE_HUMIDITY  \\\n",
       "count      293563.00      293563.00    293628.00          293628.00   \n",
       "mean           40.75          38.18        23.32              78.65   \n",
       "std            28.53          28.65         3.84              14.77   \n",
       "min            -9.45          -9.70        16.70              27.00   \n",
       "25%            22.43          19.52        20.40              68.00   \n",
       "50%            36.47          33.72        21.90              84.00   \n",
       "75%            49.42          47.57        26.30              91.00   \n",
       "max           997.96         997.26        34.90              99.00   \n",
       "\n",
       "       OFFSET_FAULT  \n",
       "count     297177.00  \n",
       "mean           0.37  \n",
       "std            0.48  \n",
       "min            0.00  \n",
       "25%            0.00  \n",
       "50%            0.00  \n",
       "75%            1.00  \n",
       "max            1.00  "
      ]
     },
     "execution_count": 124,
     "metadata": {},
     "output_type": "execute_result"
    }
   ],
   "source": [
    "train_df.describe().round(2)"
   ]
  },
  {
   "cell_type": "code",
   "execution_count": 10,
   "id": "9811c7cb",
   "metadata": {},
   "outputs": [
    {
     "data": {
      "text/plain": [
       "ID                      0\n",
       "Datetime                0\n",
       "Sensor1_PM2.5        3614\n",
       "Sensor2_PM2.5        3614\n",
       "Temperature          3549\n",
       "Relative_Humidity    3549\n",
       "Offset_fault            0\n",
       "dtype: int64"
      ]
     },
     "execution_count": 10,
     "metadata": {},
     "output_type": "execute_result"
    }
   ],
   "source": [
    "train_df.isna().sum()"
   ]
  },
  {
   "cell_type": "code",
   "execution_count": 12,
   "id": "0749de1a",
   "metadata": {},
   "outputs": [
    {
     "data": {
      "text/html": [
       "<div><div id=3363406f-f3eb-4fe9-b80c-522a3780e87a style=\"display:none; background-color:#9D6CFF; color:white; width:200px; height:30px; padding-left:5px; border-radius:4px; flex-direction:row; justify-content:space-around; align-items:center;\" onmouseover=\"this.style.backgroundColor='#BA9BF8'\" onmouseout=\"this.style.backgroundColor='#9D6CFF'\" onclick=\"window.commands?.execute('create-mitosheet-from-dataframe-output');\">See Full Dataframe in Mito</div> <script> if (window.commands.hasCommand('create-mitosheet-from-dataframe-output')) document.getElementById('3363406f-f3eb-4fe9-b80c-522a3780e87a').style.display = 'flex' </script> <table border=\"1\" class=\"dataframe\">\n",
       "  <thead>\n",
       "    <tr style=\"text-align: right;\">\n",
       "      <th></th>\n",
       "      <th>ID</th>\n",
       "      <th>Datetime</th>\n",
       "      <th>Sensor1_PM2.5</th>\n",
       "      <th>Sensor2_PM2.5</th>\n",
       "      <th>Temperature</th>\n",
       "      <th>Relative_Humidity</th>\n",
       "      <th>Offset_fault</th>\n",
       "    </tr>\n",
       "  </thead>\n",
       "  <tbody>\n",
       "    <tr>\n",
       "      <th>0</th>\n",
       "      <td>ID_QF0ZTQJ2SF5Q</td>\n",
       "      <td>2021-11-03 04:06:31</td>\n",
       "      <td>52.58</td>\n",
       "      <td>49.52</td>\n",
       "      <td>17.4</td>\n",
       "      <td>96.0</td>\n",
       "      <td>0</td>\n",
       "    </tr>\n",
       "    <tr>\n",
       "      <th>1</th>\n",
       "      <td>ID_4GTK689CNX5S</td>\n",
       "      <td>2021-11-08 18:43:23</td>\n",
       "      <td>35.25</td>\n",
       "      <td>33.40</td>\n",
       "      <td>25.0</td>\n",
       "      <td>75.0</td>\n",
       "      <td>0</td>\n",
       "    </tr>\n",
       "    <tr>\n",
       "      <th>2</th>\n",
       "      <td>ID_DL7VVKW9U7XQ</td>\n",
       "      <td>2021-11-07 09:50:33</td>\n",
       "      <td>19.18</td>\n",
       "      <td>23.50</td>\n",
       "      <td>24.9</td>\n",
       "      <td>75.0</td>\n",
       "      <td>0</td>\n",
       "    </tr>\n",
       "    <tr>\n",
       "      <th>3</th>\n",
       "      <td>ID_6XQOMBXM2DG3</td>\n",
       "      <td>2022-01-01 18:55:15</td>\n",
       "      <td>19.40</td>\n",
       "      <td>15.48</td>\n",
       "      <td>24.9</td>\n",
       "      <td>70.0</td>\n",
       "      <td>0</td>\n",
       "    </tr>\n",
       "    <tr>\n",
       "      <th>4</th>\n",
       "      <td>ID_UQZW9ISJY9QE</td>\n",
       "      <td>2021-11-05 22:23:48</td>\n",
       "      <td>38.30</td>\n",
       "      <td>34.77</td>\n",
       "      <td>20.9</td>\n",
       "      <td>89.0</td>\n",
       "      <td>0</td>\n",
       "    </tr>\n",
       "  </tbody>\n",
       "</table></div>"
      ],
      "text/plain": [
       "                ID             Datetime  Sensor1_PM2.5  Sensor2_PM2.5  \\\n",
       "0  ID_QF0ZTQJ2SF5Q  2021-11-03 04:06:31          52.58          49.52   \n",
       "1  ID_4GTK689CNX5S  2021-11-08 18:43:23          35.25          33.40   \n",
       "2  ID_DL7VVKW9U7XQ  2021-11-07 09:50:33          19.18          23.50   \n",
       "3  ID_6XQOMBXM2DG3  2022-01-01 18:55:15          19.40          15.48   \n",
       "4  ID_UQZW9ISJY9QE  2021-11-05 22:23:48          38.30          34.77   \n",
       "\n",
       "   Temperature  Relative_Humidity  Offset_fault  \n",
       "0         17.4               96.0             0  \n",
       "1         25.0               75.0             0  \n",
       "2         24.9               75.0             0  \n",
       "3         24.9               70.0             0  \n",
       "4         20.9               89.0             0  "
      ]
     },
     "execution_count": 12,
     "metadata": {},
     "output_type": "execute_result"
    }
   ],
   "source": [
    "train_df.head()"
   ]
  },
  {
   "cell_type": "markdown",
   "id": "db594bb1",
   "metadata": {},
   "source": [
    "## Visualizations"
   ]
  },
  {
   "cell_type": "markdown",
   "id": "3b69d3cc",
   "metadata": {},
   "source": [
    "### Time Series"
   ]
  },
  {
   "cell_type": "code",
   "execution_count": 23,
   "id": "36320bd5",
   "metadata": {},
   "outputs": [
    {
     "name": "stderr",
     "output_type": "stream",
     "text": [
      "C:\\Users\\teddy\\AppData\\Local\\Temp/ipykernel_26236/2209957672.py:5: UserWarning: Matplotlib is currently using module://matplotlib_inline.backend_inline, which is a non-GUI backend, so cannot show the figure.\n",
      "  fig.show()\n"
     ]
    },
    {
     "data": {
      "image/png": "[encoded data removed]",
      "text/plain": [
       "<Figure size 2160x720 with 1 Axes>"
      ]
     },
     "metadata": {},
     "output_type": "display_data"
    }
   ],
   "source": [
    "fig, axs = plt.subplots(figsize = (30,10))\n",
    "\n",
    "axs.plot(train_df['Datetime'], train_df['Relative_Humidity'])\n"
   ]
  },
  {
   "cell_type": "markdown",
   "id": "2e04f6be",
   "metadata": {},
   "source": [
    "### Target Variable Distribution"
   ]
  },
  {
   "cell_type": "code",
   "execution_count": 9,
   "id": "575d4ac9",
   "metadata": {},
   "outputs": [
    {
     "data": {
      "image/png": "[encoded data removed]",
      "text/plain": [
       "<Figure size 576x360 with 1 Axes>"
      ]
     },
     "metadata": {},
     "output_type": "display_data"
    }
   ],
   "source": [
    "# Target variable distribution\n",
    "sns.set_style('darkgrid')\n",
    "plt.figure(figsize=(8, 5))\n",
    "sns.countplot(x = train_df[\"Offset_fault\"])\n",
    "plt.title('Target variable distribution')\n",
    "plt.show()"
   ]
  },
  {
   "cell_type": "markdown",
   "id": "0191c64b",
   "metadata": {},
   "source": [
    "### Outliers"
   ]
  },
  {
   "cell_type": "code",
   "execution_count": 8,
   "id": "7d95b35e",
   "metadata": {},
   "outputs": [
    {
     "data": {
      "image/png": "[encoded data removed]",
      "text/plain": [
       "<Figure size 1080x720 with 4 Axes>"
      ]
     },
     "metadata": {},
     "output_type": "display_data"
    }
   ],
   "source": [
    "# Plotting boxplots for each of the numerical columns\n",
    "sns.set_style('darkgrid')\n",
    "fig, axes = plt.subplots(nrows = 2, ncols = 2, figsize = (15, 10))\n",
    "fig.suptitle('Box plots showing outliers', y= 0.93, fontsize = 15)\n",
    "\n",
    "for ax, data, name in zip(axes.flatten(), train_df, ['Sensor1_PM2.5',\t'Sensor2_PM2.5',\t'Temperature',\t'Relative_Humidity']):\n",
    "  sns.boxplot(x = train_df[name], ax = ax)"
   ]
  },
  {
   "cell_type": "markdown",
   "id": "1ae1524b",
   "metadata": {},
   "source": [
    "### Feature Correlation"
   ]
  },
  {
   "cell_type": "markdown",
   "id": "a5b1cb18",
   "metadata": {},
   "source": [
    "# 2. Feature Engineering"
   ]
  },
  {
   "cell_type": "markdown",
   "id": "5d92c1bd",
   "metadata": {},
   "source": [
    "### Convert Data types to appropriate formats"
   ]
  },
  {
   "cell_type": "markdown",
   "id": "0d047adb",
   "metadata": {},
   "source": [
    "### Dealing with Null values"
   ]
  },
  {
   "cell_type": "code",
   "execution_count": 138,
   "id": "642107ae",
   "metadata": {},
   "outputs": [],
   "source": [
    "#Fill Null Values.\n",
    "def fill_na(_df, type='train'):\n",
    "    df = _df.copy(deep=True)\n",
    "\n",
    "    if type == 'train':\n",
    "        df['SENSOR1_PM2.5'] = df['SENSOR1_PM2.5'].fillna(df['SENSOR1_PM2.5'].mean())\n",
    "        df['SENSOR2_PM2.5'] = df['SENSOR2_PM2.5'].fillna(df['SENSOR2_PM2.5'].mean())\n",
    "        df['TEMPERATURE'] = df['TEMPERATURE'].fillna(df['TEMPERATURE'].mean())\n",
    "        df['RELATIVE_HUMIDITY'] = df['RELATIVE_HUMIDITY'].fillna(df['RELATIVE_HUMIDITY'].mean())\n",
    "\n",
    "    #For the TEST DATA. This is analyzed in the modelling section\n",
    "    # but this shall be the code to be referenced\n",
    "    else:\n",
    "        df['TEMPERATURE'] = df['TEMPERATURE'].fillna(df['TEMPERATURE'].mean())\n",
    "        df['RELATIVE_HUMIDITY'] = df['RELATIVE_HUMIDITY'].fillna(df['RELATIVE_HUMIDITY'].mean())\n",
    "\n",
    "    return df\n"
   ]
  },
  {
   "cell_type": "code",
   "execution_count": 139,
   "id": "ae5480be",
   "metadata": {},
   "outputs": [],
   "source": [
    "train_df = fill_na(train_df, 'train')"
   ]
  },
  {
   "cell_type": "markdown",
   "id": "5472a7d0",
   "metadata": {},
   "source": [
    "### Dealing with outliers"
   ]
  },
  {
   "cell_type": "markdown",
   "id": "14cf17f1",
   "metadata": {},
   "source": [
    "# 3. Modelling"
   ]
  },
  {
   "cell_type": "markdown",
   "id": "2b157c78",
   "metadata": {},
   "source": [
    "### Preprocessing Test Data"
   ]
  },
  {
   "cell_type": "code",
   "execution_count": 127,
   "id": "5a86cb1e",
   "metadata": {},
   "outputs": [],
   "source": [
    "test_df = prepare_df(raw_test_df)"
   ]
  },
  {
   "cell_type": "code",
   "execution_count": 130,
   "id": "7f379dae",
   "metadata": {},
   "outputs": [
    {
     "data": {
      "text/plain": [
       "((127361, 13),\n",
       " ID                        0\n",
       " DATETIME                  0\n",
       " YEAR                      0\n",
       " MONTH                     0\n",
       " DAY                       0\n",
       " DAY_OF_WEEK               0\n",
       " HOUR                      0\n",
       " HOUR_OF_WEEK              0\n",
       " SENSOR1_PM2.5             0\n",
       " SENSOR2_PM2.5             0\n",
       " TEMPERATURE           88090\n",
       " RELATIVE_HUMIDITY     88090\n",
       " OFFSET_FAULT         127361\n",
       " dtype: int64)"
      ]
     },
     "execution_count": 130,
     "metadata": {},
     "output_type": "execute_result"
    }
   ],
   "source": [
    "test_df.shape, test_df.isna().sum()"
   ]
  },
  {
   "cell_type": "markdown",
   "id": "8ac012eb",
   "metadata": {},
   "source": [
    "Fill missing values in the dataset"
   ]
  },
  {
   "cell_type": "code",
   "execution_count": 133,
   "id": "8b1242ec",
   "metadata": {},
   "outputs": [],
   "source": [
    "test_df = fill_na(test_df, 'test')"
   ]
  },
  {
   "cell_type": "markdown",
   "id": "ac2f6566",
   "metadata": {},
   "source": [
    "### Model Preparation"
   ]
  },
  {
   "cell_type": "markdown",
   "id": "5f742a08",
   "metadata": {},
   "source": [
    "#### Import Packages"
   ]
  },
  {
   "cell_type": "code",
   "execution_count": 87,
   "id": "9ae778e9",
   "metadata": {},
   "outputs": [],
   "source": [
    "from sklearn.ensemble import RandomForestClassifier\n",
    "from sklearn.model_selection import train_test_split\n",
    "\n",
    "#Packages for measuring model's accuracy\n",
    "from sklearn.metrics import  accuracy_score, confusion_matrix, classification_report, ConfusionMatrixDisplay"
   ]
  },
  {
   "cell_type": "markdown",
   "id": "cb954757",
   "metadata": {},
   "source": [
    "#### Random Forest Classifier"
   ]
  },
  {
   "cell_type": "code",
   "execution_count": 147,
   "id": "e25cafff",
   "metadata": {},
   "outputs": [
    {
     "name": "stdout",
     "output_type": "stream",
     "text": [
      "Accuracy score: 0.8552897233999596\n",
      "\n",
      "\n",
      "              precision    recall  f1-score   support\n",
      "\n",
      "           0       0.86      0.93      0.89     37442\n",
      "           1       0.85      0.73      0.79     21994\n",
      "\n",
      "    accuracy                           0.86     59436\n",
      "   macro avg       0.86      0.83      0.84     59436\n",
      "weighted avg       0.86      0.86      0.85     59436\n",
      "\n"
     ]
    }
   ],
   "source": [
    "# Splitting the dataset into X & y\n",
    "X = train_df[[col for col in train_df.columns if col not in\\\n",
    "    ['OFFSET_FAULT', 'ID', 'DATETIME']\n",
    "    ]]\n",
    "y = train_df['OFFSET_FAULT']\n",
    "\n",
    "#Splitting the data into training & testing sets.\n",
    "X_train, X_test, y_train, y_test = train_test_split(X, y, test_size=0.2, \n",
    "                                        random_state= 42)\n",
    "\n",
    "# Instantiate the RandomForestClassifier & fit the train data\n",
    "rfc = RandomForestClassifier(\n",
    "    max_depth= 8, n_estimators = 8, random_state= 42\n",
    ")\n",
    "#Fit the train data\n",
    "rfc.fit(X_train, y_train)\n",
    "\n",
    "#Test the model\n",
    "y_pred = rfc.predict(X_test)\n",
    "\n",
    "#Calculate the model's accuracy\n",
    "print(f'Accuracy score: {accuracy_score(y_test, y_pred)}')\n",
    "print('\\n')\n",
    "print(f'{classification_report(y_test, y_pred)}')\n",
    "\n"
   ]
  },
  {
   "cell_type": "code",
   "execution_count": 135,
   "id": "686a8412",
   "metadata": {},
   "outputs": [
    {
     "data": {
      "text/html": [
       "<div><div id=f98fc1e5-57bd-4140-bf44-8e10f47b1f3d style=\"display:none; background-color:#9D6CFF; color:white; width:200px; height:30px; padding-left:5px; border-radius:4px; flex-direction:row; justify-content:space-around; align-items:center;\" onmouseover=\"this.style.backgroundColor='#BA9BF8'\" onmouseout=\"this.style.backgroundColor='#9D6CFF'\" onclick=\"window.commands?.execute('create-mitosheet-from-dataframe-output');\">See Full Dataframe in Mito</div> <script> if (window.commands.hasCommand('create-mitosheet-from-dataframe-output')) document.getElementById('f98fc1e5-57bd-4140-bf44-8e10f47b1f3d').style.display = 'flex' </script> <table border=\"1\" class=\"dataframe\">\n",
       "  <thead>\n",
       "    <tr style=\"text-align: right;\">\n",
       "      <th></th>\n",
       "      <th>YEAR</th>\n",
       "      <th>MONTH</th>\n",
       "      <th>DAY</th>\n",
       "      <th>DAY_OF_WEEK</th>\n",
       "      <th>HOUR</th>\n",
       "      <th>HOUR_OF_WEEK</th>\n",
       "      <th>SENSOR1_PM2.5</th>\n",
       "      <th>SENSOR2_PM2.5</th>\n",
       "      <th>TEMPERATURE</th>\n",
       "      <th>RELATIVE_HUMIDITY</th>\n",
       "    </tr>\n",
       "  </thead>\n",
       "  <tbody>\n",
       "    <tr>\n",
       "      <th>292569</th>\n",
       "      <td>2022</td>\n",
       "      <td>1</td>\n",
       "      <td>7</td>\n",
       "      <td>4</td>\n",
       "      <td>11</td>\n",
       "      <td>107</td>\n",
       "      <td>41.700000</td>\n",
       "      <td>35.600000</td>\n",
       "      <td>29.0</td>\n",
       "      <td>60.000000</td>\n",
       "    </tr>\n",
       "    <tr>\n",
       "      <th>153057</th>\n",
       "      <td>2022</td>\n",
       "      <td>1</td>\n",
       "      <td>6</td>\n",
       "      <td>3</td>\n",
       "      <td>22</td>\n",
       "      <td>94</td>\n",
       "      <td>122.530000</td>\n",
       "      <td>103.300000</td>\n",
       "      <td>22.1</td>\n",
       "      <td>80.000000</td>\n",
       "    </tr>\n",
       "    <tr>\n",
       "      <th>53209</th>\n",
       "      <td>2021</td>\n",
       "      <td>11</td>\n",
       "      <td>4</td>\n",
       "      <td>3</td>\n",
       "      <td>5</td>\n",
       "      <td>77</td>\n",
       "      <td>38.930000</td>\n",
       "      <td>47.020000</td>\n",
       "      <td>17.8</td>\n",
       "      <td>97.000000</td>\n",
       "    </tr>\n",
       "    <tr>\n",
       "      <th>151471</th>\n",
       "      <td>2021</td>\n",
       "      <td>11</td>\n",
       "      <td>27</td>\n",
       "      <td>5</td>\n",
       "      <td>15</td>\n",
       "      <td>135</td>\n",
       "      <td>7.300000</td>\n",
       "      <td>3.900000</td>\n",
       "      <td>28.1</td>\n",
       "      <td>63.000000</td>\n",
       "    </tr>\n",
       "    <tr>\n",
       "      <th>68411</th>\n",
       "      <td>2021</td>\n",
       "      <td>12</td>\n",
       "      <td>25</td>\n",
       "      <td>5</td>\n",
       "      <td>3</td>\n",
       "      <td>123</td>\n",
       "      <td>46.770000</td>\n",
       "      <td>39.050000</td>\n",
       "      <td>22.0</td>\n",
       "      <td>88.000000</td>\n",
       "    </tr>\n",
       "    <tr>\n",
       "      <th>...</th>\n",
       "      <td>...</td>\n",
       "      <td>...</td>\n",
       "      <td>...</td>\n",
       "      <td>...</td>\n",
       "      <td>...</td>\n",
       "      <td>...</td>\n",
       "      <td>...</td>\n",
       "      <td>...</td>\n",
       "      <td>...</td>\n",
       "      <td>...</td>\n",
       "    </tr>\n",
       "    <tr>\n",
       "      <th>119879</th>\n",
       "      <td>2021</td>\n",
       "      <td>11</td>\n",
       "      <td>24</td>\n",
       "      <td>2</td>\n",
       "      <td>11</td>\n",
       "      <td>59</td>\n",
       "      <td>35.770000</td>\n",
       "      <td>28.230000</td>\n",
       "      <td>&lt;bound method NDFrame._add_numeric_operations.&lt;locals&gt;.mean of 0         17.4\\n1         25.0\\n2         24.9\\n3         24.9\\n4         20.9\\n          ... \\n297172    28.6\\n297173    21.6\\n297174    20.2\\n297175    20.6\\n297176    17.3\\nName: TEMPERATURE, Length: 297177, dtype: float64&gt;</td>\n",
       "      <td>78.653623</td>\n",
       "    </tr>\n",
       "    <tr>\n",
       "      <th>259178</th>\n",
       "      <td>2021</td>\n",
       "      <td>12</td>\n",
       "      <td>7</td>\n",
       "      <td>1</td>\n",
       "      <td>7</td>\n",
       "      <td>31</td>\n",
       "      <td>72.980000</td>\n",
       "      <td>60.900000</td>\n",
       "      <td>20.4</td>\n",
       "      <td>93.000000</td>\n",
       "    </tr>\n",
       "    <tr>\n",
       "      <th>131932</th>\n",
       "      <td>2021</td>\n",
       "      <td>10</td>\n",
       "      <td>26</td>\n",
       "      <td>1</td>\n",
       "      <td>12</td>\n",
       "      <td>36</td>\n",
       "      <td>15.580000</td>\n",
       "      <td>14.400000</td>\n",
       "      <td>29.4</td>\n",
       "      <td>57.000000</td>\n",
       "    </tr>\n",
       "    <tr>\n",
       "      <th>146867</th>\n",
       "      <td>2021</td>\n",
       "      <td>12</td>\n",
       "      <td>27</td>\n",
       "      <td>0</td>\n",
       "      <td>8</td>\n",
       "      <td>8</td>\n",
       "      <td>37.370000</td>\n",
       "      <td>36.100000</td>\n",
       "      <td>19.3</td>\n",
       "      <td>95.000000</td>\n",
       "    </tr>\n",
       "    <tr>\n",
       "      <th>121958</th>\n",
       "      <td>2021</td>\n",
       "      <td>10</td>\n",
       "      <td>19</td>\n",
       "      <td>1</td>\n",
       "      <td>10</td>\n",
       "      <td>34</td>\n",
       "      <td>40.751195</td>\n",
       "      <td>38.183018</td>\n",
       "      <td>20.4</td>\n",
       "      <td>91.000000</td>\n",
       "    </tr>\n",
       "  </tbody>\n",
       "</table></div>"
      ],
      "text/plain": [
       "        YEAR  MONTH  DAY  DAY_OF_WEEK  HOUR  HOUR_OF_WEEK  SENSOR1_PM2.5  \\\n",
       "292569  2022      1    7            4    11           107      41.700000   \n",
       "153057  2022      1    6            3    22            94     122.530000   \n",
       "53209   2021     11    4            3     5            77      38.930000   \n",
       "151471  2021     11   27            5    15           135       7.300000   \n",
       "68411   2021     12   25            5     3           123      46.770000   \n",
       "...      ...    ...  ...          ...   ...           ...            ...   \n",
       "119879  2021     11   24            2    11            59      35.770000   \n",
       "259178  2021     12    7            1     7            31      72.980000   \n",
       "131932  2021     10   26            1    12            36      15.580000   \n",
       "146867  2021     12   27            0     8             8      37.370000   \n",
       "121958  2021     10   19            1    10            34      40.751195   \n",
       "\n",
       "        SENSOR2_PM2.5                                        TEMPERATURE  \\\n",
       "292569      35.600000                                               29.0   \n",
       "153057     103.300000                                               22.1   \n",
       "53209       47.020000                                               17.8   \n",
       "151471       3.900000                                               28.1   \n",
       "68411       39.050000                                               22.0   \n",
       "...               ...                                                ...   \n",
       "119879      28.230000  <bound method NDFrame._add_numeric_operations....   \n",
       "259178      60.900000                                               20.4   \n",
       "131932      14.400000                                               29.4   \n",
       "146867      36.100000                                               19.3   \n",
       "121958      38.183018                                               20.4   \n",
       "\n",
       "        RELATIVE_HUMIDITY  \n",
       "292569          60.000000  \n",
       "153057          80.000000  \n",
       "53209           97.000000  \n",
       "151471          63.000000  \n",
       "68411           88.000000  \n",
       "...                   ...  \n",
       "119879          78.653623  \n",
       "259178          93.000000  \n",
       "131932          57.000000  \n",
       "146867          95.000000  \n",
       "121958          91.000000  \n",
       "\n",
       "[237741 rows x 10 columns]"
      ]
     },
     "execution_count": 135,
     "metadata": {},
     "output_type": "execute_result"
    }
   ],
   "source": [
    "X_train"
   ]
  },
  {
   "cell_type": "markdown",
   "id": "2729ff06",
   "metadata": {},
   "source": [
    "#### XG Boost Classifier"
   ]
  },
  {
   "cell_type": "markdown",
   "id": "3d9b39a2",
   "metadata": {},
   "source": []
  }
 ],
 "metadata": {
  "kernelspec": {
   "display_name": "Python 3 (ipykernel)",
   "language": "python",
   "name": "python3"
  },
  "language_info": {
   "codemirror_mode": {
    "name": "ipython",
    "version": 3
   },
   "file_extension": ".py",
   "mimetype": "text/x-python",
   "name": "python",
   "nbconvert_exporter": "python",
   "pygments_lexer": "ipython3",
   "version": "3.9.7"
  }
 },
 "nbformat": 4,
 "nbformat_minor": 5
}
