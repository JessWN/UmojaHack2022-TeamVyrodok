{
 "cells": [
  {
   "cell_type": "markdown",
   "id": "65a12f1e",
   "metadata": {},
   "source": [
    "### FAULTY AIR QUALITY SENSOR CHALLENGE"
   ]
  },
  {
   "cell_type": "markdown",
   "id": "18e07056",
   "metadata": {},
   "source": [
    "#### VYRODOK TEAM\n",
    "School: EDSA\n",
    "\n",
    "- Eric Mbuthia\n",
    "- Linda Kelida\n",
    "- Teddy Waweru\n",
    "- Jessica Njuguna"
   ]
  },
  {
   "cell_type": "markdown",
   "id": "1ee561ee",
   "metadata": {},
   "source": [
    "# 1. EDA Process"
   ]
  },
  {
   "cell_type": "markdown",
   "id": "1524eaaa",
   "metadata": {},
   "source": [
    "#### Import EDA Packages"
   ]
  },
  {
   "cell_type": "code",
   "execution_count": 204,
   "id": "f0cd59ac",
   "metadata": {},
   "outputs": [],
   "source": [
    "import pandas as pd\n",
    "import numpy as np\n",
    "import matplotlib.pyplot as plt\n",
    "\n",
    "import seaborn as sns\n",
    "sns.set()"
   ]
  },
  {
   "cell_type": "markdown",
   "id": "a00c38df",
   "metadata": {},
   "source": [
    "#### Import Data"
   ]
  },
  {
   "cell_type": "code",
   "execution_count": 205,
   "id": "f56c51d9",
   "metadata": {},
   "outputs": [],
   "source": [
    "#A00\n",
    "# Load Files\n",
    "train_df = pd.read_csv('Challenge/data/train.csv', parse_dates=['Datetime'])\n",
    "test_df = pd.read_csv('Challenge/data/test.csv', parse_dates=['Datetime'])\n",
    "samp_df = pd.read_csv('Challenge/data/SampleSubmission.csv')"
   ]
  },
  {
   "cell_type": "markdown",
   "id": "46a7b956",
   "metadata": {},
   "source": [
    "## Statistical Summaries"
   ]
  },
  {
   "cell_type": "code",
   "execution_count": 206,
   "id": "9c158afa",
   "metadata": {},
   "outputs": [
    {
     "data": {
      "text/plain": [
       "(Index(['ID', 'Datetime', 'Sensor1_PM2.5', 'Sensor2_PM2.5', 'Temperature',\n",
       "        'Relative_Humidity', 'Offset_fault'],\n",
       "       dtype='object'),\n",
       " Index(['ID', 'Datetime', 'Sensor1_PM2.5', 'Sensor2_PM2.5', 'Temperature',\n",
       "        'Relative_Humidity'],\n",
       "       dtype='object'),\n",
       " Index(['ID', 'Offset_fault'], dtype='object'))"
      ]
     },
     "execution_count": 206,
     "metadata": {},
     "output_type": "execute_result"
    }
   ],
   "source": [
    "train_df.columns, test_df.columns, samp_df.columns"
   ]
  },
  {
   "cell_type": "code",
   "execution_count": 207,
   "id": "02701bc9",
   "metadata": {},
   "outputs": [
    {
     "data": {
      "text/plain": [
       "((297177, 7),\n",
       " (127361, 6),\n",
       " (127361, 2),\n",
       " ID                      0\n",
       " Datetime                0\n",
       " Sensor1_PM2.5        3614\n",
       " Sensor2_PM2.5        3614\n",
       " Temperature          3549\n",
       " Relative_Humidity    3549\n",
       " Offset_fault            0\n",
       " dtype: int64,\n",
       " ID                       0\n",
       " Datetime                 0\n",
       " Sensor1_PM2.5            0\n",
       " Sensor2_PM2.5            0\n",
       " Temperature          88090\n",
       " Relative_Humidity    88090\n",
       " dtype: int64)"
      ]
     },
     "execution_count": 207,
     "metadata": {},
     "output_type": "execute_result"
    }
   ],
   "source": [
    "train_df.shape, test_df.shape, samp_df.shape, train_df.isna().sum(), test_df.isna().sum()"
   ]
  },
  {
   "cell_type": "code",
   "execution_count": 208,
   "id": "6bf57dc6",
   "metadata": {},
   "outputs": [
    {
     "name": "stdout",
     "output_type": "stream",
     "text": [
      "<class 'pandas.core.frame.DataFrame'>\n",
      "RangeIndex: 297177 entries, 0 to 297176\n",
      "Data columns (total 7 columns):\n",
      " #   Column             Non-Null Count   Dtype         \n",
      "---  ------             --------------   -----         \n",
      " 0   ID                 297177 non-null  object        \n",
      " 1   Datetime           297177 non-null  datetime64[ns]\n",
      " 2   Sensor1_PM2.5      293563 non-null  float64       \n",
      " 3   Sensor2_PM2.5      293563 non-null  float64       \n",
      " 4   Temperature        293628 non-null  float64       \n",
      " 5   Relative_Humidity  293628 non-null  float64       \n",
      " 6   Offset_fault       297177 non-null  int64         \n",
      "dtypes: datetime64[ns](1), float64(4), int64(1), object(1)\n",
      "memory usage: 15.9+ MB\n"
     ]
    },
    {
     "data": {
      "text/plain": [
       "(None,\n",
       " ID                           object\n",
       " Datetime             datetime64[ns]\n",
       " Sensor1_PM2.5               float64\n",
       " Sensor2_PM2.5               float64\n",
       " Temperature                 float64\n",
       " Relative_Humidity           float64\n",
       " Offset_fault                  int64\n",
       " dtype: object)"
      ]
     },
     "execution_count": 208,
     "metadata": {},
     "output_type": "execute_result"
    }
   ],
   "source": [
    "train_df.info(), train_df.dtypes"
   ]
  },
  {
   "cell_type": "markdown",
   "id": "d3cddddf",
   "metadata": {},
   "source": [
    "We convert the Datetime column to datetime format, & add columns for the year, month, day & hour"
   ]
  },
  {
   "cell_type": "code",
   "execution_count": 209,
   "id": "801dfc7f",
   "metadata": {},
   "outputs": [
    {
     "data": {
      "text/html": [
       "<div>\n",
       "<style scoped>\n",
       "    .dataframe tbody tr th:only-of-type {\n",
       "        vertical-align: middle;\n",
       "    }\n",
       "\n",
       "    .dataframe tbody tr th {\n",
       "        vertical-align: top;\n",
       "    }\n",
       "\n",
       "    .dataframe thead th {\n",
       "        text-align: right;\n",
       "    }\n",
       "</style>\n",
       "<table border=\"1\" class=\"dataframe\">\n",
       "  <thead>\n",
       "    <tr style=\"text-align: right;\">\n",
       "      <th></th>\n",
       "      <th>ID</th>\n",
       "      <th>DATETIME</th>\n",
       "      <th>YEAR</th>\n",
       "      <th>MONTH</th>\n",
       "      <th>DAY</th>\n",
       "      <th>DAY_OF_WEEK</th>\n",
       "      <th>HOUR</th>\n",
       "      <th>HOUR_OF_WEEK</th>\n",
       "      <th>SENSOR1_2.5</th>\n",
       "      <th>SENSOR2_2.5</th>\n",
       "      <th>TEMPERATURE</th>\n",
       "      <th>RELATIVE_HUMIDITY</th>\n",
       "      <th>OFFSET_FAULT</th>\n",
       "    </tr>\n",
       "  </thead>\n",
       "  <tbody>\n",
       "    <tr>\n",
       "      <th>0</th>\n",
       "      <td>ID_QF0ZTQJ2SF5Q</td>\n",
       "      <td>2021-11-03 04:06:31</td>\n",
       "      <td>2021</td>\n",
       "      <td>11</td>\n",
       "      <td>3</td>\n",
       "      <td>2</td>\n",
       "      <td>4</td>\n",
       "      <td>52</td>\n",
       "      <td>52.58</td>\n",
       "      <td>49.52</td>\n",
       "      <td>17.4</td>\n",
       "      <td>96.0</td>\n",
       "      <td>0</td>\n",
       "    </tr>\n",
       "    <tr>\n",
       "      <th>1</th>\n",
       "      <td>ID_4GTK689CNX5S</td>\n",
       "      <td>2021-11-08 18:43:23</td>\n",
       "      <td>2021</td>\n",
       "      <td>11</td>\n",
       "      <td>8</td>\n",
       "      <td>0</td>\n",
       "      <td>18</td>\n",
       "      <td>18</td>\n",
       "      <td>35.25</td>\n",
       "      <td>33.40</td>\n",
       "      <td>25.0</td>\n",
       "      <td>75.0</td>\n",
       "      <td>0</td>\n",
       "    </tr>\n",
       "    <tr>\n",
       "      <th>2</th>\n",
       "      <td>ID_DL7VVKW9U7XQ</td>\n",
       "      <td>2021-11-07 09:50:33</td>\n",
       "      <td>2021</td>\n",
       "      <td>11</td>\n",
       "      <td>7</td>\n",
       "      <td>6</td>\n",
       "      <td>9</td>\n",
       "      <td>153</td>\n",
       "      <td>19.18</td>\n",
       "      <td>23.50</td>\n",
       "      <td>24.9</td>\n",
       "      <td>75.0</td>\n",
       "      <td>0</td>\n",
       "    </tr>\n",
       "    <tr>\n",
       "      <th>3</th>\n",
       "      <td>ID_6XQOMBXM2DG3</td>\n",
       "      <td>2022-01-01 18:55:15</td>\n",
       "      <td>2022</td>\n",
       "      <td>1</td>\n",
       "      <td>1</td>\n",
       "      <td>5</td>\n",
       "      <td>18</td>\n",
       "      <td>138</td>\n",
       "      <td>19.40</td>\n",
       "      <td>15.48</td>\n",
       "      <td>24.9</td>\n",
       "      <td>70.0</td>\n",
       "      <td>0</td>\n",
       "    </tr>\n",
       "    <tr>\n",
       "      <th>4</th>\n",
       "      <td>ID_UQZW9ISJY9QE</td>\n",
       "      <td>2021-11-05 22:23:48</td>\n",
       "      <td>2021</td>\n",
       "      <td>11</td>\n",
       "      <td>5</td>\n",
       "      <td>4</td>\n",
       "      <td>22</td>\n",
       "      <td>118</td>\n",
       "      <td>38.30</td>\n",
       "      <td>34.77</td>\n",
       "      <td>20.9</td>\n",
       "      <td>89.0</td>\n",
       "      <td>0</td>\n",
       "    </tr>\n",
       "    <tr>\n",
       "      <th>...</th>\n",
       "      <td>...</td>\n",
       "      <td>...</td>\n",
       "      <td>...</td>\n",
       "      <td>...</td>\n",
       "      <td>...</td>\n",
       "      <td>...</td>\n",
       "      <td>...</td>\n",
       "      <td>...</td>\n",
       "      <td>...</td>\n",
       "      <td>...</td>\n",
       "      <td>...</td>\n",
       "      <td>...</td>\n",
       "      <td>...</td>\n",
       "    </tr>\n",
       "    <tr>\n",
       "      <th>297172</th>\n",
       "      <td>ID_AQFTZIKVX2QL</td>\n",
       "      <td>2021-11-19 12:32:00</td>\n",
       "      <td>2021</td>\n",
       "      <td>11</td>\n",
       "      <td>19</td>\n",
       "      <td>4</td>\n",
       "      <td>12</td>\n",
       "      <td>108</td>\n",
       "      <td>36.40</td>\n",
       "      <td>37.77</td>\n",
       "      <td>28.6</td>\n",
       "      <td>62.0</td>\n",
       "      <td>0</td>\n",
       "    </tr>\n",
       "    <tr>\n",
       "      <th>297173</th>\n",
       "      <td>ID_2X0AJPWOMJNA</td>\n",
       "      <td>2021-11-22 01:22:54</td>\n",
       "      <td>2021</td>\n",
       "      <td>11</td>\n",
       "      <td>22</td>\n",
       "      <td>0</td>\n",
       "      <td>1</td>\n",
       "      <td>1</td>\n",
       "      <td>50.12</td>\n",
       "      <td>40.63</td>\n",
       "      <td>21.6</td>\n",
       "      <td>86.0</td>\n",
       "      <td>1</td>\n",
       "    </tr>\n",
       "    <tr>\n",
       "      <th>297174</th>\n",
       "      <td>ID_0OAQMV7USTI4</td>\n",
       "      <td>2021-11-05 01:27:31</td>\n",
       "      <td>2021</td>\n",
       "      <td>11</td>\n",
       "      <td>5</td>\n",
       "      <td>4</td>\n",
       "      <td>1</td>\n",
       "      <td>97</td>\n",
       "      <td>53.68</td>\n",
       "      <td>45.23</td>\n",
       "      <td>20.2</td>\n",
       "      <td>94.0</td>\n",
       "      <td>1</td>\n",
       "    </tr>\n",
       "    <tr>\n",
       "      <th>297175</th>\n",
       "      <td>ID_Y8FDAO06VXGJ</td>\n",
       "      <td>2021-11-23 22:09:30</td>\n",
       "      <td>2021</td>\n",
       "      <td>11</td>\n",
       "      <td>23</td>\n",
       "      <td>1</td>\n",
       "      <td>22</td>\n",
       "      <td>46</td>\n",
       "      <td>96.45</td>\n",
       "      <td>114.67</td>\n",
       "      <td>20.6</td>\n",
       "      <td>93.0</td>\n",
       "      <td>0</td>\n",
       "    </tr>\n",
       "    <tr>\n",
       "      <th>297176</th>\n",
       "      <td>ID_3XEXH72VWK4J</td>\n",
       "      <td>2021-11-23 06:33:04</td>\n",
       "      <td>2021</td>\n",
       "      <td>11</td>\n",
       "      <td>23</td>\n",
       "      <td>1</td>\n",
       "      <td>6</td>\n",
       "      <td>30</td>\n",
       "      <td>44.27</td>\n",
       "      <td>36.77</td>\n",
       "      <td>17.3</td>\n",
       "      <td>95.0</td>\n",
       "      <td>1</td>\n",
       "    </tr>\n",
       "  </tbody>\n",
       "</table>\n",
       "<p>297177 rows × 13 columns</p>\n",
       "</div>"
      ],
      "text/plain": [
       "                     ID            DATETIME  YEAR  MONTH  DAY  DAY_OF_WEEK  \\\n",
       "0       ID_QF0ZTQJ2SF5Q 2021-11-03 04:06:31  2021     11    3            2   \n",
       "1       ID_4GTK689CNX5S 2021-11-08 18:43:23  2021     11    8            0   \n",
       "2       ID_DL7VVKW9U7XQ 2021-11-07 09:50:33  2021     11    7            6   \n",
       "3       ID_6XQOMBXM2DG3 2022-01-01 18:55:15  2022      1    1            5   \n",
       "4       ID_UQZW9ISJY9QE 2021-11-05 22:23:48  2021     11    5            4   \n",
       "...                 ...                 ...   ...    ...  ...          ...   \n",
       "297172  ID_AQFTZIKVX2QL 2021-11-19 12:32:00  2021     11   19            4   \n",
       "297173  ID_2X0AJPWOMJNA 2021-11-22 01:22:54  2021     11   22            0   \n",
       "297174  ID_0OAQMV7USTI4 2021-11-05 01:27:31  2021     11    5            4   \n",
       "297175  ID_Y8FDAO06VXGJ 2021-11-23 22:09:30  2021     11   23            1   \n",
       "297176  ID_3XEXH72VWK4J 2021-11-23 06:33:04  2021     11   23            1   \n",
       "\n",
       "        HOUR  HOUR_OF_WEEK  SENSOR1_2.5  SENSOR2_2.5  TEMPERATURE  \\\n",
       "0          4            52        52.58        49.52         17.4   \n",
       "1         18            18        35.25        33.40         25.0   \n",
       "2          9           153        19.18        23.50         24.9   \n",
       "3         18           138        19.40        15.48         24.9   \n",
       "4         22           118        38.30        34.77         20.9   \n",
       "...      ...           ...          ...          ...          ...   \n",
       "297172    12           108        36.40        37.77         28.6   \n",
       "297173     1             1        50.12        40.63         21.6   \n",
       "297174     1            97        53.68        45.23         20.2   \n",
       "297175    22            46        96.45       114.67         20.6   \n",
       "297176     6            30        44.27        36.77         17.3   \n",
       "\n",
       "        RELATIVE_HUMIDITY  OFFSET_FAULT  \n",
       "0                    96.0             0  \n",
       "1                    75.0             0  \n",
       "2                    75.0             0  \n",
       "3                    70.0             0  \n",
       "4                    89.0             0  \n",
       "...                   ...           ...  \n",
       "297172               62.0             0  \n",
       "297173               86.0             1  \n",
       "297174               94.0             1  \n",
       "297175               93.0             0  \n",
       "297176               95.0             1  \n",
       "\n",
       "[297177 rows x 13 columns]"
      ]
     },
     "execution_count": 209,
     "metadata": {},
     "output_type": "execute_result"
    }
   ],
   "source": [
    "#A00\n",
    "#Convert datetime format\n",
    "train_df['Datetime'] = pd.to_datetime(train_df['Datetime'])\n",
    "\n",
    "# Add columns for year, month, day, hour\n",
    "train_df['YEAR'] = pd.DatetimeIndex(train_df['Datetime']).year\n",
    "train_df['MONTH'] = pd.DatetimeIndex(train_df['Datetime']).month\n",
    "train_df['DAY'] = pd.DatetimeIndex(train_df['Datetime']).day\n",
    "train_df['HOUR'] = pd.DatetimeIndex(train_df['Datetime']).hour\n",
    "train_df['DAY_OF_WEEK'] = pd.DatetimeIndex(train_df['Datetime']).dayofweek\n",
    "train_df['HOUR_OF_WEEK'] = ((pd.DatetimeIndex(train_df['Datetime']).dayofweek * 24) + pd.DatetimeIndex(train_df['Datetime']).hour)\n",
    "\n",
    "\n",
    "#Standardize column titles\n",
    "train_df.rename(\n",
    "    columns = {\n",
    "        'Datetime': 'DATETIME', 'Sensor1_PM2.5' : 'SENSOR1_2.5',\n",
    "        'Sensor2_PM2.5' : 'SENSOR2_2.5', 'Temperature': 'TEMPERATURE',\n",
    "        'Relative_Humidity': 'RELATIVE_HUMIDITY', 'Offset_fault': 'OFFSET_FAULT'\n",
    "    }, inplace=True\n",
    ")\n",
    "\n",
    "#Re-order columns\n",
    "train_df.reindex(\n",
    "    columns = ['ID'] + ['DATETIME'] + ['YEAR'] + ['MONTH'] + ['DAY'] + \\\n",
    "        ['DAY_OF_WEEK'] + ['HOUR'] + ['HOUR_OF_WEEK'] + \\\n",
    "        [col for col in train_df.columns if col not in \\\n",
    "            ['ID', 'DATETIME', 'YEAR', 'MONTH', 'DAY', 'HOUR',\n",
    "            'OFFSET_FAULT', 'DAY_OF_WEEK', 'HOUR_OF_WEEK']]\\\n",
    "                + ['OFFSET_FAULT']\n",
    ")"
   ]
  },
  {
   "cell_type": "code",
   "execution_count": 210,
   "id": "3faa92cd",
   "metadata": {},
   "outputs": [],
   "source": [
    "\n",
    "# Add columns for year, month, day, hour\n",
    "test_df['YEAR'] = pd.DatetimeIndex(test_df['Datetime']).year\n",
    "test_df['MONTH'] = pd.DatetimeIndex(test_df['Datetime']).month\n",
    "test_df['DAY'] = pd.DatetimeIndex(test_df['Datetime']).day\n",
    "test_df['HOUR'] = pd.DatetimeIndex(test_df['Datetime']).hour\n",
    "test_df['DAY_OF_WEEK'] = pd.DatetimeIndex(test_df['Datetime']).dayofweek\n",
    "test_df['HOUR_OF_WEEK'] = ((pd.DatetimeIndex(test_df['Datetime']).dayofweek * 24) + pd.DatetimeIndex(test_df['Datetime']).hour)\n",
    "\n",
    "\n",
    "#Standardize column titles\n",
    "test_df.rename(\n",
    "    columns = {\n",
    "        'Datetime': 'DATETIME', 'Sensor1_PM2.5' : 'SENSOR1_2.5',\n",
    "        'Sensor2_PM2.5' : 'SENSOR2_2.5', 'Temperature': 'TEMPERATURE',\n",
    "        'Relative_Humidity': 'RELATIVE_HUMIDITY'\n",
    "    }, inplace=True\n",
    ")"
   ]
  },
  {
   "cell_type": "code",
   "execution_count": 211,
   "id": "4edede76",
   "metadata": {},
   "outputs": [
    {
     "data": {
      "text/html": [
       "<div>\n",
       "<style scoped>\n",
       "    .dataframe tbody tr th:only-of-type {\n",
       "        vertical-align: middle;\n",
       "    }\n",
       "\n",
       "    .dataframe tbody tr th {\n",
       "        vertical-align: top;\n",
       "    }\n",
       "\n",
       "    .dataframe thead th {\n",
       "        text-align: right;\n",
       "    }\n",
       "</style>\n",
       "<table border=\"1\" class=\"dataframe\">\n",
       "  <thead>\n",
       "    <tr style=\"text-align: right;\">\n",
       "      <th></th>\n",
       "      <th>ID</th>\n",
       "      <th>DATETIME</th>\n",
       "      <th>SENSOR1_2.5</th>\n",
       "      <th>SENSOR2_2.5</th>\n",
       "      <th>TEMPERATURE</th>\n",
       "      <th>RELATIVE_HUMIDITY</th>\n",
       "      <th>YEAR</th>\n",
       "      <th>MONTH</th>\n",
       "      <th>DAY</th>\n",
       "      <th>HOUR</th>\n",
       "      <th>DAY_OF_WEEK</th>\n",
       "      <th>HOUR_OF_WEEK</th>\n",
       "    </tr>\n",
       "  </thead>\n",
       "  <tbody>\n",
       "    <tr>\n",
       "      <th>0</th>\n",
       "      <td>ID_STL3V9B2OU12</td>\n",
       "      <td>2022-01-28 08:49:41</td>\n",
       "      <td>90.75</td>\n",
       "      <td>114.78</td>\n",
       "      <td>22.2</td>\n",
       "      <td>56.0</td>\n",
       "      <td>2022</td>\n",
       "      <td>1</td>\n",
       "      <td>28</td>\n",
       "      <td>8</td>\n",
       "      <td>4</td>\n",
       "      <td>104</td>\n",
       "    </tr>\n",
       "    <tr>\n",
       "      <th>1</th>\n",
       "      <td>ID_U2EKAY4SGA94</td>\n",
       "      <td>2022-02-16 21:30:17</td>\n",
       "      <td>56.03</td>\n",
       "      <td>52.18</td>\n",
       "      <td>NaN</td>\n",
       "      <td>NaN</td>\n",
       "      <td>2022</td>\n",
       "      <td>2</td>\n",
       "      <td>16</td>\n",
       "      <td>21</td>\n",
       "      <td>2</td>\n",
       "      <td>69</td>\n",
       "    </tr>\n",
       "    <tr>\n",
       "      <th>2</th>\n",
       "      <td>ID_UJFLEWQR0U4N</td>\n",
       "      <td>2022-01-24 17:57:18</td>\n",
       "      <td>387.35</td>\n",
       "      <td>346.73</td>\n",
       "      <td>28.1</td>\n",
       "      <td>63.0</td>\n",
       "      <td>2022</td>\n",
       "      <td>1</td>\n",
       "      <td>24</td>\n",
       "      <td>17</td>\n",
       "      <td>0</td>\n",
       "      <td>17</td>\n",
       "    </tr>\n",
       "    <tr>\n",
       "      <th>3</th>\n",
       "      <td>ID_S2C2GPGA4R5I</td>\n",
       "      <td>2022-01-31 07:07:09</td>\n",
       "      <td>63.17</td>\n",
       "      <td>83.85</td>\n",
       "      <td>21.6</td>\n",
       "      <td>82.0</td>\n",
       "      <td>2022</td>\n",
       "      <td>1</td>\n",
       "      <td>31</td>\n",
       "      <td>7</td>\n",
       "      <td>0</td>\n",
       "      <td>7</td>\n",
       "    </tr>\n",
       "    <tr>\n",
       "      <th>4</th>\n",
       "      <td>ID_5V2C2ZL221H8</td>\n",
       "      <td>2022-01-31 00:37:05</td>\n",
       "      <td>69.23</td>\n",
       "      <td>53.07</td>\n",
       "      <td>22.7</td>\n",
       "      <td>80.0</td>\n",
       "      <td>2022</td>\n",
       "      <td>1</td>\n",
       "      <td>31</td>\n",
       "      <td>0</td>\n",
       "      <td>0</td>\n",
       "      <td>0</td>\n",
       "    </tr>\n",
       "    <tr>\n",
       "      <th>...</th>\n",
       "      <td>...</td>\n",
       "      <td>...</td>\n",
       "      <td>...</td>\n",
       "      <td>...</td>\n",
       "      <td>...</td>\n",
       "      <td>...</td>\n",
       "      <td>...</td>\n",
       "      <td>...</td>\n",
       "      <td>...</td>\n",
       "      <td>...</td>\n",
       "      <td>...</td>\n",
       "      <td>...</td>\n",
       "    </tr>\n",
       "    <tr>\n",
       "      <th>127356</th>\n",
       "      <td>ID_HNCS9Q2GNCQB</td>\n",
       "      <td>2022-02-13 00:37:14</td>\n",
       "      <td>33.65</td>\n",
       "      <td>42.23</td>\n",
       "      <td>NaN</td>\n",
       "      <td>NaN</td>\n",
       "      <td>2022</td>\n",
       "      <td>2</td>\n",
       "      <td>13</td>\n",
       "      <td>0</td>\n",
       "      <td>6</td>\n",
       "      <td>144</td>\n",
       "    </tr>\n",
       "    <tr>\n",
       "      <th>127357</th>\n",
       "      <td>ID_GIIQYTE11L3H</td>\n",
       "      <td>2022-03-09 16:26:42</td>\n",
       "      <td>21.23</td>\n",
       "      <td>15.72</td>\n",
       "      <td>NaN</td>\n",
       "      <td>NaN</td>\n",
       "      <td>2022</td>\n",
       "      <td>3</td>\n",
       "      <td>9</td>\n",
       "      <td>16</td>\n",
       "      <td>2</td>\n",
       "      <td>64</td>\n",
       "    </tr>\n",
       "    <tr>\n",
       "      <th>127358</th>\n",
       "      <td>ID_EC7F1P4GXKCL</td>\n",
       "      <td>2022-02-18 14:47:28</td>\n",
       "      <td>41.45</td>\n",
       "      <td>47.25</td>\n",
       "      <td>NaN</td>\n",
       "      <td>NaN</td>\n",
       "      <td>2022</td>\n",
       "      <td>2</td>\n",
       "      <td>18</td>\n",
       "      <td>14</td>\n",
       "      <td>4</td>\n",
       "      <td>110</td>\n",
       "    </tr>\n",
       "    <tr>\n",
       "      <th>127359</th>\n",
       "      <td>ID_J64RVG2BRAG0</td>\n",
       "      <td>2022-03-11 19:14:11</td>\n",
       "      <td>28.60</td>\n",
       "      <td>27.27</td>\n",
       "      <td>NaN</td>\n",
       "      <td>NaN</td>\n",
       "      <td>2022</td>\n",
       "      <td>3</td>\n",
       "      <td>11</td>\n",
       "      <td>19</td>\n",
       "      <td>4</td>\n",
       "      <td>115</td>\n",
       "    </tr>\n",
       "    <tr>\n",
       "      <th>127360</th>\n",
       "      <td>ID_7ABZNHCIVVAV</td>\n",
       "      <td>2022-03-11 01:51:28</td>\n",
       "      <td>41.87</td>\n",
       "      <td>39.82</td>\n",
       "      <td>NaN</td>\n",
       "      <td>NaN</td>\n",
       "      <td>2022</td>\n",
       "      <td>3</td>\n",
       "      <td>11</td>\n",
       "      <td>1</td>\n",
       "      <td>4</td>\n",
       "      <td>97</td>\n",
       "    </tr>\n",
       "  </tbody>\n",
       "</table>\n",
       "<p>127361 rows × 12 columns</p>\n",
       "</div>"
      ],
      "text/plain": [
       "                     ID            DATETIME  SENSOR1_2.5  SENSOR2_2.5  \\\n",
       "0       ID_STL3V9B2OU12 2022-01-28 08:49:41        90.75       114.78   \n",
       "1       ID_U2EKAY4SGA94 2022-02-16 21:30:17        56.03        52.18   \n",
       "2       ID_UJFLEWQR0U4N 2022-01-24 17:57:18       387.35       346.73   \n",
       "3       ID_S2C2GPGA4R5I 2022-01-31 07:07:09        63.17        83.85   \n",
       "4       ID_5V2C2ZL221H8 2022-01-31 00:37:05        69.23        53.07   \n",
       "...                 ...                 ...          ...          ...   \n",
       "127356  ID_HNCS9Q2GNCQB 2022-02-13 00:37:14        33.65        42.23   \n",
       "127357  ID_GIIQYTE11L3H 2022-03-09 16:26:42        21.23        15.72   \n",
       "127358  ID_EC7F1P4GXKCL 2022-02-18 14:47:28        41.45        47.25   \n",
       "127359  ID_J64RVG2BRAG0 2022-03-11 19:14:11        28.60        27.27   \n",
       "127360  ID_7ABZNHCIVVAV 2022-03-11 01:51:28        41.87        39.82   \n",
       "\n",
       "        TEMPERATURE  RELATIVE_HUMIDITY  YEAR  MONTH  DAY  HOUR  DAY_OF_WEEK  \\\n",
       "0              22.2               56.0  2022      1   28     8            4   \n",
       "1               NaN                NaN  2022      2   16    21            2   \n",
       "2              28.1               63.0  2022      1   24    17            0   \n",
       "3              21.6               82.0  2022      1   31     7            0   \n",
       "4              22.7               80.0  2022      1   31     0            0   \n",
       "...             ...                ...   ...    ...  ...   ...          ...   \n",
       "127356          NaN                NaN  2022      2   13     0            6   \n",
       "127357          NaN                NaN  2022      3    9    16            2   \n",
       "127358          NaN                NaN  2022      2   18    14            4   \n",
       "127359          NaN                NaN  2022      3   11    19            4   \n",
       "127360          NaN                NaN  2022      3   11     1            4   \n",
       "\n",
       "        HOUR_OF_WEEK  \n",
       "0                104  \n",
       "1                 69  \n",
       "2                 17  \n",
       "3                  7  \n",
       "4                  0  \n",
       "...              ...  \n",
       "127356           144  \n",
       "127357            64  \n",
       "127358           110  \n",
       "127359           115  \n",
       "127360            97  \n",
       "\n",
       "[127361 rows x 12 columns]"
      ]
     },
     "execution_count": 211,
     "metadata": {},
     "output_type": "execute_result"
    }
   ],
   "source": [
    "test_df"
   ]
  },
  {
   "cell_type": "code",
   "execution_count": 212,
   "id": "c3dd1379",
   "metadata": {},
   "outputs": [
    {
     "data": {
      "text/html": [
       "<div>\n",
       "<style scoped>\n",
       "    .dataframe tbody tr th:only-of-type {\n",
       "        vertical-align: middle;\n",
       "    }\n",
       "\n",
       "    .dataframe tbody tr th {\n",
       "        vertical-align: top;\n",
       "    }\n",
       "\n",
       "    .dataframe thead th {\n",
       "        text-align: right;\n",
       "    }\n",
       "</style>\n",
       "<table border=\"1\" class=\"dataframe\">\n",
       "  <thead>\n",
       "    <tr style=\"text-align: right;\">\n",
       "      <th></th>\n",
       "      <th>SENSOR1_2.5</th>\n",
       "      <th>SENSOR2_2.5</th>\n",
       "      <th>TEMPERATURE</th>\n",
       "      <th>RELATIVE_HUMIDITY</th>\n",
       "      <th>OFFSET_FAULT</th>\n",
       "      <th>YEAR</th>\n",
       "      <th>MONTH</th>\n",
       "      <th>DAY</th>\n",
       "      <th>HOUR</th>\n",
       "      <th>DAY_OF_WEEK</th>\n",
       "      <th>HOUR_OF_WEEK</th>\n",
       "    </tr>\n",
       "  </thead>\n",
       "  <tbody>\n",
       "    <tr>\n",
       "      <th>count</th>\n",
       "      <td>293563.000000</td>\n",
       "      <td>293563.000000</td>\n",
       "      <td>293628.000000</td>\n",
       "      <td>293628.000000</td>\n",
       "      <td>297177.000000</td>\n",
       "      <td>297177.000000</td>\n",
       "      <td>297177.000000</td>\n",
       "      <td>297177.000000</td>\n",
       "      <td>297177.000000</td>\n",
       "      <td>297177.000000</td>\n",
       "      <td>297177.000000</td>\n",
       "    </tr>\n",
       "    <tr>\n",
       "      <th>mean</th>\n",
       "      <td>40.751195</td>\n",
       "      <td>38.183018</td>\n",
       "      <td>23.316554</td>\n",
       "      <td>78.653623</td>\n",
       "      <td>0.371072</td>\n",
       "      <td>2021.207876</td>\n",
       "      <td>9.069800</td>\n",
       "      <td>15.993536</td>\n",
       "      <td>11.394671</td>\n",
       "      <td>2.989390</td>\n",
       "      <td>83.140034</td>\n",
       "    </tr>\n",
       "    <tr>\n",
       "      <th>std</th>\n",
       "      <td>28.526182</td>\n",
       "      <td>28.647761</td>\n",
       "      <td>3.836971</td>\n",
       "      <td>14.772725</td>\n",
       "      <td>0.483092</td>\n",
       "      <td>0.405788</td>\n",
       "      <td>4.188691</td>\n",
       "      <td>8.665787</td>\n",
       "      <td>6.943538</td>\n",
       "      <td>2.000969</td>\n",
       "      <td>48.549132</td>\n",
       "    </tr>\n",
       "    <tr>\n",
       "      <th>min</th>\n",
       "      <td>-9.450000</td>\n",
       "      <td>-9.700000</td>\n",
       "      <td>16.700000</td>\n",
       "      <td>27.000000</td>\n",
       "      <td>0.000000</td>\n",
       "      <td>2021.000000</td>\n",
       "      <td>1.000000</td>\n",
       "      <td>1.000000</td>\n",
       "      <td>0.000000</td>\n",
       "      <td>0.000000</td>\n",
       "      <td>0.000000</td>\n",
       "    </tr>\n",
       "    <tr>\n",
       "      <th>25%</th>\n",
       "      <td>22.430000</td>\n",
       "      <td>19.520000</td>\n",
       "      <td>20.400000</td>\n",
       "      <td>68.000000</td>\n",
       "      <td>0.000000</td>\n",
       "      <td>2021.000000</td>\n",
       "      <td>10.000000</td>\n",
       "      <td>9.000000</td>\n",
       "      <td>5.000000</td>\n",
       "      <td>1.000000</td>\n",
       "      <td>41.000000</td>\n",
       "    </tr>\n",
       "    <tr>\n",
       "      <th>50%</th>\n",
       "      <td>36.470000</td>\n",
       "      <td>33.720000</td>\n",
       "      <td>21.900000</td>\n",
       "      <td>84.000000</td>\n",
       "      <td>0.000000</td>\n",
       "      <td>2021.000000</td>\n",
       "      <td>11.000000</td>\n",
       "      <td>16.000000</td>\n",
       "      <td>11.000000</td>\n",
       "      <td>3.000000</td>\n",
       "      <td>83.000000</td>\n",
       "    </tr>\n",
       "    <tr>\n",
       "      <th>75%</th>\n",
       "      <td>49.420000</td>\n",
       "      <td>47.570000</td>\n",
       "      <td>26.300000</td>\n",
       "      <td>91.000000</td>\n",
       "      <td>1.000000</td>\n",
       "      <td>2021.000000</td>\n",
       "      <td>12.000000</td>\n",
       "      <td>23.000000</td>\n",
       "      <td>17.000000</td>\n",
       "      <td>5.000000</td>\n",
       "      <td>125.000000</td>\n",
       "    </tr>\n",
       "    <tr>\n",
       "      <th>max</th>\n",
       "      <td>997.960000</td>\n",
       "      <td>997.260000</td>\n",
       "      <td>34.900000</td>\n",
       "      <td>99.000000</td>\n",
       "      <td>1.000000</td>\n",
       "      <td>2022.000000</td>\n",
       "      <td>12.000000</td>\n",
       "      <td>31.000000</td>\n",
       "      <td>23.000000</td>\n",
       "      <td>6.000000</td>\n",
       "      <td>167.000000</td>\n",
       "    </tr>\n",
       "  </tbody>\n",
       "</table>\n",
       "</div>"
      ],
      "text/plain": [
       "         SENSOR1_2.5    SENSOR2_2.5    TEMPERATURE  RELATIVE_HUMIDITY  \\\n",
       "count  293563.000000  293563.000000  293628.000000      293628.000000   \n",
       "mean       40.751195      38.183018      23.316554          78.653623   \n",
       "std        28.526182      28.647761       3.836971          14.772725   \n",
       "min        -9.450000      -9.700000      16.700000          27.000000   \n",
       "25%        22.430000      19.520000      20.400000          68.000000   \n",
       "50%        36.470000      33.720000      21.900000          84.000000   \n",
       "75%        49.420000      47.570000      26.300000          91.000000   \n",
       "max       997.960000     997.260000      34.900000          99.000000   \n",
       "\n",
       "        OFFSET_FAULT           YEAR          MONTH            DAY  \\\n",
       "count  297177.000000  297177.000000  297177.000000  297177.000000   \n",
       "mean        0.371072    2021.207876       9.069800      15.993536   \n",
       "std         0.483092       0.405788       4.188691       8.665787   \n",
       "min         0.000000    2021.000000       1.000000       1.000000   \n",
       "25%         0.000000    2021.000000      10.000000       9.000000   \n",
       "50%         0.000000    2021.000000      11.000000      16.000000   \n",
       "75%         1.000000    2021.000000      12.000000      23.000000   \n",
       "max         1.000000    2022.000000      12.000000      31.000000   \n",
       "\n",
       "                HOUR    DAY_OF_WEEK   HOUR_OF_WEEK  \n",
       "count  297177.000000  297177.000000  297177.000000  \n",
       "mean       11.394671       2.989390      83.140034  \n",
       "std         6.943538       2.000969      48.549132  \n",
       "min         0.000000       0.000000       0.000000  \n",
       "25%         5.000000       1.000000      41.000000  \n",
       "50%        11.000000       3.000000      83.000000  \n",
       "75%        17.000000       5.000000     125.000000  \n",
       "max        23.000000       6.000000     167.000000  "
      ]
     },
     "execution_count": 212,
     "metadata": {},
     "output_type": "execute_result"
    }
   ],
   "source": [
    "train_df.describe()"
   ]
  },
  {
   "cell_type": "code",
   "execution_count": 213,
   "id": "9811c7cb",
   "metadata": {},
   "outputs": [
    {
     "data": {
      "text/plain": [
       "(ID                      0\n",
       " DATETIME                0\n",
       " SENSOR1_2.5          3614\n",
       " SENSOR2_2.5          3614\n",
       " TEMPERATURE          3549\n",
       " RELATIVE_HUMIDITY    3549\n",
       " OFFSET_FAULT            0\n",
       " YEAR                    0\n",
       " MONTH                   0\n",
       " DAY                     0\n",
       " HOUR                    0\n",
       " DAY_OF_WEEK             0\n",
       " HOUR_OF_WEEK            0\n",
       " dtype: int64,\n",
       " ID                       0\n",
       " DATETIME                 0\n",
       " SENSOR1_2.5              0\n",
       " SENSOR2_2.5              0\n",
       " TEMPERATURE          88090\n",
       " RELATIVE_HUMIDITY    88090\n",
       " YEAR                     0\n",
       " MONTH                    0\n",
       " DAY                      0\n",
       " HOUR                     0\n",
       " DAY_OF_WEEK              0\n",
       " HOUR_OF_WEEK             0\n",
       " dtype: int64)"
      ]
     },
     "execution_count": 213,
     "metadata": {},
     "output_type": "execute_result"
    }
   ],
   "source": [
    "train_df.isna().sum(), test_df.isna().sum()"
   ]
  },
  {
   "cell_type": "code",
   "execution_count": 214,
   "id": "0749de1a",
   "metadata": {},
   "outputs": [
    {
     "data": {
      "text/html": [
       "<div>\n",
       "<style scoped>\n",
       "    .dataframe tbody tr th:only-of-type {\n",
       "        vertical-align: middle;\n",
       "    }\n",
       "\n",
       "    .dataframe tbody tr th {\n",
       "        vertical-align: top;\n",
       "    }\n",
       "\n",
       "    .dataframe thead th {\n",
       "        text-align: right;\n",
       "    }\n",
       "</style>\n",
       "<table border=\"1\" class=\"dataframe\">\n",
       "  <thead>\n",
       "    <tr style=\"text-align: right;\">\n",
       "      <th></th>\n",
       "      <th>ID</th>\n",
       "      <th>DATETIME</th>\n",
       "      <th>SENSOR1_2.5</th>\n",
       "      <th>SENSOR2_2.5</th>\n",
       "      <th>TEMPERATURE</th>\n",
       "      <th>RELATIVE_HUMIDITY</th>\n",
       "      <th>OFFSET_FAULT</th>\n",
       "      <th>YEAR</th>\n",
       "      <th>MONTH</th>\n",
       "      <th>DAY</th>\n",
       "      <th>HOUR</th>\n",
       "      <th>DAY_OF_WEEK</th>\n",
       "      <th>HOUR_OF_WEEK</th>\n",
       "    </tr>\n",
       "  </thead>\n",
       "  <tbody>\n",
       "    <tr>\n",
       "      <th>0</th>\n",
       "      <td>ID_QF0ZTQJ2SF5Q</td>\n",
       "      <td>2021-11-03 04:06:31</td>\n",
       "      <td>52.58</td>\n",
       "      <td>49.52</td>\n",
       "      <td>17.4</td>\n",
       "      <td>96.0</td>\n",
       "      <td>0</td>\n",
       "      <td>2021</td>\n",
       "      <td>11</td>\n",
       "      <td>3</td>\n",
       "      <td>4</td>\n",
       "      <td>2</td>\n",
       "      <td>52</td>\n",
       "    </tr>\n",
       "    <tr>\n",
       "      <th>1</th>\n",
       "      <td>ID_4GTK689CNX5S</td>\n",
       "      <td>2021-11-08 18:43:23</td>\n",
       "      <td>35.25</td>\n",
       "      <td>33.40</td>\n",
       "      <td>25.0</td>\n",
       "      <td>75.0</td>\n",
       "      <td>0</td>\n",
       "      <td>2021</td>\n",
       "      <td>11</td>\n",
       "      <td>8</td>\n",
       "      <td>18</td>\n",
       "      <td>0</td>\n",
       "      <td>18</td>\n",
       "    </tr>\n",
       "    <tr>\n",
       "      <th>2</th>\n",
       "      <td>ID_DL7VVKW9U7XQ</td>\n",
       "      <td>2021-11-07 09:50:33</td>\n",
       "      <td>19.18</td>\n",
       "      <td>23.50</td>\n",
       "      <td>24.9</td>\n",
       "      <td>75.0</td>\n",
       "      <td>0</td>\n",
       "      <td>2021</td>\n",
       "      <td>11</td>\n",
       "      <td>7</td>\n",
       "      <td>9</td>\n",
       "      <td>6</td>\n",
       "      <td>153</td>\n",
       "    </tr>\n",
       "    <tr>\n",
       "      <th>3</th>\n",
       "      <td>ID_6XQOMBXM2DG3</td>\n",
       "      <td>2022-01-01 18:55:15</td>\n",
       "      <td>19.40</td>\n",
       "      <td>15.48</td>\n",
       "      <td>24.9</td>\n",
       "      <td>70.0</td>\n",
       "      <td>0</td>\n",
       "      <td>2022</td>\n",
       "      <td>1</td>\n",
       "      <td>1</td>\n",
       "      <td>18</td>\n",
       "      <td>5</td>\n",
       "      <td>138</td>\n",
       "    </tr>\n",
       "    <tr>\n",
       "      <th>4</th>\n",
       "      <td>ID_UQZW9ISJY9QE</td>\n",
       "      <td>2021-11-05 22:23:48</td>\n",
       "      <td>38.30</td>\n",
       "      <td>34.77</td>\n",
       "      <td>20.9</td>\n",
       "      <td>89.0</td>\n",
       "      <td>0</td>\n",
       "      <td>2021</td>\n",
       "      <td>11</td>\n",
       "      <td>5</td>\n",
       "      <td>22</td>\n",
       "      <td>4</td>\n",
       "      <td>118</td>\n",
       "    </tr>\n",
       "  </tbody>\n",
       "</table>\n",
       "</div>"
      ],
      "text/plain": [
       "                ID            DATETIME  SENSOR1_2.5  SENSOR2_2.5  TEMPERATURE  \\\n",
       "0  ID_QF0ZTQJ2SF5Q 2021-11-03 04:06:31        52.58        49.52         17.4   \n",
       "1  ID_4GTK689CNX5S 2021-11-08 18:43:23        35.25        33.40         25.0   \n",
       "2  ID_DL7VVKW9U7XQ 2021-11-07 09:50:33        19.18        23.50         24.9   \n",
       "3  ID_6XQOMBXM2DG3 2022-01-01 18:55:15        19.40        15.48         24.9   \n",
       "4  ID_UQZW9ISJY9QE 2021-11-05 22:23:48        38.30        34.77         20.9   \n",
       "\n",
       "   RELATIVE_HUMIDITY  OFFSET_FAULT  YEAR  MONTH  DAY  HOUR  DAY_OF_WEEK  \\\n",
       "0               96.0             0  2021     11    3     4            2   \n",
       "1               75.0             0  2021     11    8    18            0   \n",
       "2               75.0             0  2021     11    7     9            6   \n",
       "3               70.0             0  2022      1    1    18            5   \n",
       "4               89.0             0  2021     11    5    22            4   \n",
       "\n",
       "   HOUR_OF_WEEK  \n",
       "0            52  \n",
       "1            18  \n",
       "2           153  \n",
       "3           138  \n",
       "4           118  "
      ]
     },
     "execution_count": 214,
     "metadata": {},
     "output_type": "execute_result"
    }
   ],
   "source": [
    "train_df.head()"
   ]
  },
  {
   "cell_type": "markdown",
   "id": "db594bb1",
   "metadata": {},
   "source": [
    "## Visualizations"
   ]
  },
  {
   "cell_type": "markdown",
   "id": "3b69d3cc",
   "metadata": {},
   "source": [
    "### Time Series"
   ]
  },
  {
   "cell_type": "code",
   "execution_count": 215,
   "id": "36320bd5",
   "metadata": {},
   "outputs": [
    {
     "data": {
      "text/plain": [
       "[<matplotlib.lines.Line2D at 0x1c4805430d0>]"
      ]
     },
     "execution_count": 215,
     "metadata": {},
     "output_type": "execute_result"
    },
    {
     "ename": "OverflowError",
     "evalue": "Exceeded cell block limit (set 'agg.path.chunksize' rcparam)",
     "output_type": "error",
     "traceback": [
      "\u001b[1;31m---------------------------------------------------------------------------\u001b[0m",
      "\u001b[1;31mOverflowError\u001b[0m                             Traceback (most recent call last)",
      "\u001b[1;32m~\\anaconda3\\lib\\site-packages\\matplotlib\\backends\\backend_agg.py\u001b[0m in \u001b[0;36mdraw_path\u001b[1;34m(self, gc, path, transform, rgbFace)\u001b[0m\n\u001b[0;32m    160\u001b[0m             \u001b[1;32mtry\u001b[0m\u001b[1;33m:\u001b[0m\u001b[1;33m\u001b[0m\u001b[1;33m\u001b[0m\u001b[0m\n\u001b[1;32m--> 161\u001b[1;33m                 \u001b[0mself\u001b[0m\u001b[1;33m.\u001b[0m\u001b[0m_renderer\u001b[0m\u001b[1;33m.\u001b[0m\u001b[0mdraw_path\u001b[0m\u001b[1;33m(\u001b[0m\u001b[0mgc\u001b[0m\u001b[1;33m,\u001b[0m \u001b[0mpath\u001b[0m\u001b[1;33m,\u001b[0m \u001b[0mtransform\u001b[0m\u001b[1;33m,\u001b[0m \u001b[0mrgbFace\u001b[0m\u001b[1;33m)\u001b[0m\u001b[1;33m\u001b[0m\u001b[1;33m\u001b[0m\u001b[0m\n\u001b[0m\u001b[0;32m    162\u001b[0m             \u001b[1;32mexcept\u001b[0m \u001b[0mOverflowError\u001b[0m \u001b[1;32mas\u001b[0m \u001b[0merr\u001b[0m\u001b[1;33m:\u001b[0m\u001b[1;33m\u001b[0m\u001b[1;33m\u001b[0m\u001b[0m\n",
      "\u001b[1;31mOverflowError\u001b[0m: In draw_path: Exceeded cell block limit",
      "\nThe above exception was the direct cause of the following exception:\n",
      "\u001b[1;31mOverflowError\u001b[0m                             Traceback (most recent call last)",
      "\u001b[1;32m~\\anaconda3\\lib\\site-packages\\IPython\\core\\formatters.py\u001b[0m in \u001b[0;36m__call__\u001b[1;34m(self, obj)\u001b[0m\n\u001b[0;32m    339\u001b[0m                 \u001b[1;32mpass\u001b[0m\u001b[1;33m\u001b[0m\u001b[1;33m\u001b[0m\u001b[0m\n\u001b[0;32m    340\u001b[0m             \u001b[1;32melse\u001b[0m\u001b[1;33m:\u001b[0m\u001b[1;33m\u001b[0m\u001b[1;33m\u001b[0m\u001b[0m\n\u001b[1;32m--> 341\u001b[1;33m                 \u001b[1;32mreturn\u001b[0m \u001b[0mprinter\u001b[0m\u001b[1;33m(\u001b[0m\u001b[0mobj\u001b[0m\u001b[1;33m)\u001b[0m\u001b[1;33m\u001b[0m\u001b[1;33m\u001b[0m\u001b[0m\n\u001b[0m\u001b[0;32m    342\u001b[0m             \u001b[1;31m# Finally look for special method names\u001b[0m\u001b[1;33m\u001b[0m\u001b[1;33m\u001b[0m\u001b[0m\n\u001b[0;32m    343\u001b[0m             \u001b[0mmethod\u001b[0m \u001b[1;33m=\u001b[0m \u001b[0mget_real_method\u001b[0m\u001b[1;33m(\u001b[0m\u001b[0mobj\u001b[0m\u001b[1;33m,\u001b[0m \u001b[0mself\u001b[0m\u001b[1;33m.\u001b[0m\u001b[0mprint_method\u001b[0m\u001b[1;33m)\u001b[0m\u001b[1;33m\u001b[0m\u001b[1;33m\u001b[0m\u001b[0m\n",
      "\u001b[1;32m~\\anaconda3\\lib\\site-packages\\IPython\\core\\pylabtools.py\u001b[0m in \u001b[0;36mprint_figure\u001b[1;34m(fig, fmt, bbox_inches, base64, **kwargs)\u001b[0m\n\u001b[0;32m    149\u001b[0m         \u001b[0mFigureCanvasBase\u001b[0m\u001b[1;33m(\u001b[0m\u001b[0mfig\u001b[0m\u001b[1;33m)\u001b[0m\u001b[1;33m\u001b[0m\u001b[1;33m\u001b[0m\u001b[0m\n\u001b[0;32m    150\u001b[0m \u001b[1;33m\u001b[0m\u001b[0m\n\u001b[1;32m--> 151\u001b[1;33m     \u001b[0mfig\u001b[0m\u001b[1;33m.\u001b[0m\u001b[0mcanvas\u001b[0m\u001b[1;33m.\u001b[0m\u001b[0mprint_figure\u001b[0m\u001b[1;33m(\u001b[0m\u001b[0mbytes_io\u001b[0m\u001b[1;33m,\u001b[0m \u001b[1;33m**\u001b[0m\u001b[0mkw\u001b[0m\u001b[1;33m)\u001b[0m\u001b[1;33m\u001b[0m\u001b[1;33m\u001b[0m\u001b[0m\n\u001b[0m\u001b[0;32m    152\u001b[0m     \u001b[0mdata\u001b[0m \u001b[1;33m=\u001b[0m \u001b[0mbytes_io\u001b[0m\u001b[1;33m.\u001b[0m\u001b[0mgetvalue\u001b[0m\u001b[1;33m(\u001b[0m\u001b[1;33m)\u001b[0m\u001b[1;33m\u001b[0m\u001b[1;33m\u001b[0m\u001b[0m\n\u001b[0;32m    153\u001b[0m     \u001b[1;32mif\u001b[0m \u001b[0mfmt\u001b[0m \u001b[1;33m==\u001b[0m \u001b[1;34m'svg'\u001b[0m\u001b[1;33m:\u001b[0m\u001b[1;33m\u001b[0m\u001b[1;33m\u001b[0m\u001b[0m\n",
      "\u001b[1;32m~\\anaconda3\\lib\\site-packages\\matplotlib\\backend_bases.py\u001b[0m in \u001b[0;36mprint_figure\u001b[1;34m(self, filename, dpi, facecolor, edgecolor, orientation, format, bbox_inches, pad_inches, bbox_extra_artists, backend, **kwargs)\u001b[0m\n\u001b[0;32m   2253\u001b[0m                 \u001b[1;31m# force the figure dpi to 72), so we need to set it again here.\u001b[0m\u001b[1;33m\u001b[0m\u001b[1;33m\u001b[0m\u001b[0m\n\u001b[0;32m   2254\u001b[0m                 \u001b[1;32mwith\u001b[0m \u001b[0mcbook\u001b[0m\u001b[1;33m.\u001b[0m\u001b[0m_setattr_cm\u001b[0m\u001b[1;33m(\u001b[0m\u001b[0mself\u001b[0m\u001b[1;33m.\u001b[0m\u001b[0mfigure\u001b[0m\u001b[1;33m,\u001b[0m \u001b[0mdpi\u001b[0m\u001b[1;33m=\u001b[0m\u001b[0mdpi\u001b[0m\u001b[1;33m)\u001b[0m\u001b[1;33m:\u001b[0m\u001b[1;33m\u001b[0m\u001b[1;33m\u001b[0m\u001b[0m\n\u001b[1;32m-> 2255\u001b[1;33m                     result = print_method(\n\u001b[0m\u001b[0;32m   2256\u001b[0m                         \u001b[0mfilename\u001b[0m\u001b[1;33m,\u001b[0m\u001b[1;33m\u001b[0m\u001b[1;33m\u001b[0m\u001b[0m\n\u001b[0;32m   2257\u001b[0m                         \u001b[0mfacecolor\u001b[0m\u001b[1;33m=\u001b[0m\u001b[0mfacecolor\u001b[0m\u001b[1;33m,\u001b[0m\u001b[1;33m\u001b[0m\u001b[1;33m\u001b[0m\u001b[0m\n",
      "\u001b[1;32m~\\anaconda3\\lib\\site-packages\\matplotlib\\backend_bases.py\u001b[0m in \u001b[0;36mwrapper\u001b[1;34m(*args, **kwargs)\u001b[0m\n\u001b[0;32m   1667\u001b[0m             \u001b[0mkwargs\u001b[0m\u001b[1;33m.\u001b[0m\u001b[0mpop\u001b[0m\u001b[1;33m(\u001b[0m\u001b[0marg\u001b[0m\u001b[1;33m)\u001b[0m\u001b[1;33m\u001b[0m\u001b[1;33m\u001b[0m\u001b[0m\n\u001b[0;32m   1668\u001b[0m \u001b[1;33m\u001b[0m\u001b[0m\n\u001b[1;32m-> 1669\u001b[1;33m         \u001b[1;32mreturn\u001b[0m \u001b[0mfunc\u001b[0m\u001b[1;33m(\u001b[0m\u001b[1;33m*\u001b[0m\u001b[0margs\u001b[0m\u001b[1;33m,\u001b[0m \u001b[1;33m**\u001b[0m\u001b[0mkwargs\u001b[0m\u001b[1;33m)\u001b[0m\u001b[1;33m\u001b[0m\u001b[1;33m\u001b[0m\u001b[0m\n\u001b[0m\u001b[0;32m   1670\u001b[0m \u001b[1;33m\u001b[0m\u001b[0m\n\u001b[0;32m   1671\u001b[0m     \u001b[1;32mreturn\u001b[0m \u001b[0mwrapper\u001b[0m\u001b[1;33m\u001b[0m\u001b[1;33m\u001b[0m\u001b[0m\n",
      "\u001b[1;32m~\\anaconda3\\lib\\site-packages\\matplotlib\\backends\\backend_agg.py\u001b[0m in \u001b[0;36mprint_png\u001b[1;34m(self, filename_or_obj, metadata, pil_kwargs, *args)\u001b[0m\n\u001b[0;32m    506\u001b[0m             \u001b[1;33m*\u001b[0m\u001b[0mmetadata\u001b[0m\u001b[1;33m*\u001b[0m\u001b[1;33m,\u001b[0m \u001b[0mincluding\u001b[0m \u001b[0mthe\u001b[0m \u001b[0mdefault\u001b[0m \u001b[1;34m'Software'\u001b[0m \u001b[0mkey\u001b[0m\u001b[1;33m.\u001b[0m\u001b[1;33m\u001b[0m\u001b[1;33m\u001b[0m\u001b[0m\n\u001b[0;32m    507\u001b[0m         \"\"\"\n\u001b[1;32m--> 508\u001b[1;33m         \u001b[0mFigureCanvasAgg\u001b[0m\u001b[1;33m.\u001b[0m\u001b[0mdraw\u001b[0m\u001b[1;33m(\u001b[0m\u001b[0mself\u001b[0m\u001b[1;33m)\u001b[0m\u001b[1;33m\u001b[0m\u001b[1;33m\u001b[0m\u001b[0m\n\u001b[0m\u001b[0;32m    509\u001b[0m         mpl.image.imsave(\n\u001b[0;32m    510\u001b[0m             \u001b[0mfilename_or_obj\u001b[0m\u001b[1;33m,\u001b[0m \u001b[0mself\u001b[0m\u001b[1;33m.\u001b[0m\u001b[0mbuffer_rgba\u001b[0m\u001b[1;33m(\u001b[0m\u001b[1;33m)\u001b[0m\u001b[1;33m,\u001b[0m \u001b[0mformat\u001b[0m\u001b[1;33m=\u001b[0m\u001b[1;34m\"png\"\u001b[0m\u001b[1;33m,\u001b[0m \u001b[0morigin\u001b[0m\u001b[1;33m=\u001b[0m\u001b[1;34m\"upper\"\u001b[0m\u001b[1;33m,\u001b[0m\u001b[1;33m\u001b[0m\u001b[1;33m\u001b[0m\u001b[0m\n",
      "\u001b[1;32m~\\anaconda3\\lib\\site-packages\\matplotlib\\backends\\backend_agg.py\u001b[0m in \u001b[0;36mdraw\u001b[1;34m(self)\u001b[0m\n\u001b[0;32m    404\u001b[0m              (self.toolbar._wait_cursor_for_draw_cm() if self.toolbar\n\u001b[0;32m    405\u001b[0m               else nullcontext()):\n\u001b[1;32m--> 406\u001b[1;33m             \u001b[0mself\u001b[0m\u001b[1;33m.\u001b[0m\u001b[0mfigure\u001b[0m\u001b[1;33m.\u001b[0m\u001b[0mdraw\u001b[0m\u001b[1;33m(\u001b[0m\u001b[0mself\u001b[0m\u001b[1;33m.\u001b[0m\u001b[0mrenderer\u001b[0m\u001b[1;33m)\u001b[0m\u001b[1;33m\u001b[0m\u001b[1;33m\u001b[0m\u001b[0m\n\u001b[0m\u001b[0;32m    407\u001b[0m             \u001b[1;31m# A GUI class may be need to update a window using this draw, so\u001b[0m\u001b[1;33m\u001b[0m\u001b[1;33m\u001b[0m\u001b[0m\n\u001b[0;32m    408\u001b[0m             \u001b[1;31m# don't forget to call the superclass.\u001b[0m\u001b[1;33m\u001b[0m\u001b[1;33m\u001b[0m\u001b[0m\n",
      "\u001b[1;32m~\\anaconda3\\lib\\site-packages\\matplotlib\\artist.py\u001b[0m in \u001b[0;36mdraw_wrapper\u001b[1;34m(artist, renderer, *args, **kwargs)\u001b[0m\n\u001b[0;32m     72\u001b[0m     \u001b[1;33m@\u001b[0m\u001b[0mwraps\u001b[0m\u001b[1;33m(\u001b[0m\u001b[0mdraw\u001b[0m\u001b[1;33m)\u001b[0m\u001b[1;33m\u001b[0m\u001b[1;33m\u001b[0m\u001b[0m\n\u001b[0;32m     73\u001b[0m     \u001b[1;32mdef\u001b[0m \u001b[0mdraw_wrapper\u001b[0m\u001b[1;33m(\u001b[0m\u001b[0martist\u001b[0m\u001b[1;33m,\u001b[0m \u001b[0mrenderer\u001b[0m\u001b[1;33m,\u001b[0m \u001b[1;33m*\u001b[0m\u001b[0margs\u001b[0m\u001b[1;33m,\u001b[0m \u001b[1;33m**\u001b[0m\u001b[0mkwargs\u001b[0m\u001b[1;33m)\u001b[0m\u001b[1;33m:\u001b[0m\u001b[1;33m\u001b[0m\u001b[1;33m\u001b[0m\u001b[0m\n\u001b[1;32m---> 74\u001b[1;33m         \u001b[0mresult\u001b[0m \u001b[1;33m=\u001b[0m \u001b[0mdraw\u001b[0m\u001b[1;33m(\u001b[0m\u001b[0martist\u001b[0m\u001b[1;33m,\u001b[0m \u001b[0mrenderer\u001b[0m\u001b[1;33m,\u001b[0m \u001b[1;33m*\u001b[0m\u001b[0margs\u001b[0m\u001b[1;33m,\u001b[0m \u001b[1;33m**\u001b[0m\u001b[0mkwargs\u001b[0m\u001b[1;33m)\u001b[0m\u001b[1;33m\u001b[0m\u001b[1;33m\u001b[0m\u001b[0m\n\u001b[0m\u001b[0;32m     75\u001b[0m         \u001b[1;32mif\u001b[0m \u001b[0mrenderer\u001b[0m\u001b[1;33m.\u001b[0m\u001b[0m_rasterizing\u001b[0m\u001b[1;33m:\u001b[0m\u001b[1;33m\u001b[0m\u001b[1;33m\u001b[0m\u001b[0m\n\u001b[0;32m     76\u001b[0m             \u001b[0mrenderer\u001b[0m\u001b[1;33m.\u001b[0m\u001b[0mstop_rasterizing\u001b[0m\u001b[1;33m(\u001b[0m\u001b[1;33m)\u001b[0m\u001b[1;33m\u001b[0m\u001b[1;33m\u001b[0m\u001b[0m\n",
      "\u001b[1;32m~\\anaconda3\\lib\\site-packages\\matplotlib\\artist.py\u001b[0m in \u001b[0;36mdraw_wrapper\u001b[1;34m(artist, renderer, *args, **kwargs)\u001b[0m\n\u001b[0;32m     49\u001b[0m                 \u001b[0mrenderer\u001b[0m\u001b[1;33m.\u001b[0m\u001b[0mstart_filter\u001b[0m\u001b[1;33m(\u001b[0m\u001b[1;33m)\u001b[0m\u001b[1;33m\u001b[0m\u001b[1;33m\u001b[0m\u001b[0m\n\u001b[0;32m     50\u001b[0m \u001b[1;33m\u001b[0m\u001b[0m\n\u001b[1;32m---> 51\u001b[1;33m             \u001b[1;32mreturn\u001b[0m \u001b[0mdraw\u001b[0m\u001b[1;33m(\u001b[0m\u001b[0martist\u001b[0m\u001b[1;33m,\u001b[0m \u001b[0mrenderer\u001b[0m\u001b[1;33m,\u001b[0m \u001b[1;33m*\u001b[0m\u001b[0margs\u001b[0m\u001b[1;33m,\u001b[0m \u001b[1;33m**\u001b[0m\u001b[0mkwargs\u001b[0m\u001b[1;33m)\u001b[0m\u001b[1;33m\u001b[0m\u001b[1;33m\u001b[0m\u001b[0m\n\u001b[0m\u001b[0;32m     52\u001b[0m         \u001b[1;32mfinally\u001b[0m\u001b[1;33m:\u001b[0m\u001b[1;33m\u001b[0m\u001b[1;33m\u001b[0m\u001b[0m\n\u001b[0;32m     53\u001b[0m             \u001b[1;32mif\u001b[0m \u001b[0martist\u001b[0m\u001b[1;33m.\u001b[0m\u001b[0mget_agg_filter\u001b[0m\u001b[1;33m(\u001b[0m\u001b[1;33m)\u001b[0m \u001b[1;32mis\u001b[0m \u001b[1;32mnot\u001b[0m \u001b[1;32mNone\u001b[0m\u001b[1;33m:\u001b[0m\u001b[1;33m\u001b[0m\u001b[1;33m\u001b[0m\u001b[0m\n",
      "\u001b[1;32m~\\anaconda3\\lib\\site-packages\\matplotlib\\figure.py\u001b[0m in \u001b[0;36mdraw\u001b[1;34m(self, renderer)\u001b[0m\n\u001b[0;32m   2788\u001b[0m \u001b[1;33m\u001b[0m\u001b[0m\n\u001b[0;32m   2789\u001b[0m             \u001b[0mself\u001b[0m\u001b[1;33m.\u001b[0m\u001b[0mpatch\u001b[0m\u001b[1;33m.\u001b[0m\u001b[0mdraw\u001b[0m\u001b[1;33m(\u001b[0m\u001b[0mrenderer\u001b[0m\u001b[1;33m)\u001b[0m\u001b[1;33m\u001b[0m\u001b[1;33m\u001b[0m\u001b[0m\n\u001b[1;32m-> 2790\u001b[1;33m             mimage._draw_list_compositing_images(\n\u001b[0m\u001b[0;32m   2791\u001b[0m                 renderer, self, artists, self.suppressComposite)\n\u001b[0;32m   2792\u001b[0m \u001b[1;33m\u001b[0m\u001b[0m\n",
      "\u001b[1;32m~\\anaconda3\\lib\\site-packages\\matplotlib\\image.py\u001b[0m in \u001b[0;36m_draw_list_compositing_images\u001b[1;34m(renderer, parent, artists, suppress_composite)\u001b[0m\n\u001b[0;32m    130\u001b[0m     \u001b[1;32mif\u001b[0m \u001b[0mnot_composite\u001b[0m \u001b[1;32mor\u001b[0m \u001b[1;32mnot\u001b[0m \u001b[0mhas_images\u001b[0m\u001b[1;33m:\u001b[0m\u001b[1;33m\u001b[0m\u001b[1;33m\u001b[0m\u001b[0m\n\u001b[0;32m    131\u001b[0m         \u001b[1;32mfor\u001b[0m \u001b[0ma\u001b[0m \u001b[1;32min\u001b[0m \u001b[0martists\u001b[0m\u001b[1;33m:\u001b[0m\u001b[1;33m\u001b[0m\u001b[1;33m\u001b[0m\u001b[0m\n\u001b[1;32m--> 132\u001b[1;33m             \u001b[0ma\u001b[0m\u001b[1;33m.\u001b[0m\u001b[0mdraw\u001b[0m\u001b[1;33m(\u001b[0m\u001b[0mrenderer\u001b[0m\u001b[1;33m)\u001b[0m\u001b[1;33m\u001b[0m\u001b[1;33m\u001b[0m\u001b[0m\n\u001b[0m\u001b[0;32m    133\u001b[0m     \u001b[1;32melse\u001b[0m\u001b[1;33m:\u001b[0m\u001b[1;33m\u001b[0m\u001b[1;33m\u001b[0m\u001b[0m\n\u001b[0;32m    134\u001b[0m         \u001b[1;31m# Composite any adjacent images together\u001b[0m\u001b[1;33m\u001b[0m\u001b[1;33m\u001b[0m\u001b[0m\n",
      "\u001b[1;32m~\\anaconda3\\lib\\site-packages\\matplotlib\\artist.py\u001b[0m in \u001b[0;36mdraw_wrapper\u001b[1;34m(artist, renderer, *args, **kwargs)\u001b[0m\n\u001b[0;32m     49\u001b[0m                 \u001b[0mrenderer\u001b[0m\u001b[1;33m.\u001b[0m\u001b[0mstart_filter\u001b[0m\u001b[1;33m(\u001b[0m\u001b[1;33m)\u001b[0m\u001b[1;33m\u001b[0m\u001b[1;33m\u001b[0m\u001b[0m\n\u001b[0;32m     50\u001b[0m \u001b[1;33m\u001b[0m\u001b[0m\n\u001b[1;32m---> 51\u001b[1;33m             \u001b[1;32mreturn\u001b[0m \u001b[0mdraw\u001b[0m\u001b[1;33m(\u001b[0m\u001b[0martist\u001b[0m\u001b[1;33m,\u001b[0m \u001b[0mrenderer\u001b[0m\u001b[1;33m,\u001b[0m \u001b[1;33m*\u001b[0m\u001b[0margs\u001b[0m\u001b[1;33m,\u001b[0m \u001b[1;33m**\u001b[0m\u001b[0mkwargs\u001b[0m\u001b[1;33m)\u001b[0m\u001b[1;33m\u001b[0m\u001b[1;33m\u001b[0m\u001b[0m\n\u001b[0m\u001b[0;32m     52\u001b[0m         \u001b[1;32mfinally\u001b[0m\u001b[1;33m:\u001b[0m\u001b[1;33m\u001b[0m\u001b[1;33m\u001b[0m\u001b[0m\n\u001b[0;32m     53\u001b[0m             \u001b[1;32mif\u001b[0m \u001b[0martist\u001b[0m\u001b[1;33m.\u001b[0m\u001b[0mget_agg_filter\u001b[0m\u001b[1;33m(\u001b[0m\u001b[1;33m)\u001b[0m \u001b[1;32mis\u001b[0m \u001b[1;32mnot\u001b[0m \u001b[1;32mNone\u001b[0m\u001b[1;33m:\u001b[0m\u001b[1;33m\u001b[0m\u001b[1;33m\u001b[0m\u001b[0m\n",
      "\u001b[1;32m~\\anaconda3\\lib\\site-packages\\matplotlib\\_api\\deprecation.py\u001b[0m in \u001b[0;36mwrapper\u001b[1;34m(*inner_args, **inner_kwargs)\u001b[0m\n\u001b[0;32m    429\u001b[0m                          \u001b[1;32melse\u001b[0m \u001b[0mdeprecation_addendum\u001b[0m\u001b[1;33m,\u001b[0m\u001b[1;33m\u001b[0m\u001b[1;33m\u001b[0m\u001b[0m\n\u001b[0;32m    430\u001b[0m                 **kwargs)\n\u001b[1;32m--> 431\u001b[1;33m         \u001b[1;32mreturn\u001b[0m \u001b[0mfunc\u001b[0m\u001b[1;33m(\u001b[0m\u001b[1;33m*\u001b[0m\u001b[0minner_args\u001b[0m\u001b[1;33m,\u001b[0m \u001b[1;33m**\u001b[0m\u001b[0minner_kwargs\u001b[0m\u001b[1;33m)\u001b[0m\u001b[1;33m\u001b[0m\u001b[1;33m\u001b[0m\u001b[0m\n\u001b[0m\u001b[0;32m    432\u001b[0m \u001b[1;33m\u001b[0m\u001b[0m\n\u001b[0;32m    433\u001b[0m     \u001b[1;32mreturn\u001b[0m \u001b[0mwrapper\u001b[0m\u001b[1;33m\u001b[0m\u001b[1;33m\u001b[0m\u001b[0m\n",
      "\u001b[1;32m~\\anaconda3\\lib\\site-packages\\matplotlib\\axes\\_base.py\u001b[0m in \u001b[0;36mdraw\u001b[1;34m(self, renderer, inframe)\u001b[0m\n\u001b[0;32m   2919\u001b[0m             \u001b[0mrenderer\u001b[0m\u001b[1;33m.\u001b[0m\u001b[0mstop_rasterizing\u001b[0m\u001b[1;33m(\u001b[0m\u001b[1;33m)\u001b[0m\u001b[1;33m\u001b[0m\u001b[1;33m\u001b[0m\u001b[0m\n\u001b[0;32m   2920\u001b[0m \u001b[1;33m\u001b[0m\u001b[0m\n\u001b[1;32m-> 2921\u001b[1;33m         \u001b[0mmimage\u001b[0m\u001b[1;33m.\u001b[0m\u001b[0m_draw_list_compositing_images\u001b[0m\u001b[1;33m(\u001b[0m\u001b[0mrenderer\u001b[0m\u001b[1;33m,\u001b[0m \u001b[0mself\u001b[0m\u001b[1;33m,\u001b[0m \u001b[0martists\u001b[0m\u001b[1;33m)\u001b[0m\u001b[1;33m\u001b[0m\u001b[1;33m\u001b[0m\u001b[0m\n\u001b[0m\u001b[0;32m   2922\u001b[0m \u001b[1;33m\u001b[0m\u001b[0m\n\u001b[0;32m   2923\u001b[0m         \u001b[0mrenderer\u001b[0m\u001b[1;33m.\u001b[0m\u001b[0mclose_group\u001b[0m\u001b[1;33m(\u001b[0m\u001b[1;34m'axes'\u001b[0m\u001b[1;33m)\u001b[0m\u001b[1;33m\u001b[0m\u001b[1;33m\u001b[0m\u001b[0m\n",
      "\u001b[1;32m~\\anaconda3\\lib\\site-packages\\matplotlib\\image.py\u001b[0m in \u001b[0;36m_draw_list_compositing_images\u001b[1;34m(renderer, parent, artists, suppress_composite)\u001b[0m\n\u001b[0;32m    130\u001b[0m     \u001b[1;32mif\u001b[0m \u001b[0mnot_composite\u001b[0m \u001b[1;32mor\u001b[0m \u001b[1;32mnot\u001b[0m \u001b[0mhas_images\u001b[0m\u001b[1;33m:\u001b[0m\u001b[1;33m\u001b[0m\u001b[1;33m\u001b[0m\u001b[0m\n\u001b[0;32m    131\u001b[0m         \u001b[1;32mfor\u001b[0m \u001b[0ma\u001b[0m \u001b[1;32min\u001b[0m \u001b[0martists\u001b[0m\u001b[1;33m:\u001b[0m\u001b[1;33m\u001b[0m\u001b[1;33m\u001b[0m\u001b[0m\n\u001b[1;32m--> 132\u001b[1;33m             \u001b[0ma\u001b[0m\u001b[1;33m.\u001b[0m\u001b[0mdraw\u001b[0m\u001b[1;33m(\u001b[0m\u001b[0mrenderer\u001b[0m\u001b[1;33m)\u001b[0m\u001b[1;33m\u001b[0m\u001b[1;33m\u001b[0m\u001b[0m\n\u001b[0m\u001b[0;32m    133\u001b[0m     \u001b[1;32melse\u001b[0m\u001b[1;33m:\u001b[0m\u001b[1;33m\u001b[0m\u001b[1;33m\u001b[0m\u001b[0m\n\u001b[0;32m    134\u001b[0m         \u001b[1;31m# Composite any adjacent images together\u001b[0m\u001b[1;33m\u001b[0m\u001b[1;33m\u001b[0m\u001b[0m\n",
      "\u001b[1;32m~\\anaconda3\\lib\\site-packages\\matplotlib\\artist.py\u001b[0m in \u001b[0;36mdraw_wrapper\u001b[1;34m(artist, renderer, *args, **kwargs)\u001b[0m\n\u001b[0;32m     49\u001b[0m                 \u001b[0mrenderer\u001b[0m\u001b[1;33m.\u001b[0m\u001b[0mstart_filter\u001b[0m\u001b[1;33m(\u001b[0m\u001b[1;33m)\u001b[0m\u001b[1;33m\u001b[0m\u001b[1;33m\u001b[0m\u001b[0m\n\u001b[0;32m     50\u001b[0m \u001b[1;33m\u001b[0m\u001b[0m\n\u001b[1;32m---> 51\u001b[1;33m             \u001b[1;32mreturn\u001b[0m \u001b[0mdraw\u001b[0m\u001b[1;33m(\u001b[0m\u001b[0martist\u001b[0m\u001b[1;33m,\u001b[0m \u001b[0mrenderer\u001b[0m\u001b[1;33m,\u001b[0m \u001b[1;33m*\u001b[0m\u001b[0margs\u001b[0m\u001b[1;33m,\u001b[0m \u001b[1;33m**\u001b[0m\u001b[0mkwargs\u001b[0m\u001b[1;33m)\u001b[0m\u001b[1;33m\u001b[0m\u001b[1;33m\u001b[0m\u001b[0m\n\u001b[0m\u001b[0;32m     52\u001b[0m         \u001b[1;32mfinally\u001b[0m\u001b[1;33m:\u001b[0m\u001b[1;33m\u001b[0m\u001b[1;33m\u001b[0m\u001b[0m\n\u001b[0;32m     53\u001b[0m             \u001b[1;32mif\u001b[0m \u001b[0martist\u001b[0m\u001b[1;33m.\u001b[0m\u001b[0mget_agg_filter\u001b[0m\u001b[1;33m(\u001b[0m\u001b[1;33m)\u001b[0m \u001b[1;32mis\u001b[0m \u001b[1;32mnot\u001b[0m \u001b[1;32mNone\u001b[0m\u001b[1;33m:\u001b[0m\u001b[1;33m\u001b[0m\u001b[1;33m\u001b[0m\u001b[0m\n",
      "\u001b[1;32m~\\anaconda3\\lib\\site-packages\\matplotlib\\lines.py\u001b[0m in \u001b[0;36mdraw\u001b[1;34m(self, renderer)\u001b[0m\n\u001b[0;32m    794\u001b[0m \u001b[1;33m\u001b[0m\u001b[0m\n\u001b[0;32m    795\u001b[0m                 \u001b[0mgc\u001b[0m\u001b[1;33m.\u001b[0m\u001b[0mset_dashes\u001b[0m\u001b[1;33m(\u001b[0m\u001b[0mself\u001b[0m\u001b[1;33m.\u001b[0m\u001b[0m_dashOffset\u001b[0m\u001b[1;33m,\u001b[0m \u001b[0mself\u001b[0m\u001b[1;33m.\u001b[0m\u001b[0m_dashSeq\u001b[0m\u001b[1;33m)\u001b[0m\u001b[1;33m\u001b[0m\u001b[1;33m\u001b[0m\u001b[0m\n\u001b[1;32m--> 796\u001b[1;33m                 \u001b[0mrenderer\u001b[0m\u001b[1;33m.\u001b[0m\u001b[0mdraw_path\u001b[0m\u001b[1;33m(\u001b[0m\u001b[0mgc\u001b[0m\u001b[1;33m,\u001b[0m \u001b[0mtpath\u001b[0m\u001b[1;33m,\u001b[0m \u001b[0maffine\u001b[0m\u001b[1;33m.\u001b[0m\u001b[0mfrozen\u001b[0m\u001b[1;33m(\u001b[0m\u001b[1;33m)\u001b[0m\u001b[1;33m)\u001b[0m\u001b[1;33m\u001b[0m\u001b[1;33m\u001b[0m\u001b[0m\n\u001b[0m\u001b[0;32m    797\u001b[0m                 \u001b[0mgc\u001b[0m\u001b[1;33m.\u001b[0m\u001b[0mrestore\u001b[0m\u001b[1;33m(\u001b[0m\u001b[1;33m)\u001b[0m\u001b[1;33m\u001b[0m\u001b[1;33m\u001b[0m\u001b[0m\n\u001b[0;32m    798\u001b[0m \u001b[1;33m\u001b[0m\u001b[0m\n",
      "\u001b[1;32m~\\anaconda3\\lib\\site-packages\\matplotlib\\backends\\backend_agg.py\u001b[0m in \u001b[0;36mdraw_path\u001b[1;34m(self, gc, path, transform, rgbFace)\u001b[0m\n\u001b[0;32m    161\u001b[0m                 \u001b[0mself\u001b[0m\u001b[1;33m.\u001b[0m\u001b[0m_renderer\u001b[0m\u001b[1;33m.\u001b[0m\u001b[0mdraw_path\u001b[0m\u001b[1;33m(\u001b[0m\u001b[0mgc\u001b[0m\u001b[1;33m,\u001b[0m \u001b[0mpath\u001b[0m\u001b[1;33m,\u001b[0m \u001b[0mtransform\u001b[0m\u001b[1;33m,\u001b[0m \u001b[0mrgbFace\u001b[0m\u001b[1;33m)\u001b[0m\u001b[1;33m\u001b[0m\u001b[1;33m\u001b[0m\u001b[0m\n\u001b[0;32m    162\u001b[0m             \u001b[1;32mexcept\u001b[0m \u001b[0mOverflowError\u001b[0m \u001b[1;32mas\u001b[0m \u001b[0merr\u001b[0m\u001b[1;33m:\u001b[0m\u001b[1;33m\u001b[0m\u001b[1;33m\u001b[0m\u001b[0m\n\u001b[1;32m--> 163\u001b[1;33m                 raise OverflowError(\"Exceeded cell block limit (set \"\n\u001b[0m\u001b[0;32m    164\u001b[0m                                     \"'agg.path.chunksize' rcparam)\") from err\n\u001b[0;32m    165\u001b[0m \u001b[1;33m\u001b[0m\u001b[0m\n",
      "\u001b[1;31mOverflowError\u001b[0m: Exceeded cell block limit (set 'agg.path.chunksize' rcparam)"
     ]
    },
    {
     "data": {
      "text/plain": [
       "<Figure size 2160x720 with 1 Axes>"
      ]
     },
     "metadata": {},
     "output_type": "display_data"
    }
   ],
   "source": [
    "fig, axs = plt.subplots(figsize = (30,10))\n",
    "\n",
    "axs.plot(train_df['DATETIME'], train_df['RELATIVE_HUMIDITY'])\n"
   ]
  },
  {
   "cell_type": "markdown",
   "id": "2e04f6be",
   "metadata": {},
   "source": [
    "### Target Variable Distribution"
   ]
  },
  {
   "cell_type": "code",
   "execution_count": 216,
   "id": "575d4ac9",
   "metadata": {},
   "outputs": [
    {
     "data": {
      "image/png": "[encoded data removed]",
      "text/plain": [
       "<Figure size 576x360 with 1 Axes>"
      ]
     },
     "metadata": {},
     "output_type": "display_data"
    }
   ],
   "source": [
    "# Target variable distribution\n",
    "sns.set_style('darkgrid')\n",
    "plt.figure(figsize=(8, 5))\n",
    "sns.countplot(x = train_df[\"OFFSET_FAULT\"])\n",
    "plt.title('Target variable distribution')\n",
    "plt.show()"
   ]
  },
  {
   "cell_type": "markdown",
   "id": "0191c64b",
   "metadata": {},
   "source": [
    "### Outliers"
   ]
  },
  {
   "cell_type": "code",
   "execution_count": 217,
   "id": "7d95b35e",
   "metadata": {
    "scrolled": false
   },
   "outputs": [
    {
     "data": {
      "image/png": "[encoded data removed]",
      "text/plain": [
       "<Figure size 1080x720 with 4 Axes>"
      ]
     },
     "metadata": {},
     "output_type": "display_data"
    }
   ],
   "source": [
    "# Plotting boxplots for each of the numerical columns\n",
    "sns.set_style('darkgrid')\n",
    "fig, axes = plt.subplots(nrows = 2, ncols = 2, figsize = (15, 10))\n",
    "fig.suptitle('Box plots showing outliers', y= 0.93, fontsize = 15)\n",
    "\n",
    "for ax, data, name in zip(axes.flatten(), train_df, ['SENSOR1_2.5',\t'SENSOR2_2.5',\t'TEMPERATURE',\t'RELATIVE_HUMIDITY']):\n",
    "  sns.boxplot(x = train_df[name], ax = ax)"
   ]
  },
  {
   "cell_type": "code",
   "execution_count": 218,
   "id": "27aff7c1",
   "metadata": {},
   "outputs": [
    {
     "data": {
      "image/png": "[encoded data removed]",
      "text/plain": [
       "<Figure size 1080x720 with 4 Axes>"
      ]
     },
     "metadata": {},
     "output_type": "display_data"
    }
   ],
   "source": [
    "# Plotting boxplots for each of the numerical columns\n",
    "sns.set_style('darkgrid')\n",
    "fig, axes = plt.subplots(nrows = 2, ncols = 2, figsize = (15, 10))\n",
    "fig.suptitle('Box plots showing outliers', y= 0.93, fontsize = 15)\n",
    "\n",
    "for ax, data, name in zip(axes.flatten(), test_df, ['SENSOR1_2.5',\t'SENSOR2_2.5',\t'TEMPERATURE',\t'RELATIVE_HUMIDITY']):\n",
    "  sns.boxplot(x = test_df[name], ax = ax)"
   ]
  },
  {
   "cell_type": "code",
   "execution_count": 219,
   "id": "929b4c78",
   "metadata": {},
   "outputs": [
    {
     "data": {
      "text/plain": [
       "(Index(['ID', 'DATETIME', 'SENSOR1_2.5', 'SENSOR2_2.5', 'TEMPERATURE',\n",
       "        'RELATIVE_HUMIDITY', 'OFFSET_FAULT', 'YEAR', 'MONTH', 'DAY', 'HOUR',\n",
       "        'DAY_OF_WEEK', 'HOUR_OF_WEEK'],\n",
       "       dtype='object'),\n",
       " Index(['ID', 'DATETIME', 'SENSOR1_2.5', 'SENSOR2_2.5', 'TEMPERATURE',\n",
       "        'RELATIVE_HUMIDITY', 'YEAR', 'MONTH', 'DAY', 'HOUR', 'DAY_OF_WEEK',\n",
       "        'HOUR_OF_WEEK'],\n",
       "       dtype='object'))"
      ]
     },
     "execution_count": 219,
     "metadata": {},
     "output_type": "execute_result"
    }
   ],
   "source": [
    "train_df.columns, test_df.columns"
   ]
  },
  {
   "cell_type": "markdown",
   "id": "1ae1524b",
   "metadata": {},
   "source": [
    "### Feature Correlation"
   ]
  },
  {
   "cell_type": "code",
   "execution_count": 220,
   "id": "3c0ff739",
   "metadata": {
    "scrolled": true
   },
   "outputs": [
    {
     "data": {
      "image/png": "[encoded data removed]",
      "text/plain": [
       "<Figure size 936x576 with 2 Axes>"
      ]
     },
     "metadata": {},
     "output_type": "display_data"
    }
   ],
   "source": [
    "#Quantify correlations\n",
    "corr = train_df.corr()\n",
    "plt.figure(figsize = (13, 8))\n",
    "sns.heatmap(corr, cmap='RdYlGn', annot = True, center = 0)\n",
    "plt.title('Correlogram', fontsize = 15, color = 'darkgreen')\n",
    "plt.show()"
   ]
  },
  {
   "cell_type": "markdown",
   "id": "a5b1cb18",
   "metadata": {},
   "source": [
    "# 2. Feature Engineering"
   ]
  },
  {
   "cell_type": "markdown",
   "id": "5d92c1bd",
   "metadata": {},
   "source": [
    "### Convert Data types to appropriate formats"
   ]
  },
  {
   "cell_type": "code",
   "execution_count": 221,
   "id": "d3d2bf47",
   "metadata": {
    "scrolled": false
   },
   "outputs": [
    {
     "name": "stdout",
     "output_type": "stream",
     "text": [
      "<class 'pandas.core.frame.DataFrame'>\n",
      "RangeIndex: 127361 entries, 0 to 127360\n",
      "Data columns (total 12 columns):\n",
      " #   Column             Non-Null Count   Dtype         \n",
      "---  ------             --------------   -----         \n",
      " 0   ID                 127361 non-null  object        \n",
      " 1   DATETIME           127361 non-null  datetime64[ns]\n",
      " 2   SENSOR1_2.5        127361 non-null  float64       \n",
      " 3   SENSOR2_2.5        127361 non-null  float64       \n",
      " 4   TEMPERATURE        39271 non-null   float64       \n",
      " 5   RELATIVE_HUMIDITY  39271 non-null   float64       \n",
      " 6   YEAR               127361 non-null  int64         \n",
      " 7   MONTH              127361 non-null  int64         \n",
      " 8   DAY                127361 non-null  int64         \n",
      " 9   HOUR               127361 non-null  int64         \n",
      " 10  DAY_OF_WEEK        127361 non-null  int64         \n",
      " 11  HOUR_OF_WEEK       127361 non-null  int64         \n",
      "dtypes: datetime64[ns](1), float64(4), int64(6), object(1)\n",
      "memory usage: 11.7+ MB\n"
     ]
    }
   ],
   "source": [
    "test_df.info()"
   ]
  },
  {
   "cell_type": "markdown",
   "id": "0d047adb",
   "metadata": {},
   "source": [
    "### Dealing with Null values"
   ]
  },
  {
   "cell_type": "code",
   "execution_count": 222,
   "id": "4eda6339",
   "metadata": {
    "scrolled": true
   },
   "outputs": [],
   "source": [
    "train_df= train_df.dropna(axis = 0, how ='any', thresh = None, subset = None, inplace=False)\n",
    "test_df= test_df.dropna(axis = 0, how ='any', thresh = None, subset = None, inplace=False)\n"
   ]
  },
  {
   "cell_type": "code",
   "execution_count": 223,
   "id": "ca293080",
   "metadata": {
    "scrolled": true
   },
   "outputs": [
    {
     "data": {
      "text/plain": [
       "ID                   0\n",
       "DATETIME             0\n",
       "SENSOR1_2.5          0\n",
       "SENSOR2_2.5          0\n",
       "TEMPERATURE          0\n",
       "RELATIVE_HUMIDITY    0\n",
       "YEAR                 0\n",
       "MONTH                0\n",
       "DAY                  0\n",
       "HOUR                 0\n",
       "DAY_OF_WEEK          0\n",
       "HOUR_OF_WEEK         0\n",
       "dtype: int64"
      ]
     },
     "execution_count": 223,
     "metadata": {},
     "output_type": "execute_result"
    }
   ],
   "source": [
    "test_df.isnull().sum()"
   ]
  },
  {
   "cell_type": "markdown",
   "id": "51d97739",
   "metadata": {},
   "source": [
    "drop the datetime and id columns"
   ]
  },
  {
   "cell_type": "code",
   "execution_count": 224,
   "id": "628a8e1f",
   "metadata": {},
   "outputs": [
    {
     "data": {
      "text/plain": [
       "Index(['SENSOR1_2.5', 'SENSOR2_2.5', 'TEMPERATURE', 'RELATIVE_HUMIDITY',\n",
       "       'YEAR', 'MONTH', 'DAY', 'HOUR', 'DAY_OF_WEEK', 'HOUR_OF_WEEK'],\n",
       "      dtype='object')"
      ]
     },
     "execution_count": 224,
     "metadata": {},
     "output_type": "execute_result"
    }
   ],
   "source": [
    "#drop the datetime and id columns\n",
    "train_df1 = train_df.drop(['ID', 'DATETIME'], axis = 1)\n",
    "test_df1 = test_df.drop(['ID', 'DATETIME'], axis = 1)\n",
    "test_df1.columns"
   ]
  },
  {
   "cell_type": "markdown",
   "id": "5472a7d0",
   "metadata": {},
   "source": [
    "### Dealing with outliers"
   ]
  },
  {
   "cell_type": "code",
   "execution_count": 225,
   "id": "5083ca76",
   "metadata": {},
   "outputs": [],
   "source": [
    "# split data into predictors and response\n",
    "train_df2 = train_df1.drop('OFFSET_FAULT', axis=1)\n"
   ]
  },
  {
   "cell_type": "code",
   "execution_count": null,
   "id": "7e198292",
   "metadata": {},
   "outputs": [],
   "source": []
  },
  {
   "cell_type": "code",
   "execution_count": 226,
   "id": "492ac04b",
   "metadata": {},
   "outputs": [
    {
     "data": {
      "text/html": [
       "<div>\n",
       "<style scoped>\n",
       "    .dataframe tbody tr th:only-of-type {\n",
       "        vertical-align: middle;\n",
       "    }\n",
       "\n",
       "    .dataframe tbody tr th {\n",
       "        vertical-align: top;\n",
       "    }\n",
       "\n",
       "    .dataframe thead th {\n",
       "        text-align: right;\n",
       "    }\n",
       "</style>\n",
       "<table border=\"1\" class=\"dataframe\">\n",
       "  <thead>\n",
       "    <tr style=\"text-align: right;\">\n",
       "      <th></th>\n",
       "      <th>SENSOR1_2.5</th>\n",
       "      <th>SENSOR2_2.5</th>\n",
       "      <th>TEMPERATURE</th>\n",
       "      <th>RELATIVE_HUMIDITY</th>\n",
       "      <th>YEAR</th>\n",
       "      <th>MONTH</th>\n",
       "      <th>DAY</th>\n",
       "      <th>HOUR</th>\n",
       "      <th>DAY_OF_WEEK</th>\n",
       "      <th>HOUR_OF_WEEK</th>\n",
       "    </tr>\n",
       "  </thead>\n",
       "  <tbody>\n",
       "    <tr>\n",
       "      <th>0</th>\n",
       "      <td>0.408344</td>\n",
       "      <td>0.389972</td>\n",
       "      <td>-1.541598</td>\n",
       "      <td>1.175348</td>\n",
       "      <td>-0.512412</td>\n",
       "      <td>0.457146</td>\n",
       "      <td>-1.480885</td>\n",
       "      <td>-1.054724</td>\n",
       "      <td>-0.500162</td>\n",
       "      <td>-0.645040</td>\n",
       "    </tr>\n",
       "    <tr>\n",
       "      <th>1</th>\n",
       "      <td>-0.197635</td>\n",
       "      <td>-0.171258</td>\n",
       "      <td>0.436566</td>\n",
       "      <td>-0.244350</td>\n",
       "      <td>-0.512412</td>\n",
       "      <td>0.457146</td>\n",
       "      <td>-0.906539</td>\n",
       "      <td>0.954310</td>\n",
       "      <td>-1.495324</td>\n",
       "      <td>-1.341841</td>\n",
       "    </tr>\n",
       "    <tr>\n",
       "      <th>2</th>\n",
       "      <td>-0.759557</td>\n",
       "      <td>-0.515934</td>\n",
       "      <td>0.410537</td>\n",
       "      <td>-0.244350</td>\n",
       "      <td>-0.512412</td>\n",
       "      <td>0.457146</td>\n",
       "      <td>-1.021408</td>\n",
       "      <td>-0.337212</td>\n",
       "      <td>1.490163</td>\n",
       "      <td>1.424869</td>\n",
       "    </tr>\n",
       "    <tr>\n",
       "      <th>3</th>\n",
       "      <td>-0.751864</td>\n",
       "      <td>-0.795156</td>\n",
       "      <td>0.410537</td>\n",
       "      <td>-0.582373</td>\n",
       "      <td>1.951554</td>\n",
       "      <td>-1.926719</td>\n",
       "      <td>-1.710624</td>\n",
       "      <td>0.954310</td>\n",
       "      <td>0.992582</td>\n",
       "      <td>1.117457</td>\n",
       "    </tr>\n",
       "    <tr>\n",
       "      <th>4</th>\n",
       "      <td>-0.090986</td>\n",
       "      <td>-0.123560</td>\n",
       "      <td>-0.630602</td>\n",
       "      <td>0.702115</td>\n",
       "      <td>-0.512412</td>\n",
       "      <td>0.457146</td>\n",
       "      <td>-1.251147</td>\n",
       "      <td>1.528319</td>\n",
       "      <td>0.495001</td>\n",
       "      <td>0.707574</td>\n",
       "    </tr>\n",
       "  </tbody>\n",
       "</table>\n",
       "</div>"
      ],
      "text/plain": [
       "   SENSOR1_2.5  SENSOR2_2.5  TEMPERATURE  RELATIVE_HUMIDITY      YEAR  \\\n",
       "0     0.408344     0.389972    -1.541598           1.175348 -0.512412   \n",
       "1    -0.197635    -0.171258     0.436566          -0.244350 -0.512412   \n",
       "2    -0.759557    -0.515934     0.410537          -0.244350 -0.512412   \n",
       "3    -0.751864    -0.795156     0.410537          -0.582373  1.951554   \n",
       "4    -0.090986    -0.123560    -0.630602           0.702115 -0.512412   \n",
       "\n",
       "      MONTH       DAY      HOUR  DAY_OF_WEEK  HOUR_OF_WEEK  \n",
       "0  0.457146 -1.480885 -1.054724    -0.500162     -0.645040  \n",
       "1  0.457146 -0.906539  0.954310    -1.495324     -1.341841  \n",
       "2  0.457146 -1.021408 -0.337212     1.490163      1.424869  \n",
       "3 -1.926719 -1.710624  0.954310     0.992582      1.117457  \n",
       "4  0.457146 -1.251147  1.528319     0.495001      0.707574  "
      ]
     },
     "execution_count": 226,
     "metadata": {},
     "output_type": "execute_result"
    }
   ],
   "source": [
    "# demonstrate data standardization with sklearn\n",
    "from sklearn.preprocessing import StandardScaler\n",
    "# create scaler\n",
    "scaler = StandardScaler()\n",
    "# fit and transform in one step\n",
    "standardized = scaler.fit_transform(train_df2)\n",
    "# convert the scaled predictor values into a dataframe\n",
    "train_df3 = pd.DataFrame(standardized,columns=train_df2.columns)\n",
    "train_df3.head()"
   ]
  },
  {
   "cell_type": "code",
   "execution_count": 227,
   "id": "b08725d0",
   "metadata": {},
   "outputs": [
    {
     "data": {
      "text/html": [
       "<div>\n",
       "<style scoped>\n",
       "    .dataframe tbody tr th:only-of-type {\n",
       "        vertical-align: middle;\n",
       "    }\n",
       "\n",
       "    .dataframe tbody tr th {\n",
       "        vertical-align: top;\n",
       "    }\n",
       "\n",
       "    .dataframe thead th {\n",
       "        text-align: right;\n",
       "    }\n",
       "</style>\n",
       "<table border=\"1\" class=\"dataframe\">\n",
       "  <thead>\n",
       "    <tr style=\"text-align: right;\">\n",
       "      <th></th>\n",
       "      <th>SENSOR1_2.5</th>\n",
       "      <th>SENSOR2_2.5</th>\n",
       "      <th>TEMPERATURE</th>\n",
       "      <th>RELATIVE_HUMIDITY</th>\n",
       "      <th>YEAR</th>\n",
       "      <th>MONTH</th>\n",
       "      <th>DAY</th>\n",
       "      <th>HOUR</th>\n",
       "      <th>DAY_OF_WEEK</th>\n",
       "      <th>HOUR_OF_WEEK</th>\n",
       "    </tr>\n",
       "  </thead>\n",
       "  <tbody>\n",
       "    <tr>\n",
       "      <th>0</th>\n",
       "      <td>1.030713</td>\n",
       "      <td>1.764043</td>\n",
       "      <td>-0.398291</td>\n",
       "      <td>-0.896976</td>\n",
       "      <td>0.0</td>\n",
       "      <td>-0.835191</td>\n",
       "      <td>0.858232</td>\n",
       "      <td>-0.513594</td>\n",
       "      <td>0.555191</td>\n",
       "      <td>0.478669</td>\n",
       "    </tr>\n",
       "    <tr>\n",
       "      <th>1</th>\n",
       "      <td>10.600473</td>\n",
       "      <td>9.055564</td>\n",
       "      <td>1.185383</td>\n",
       "      <td>-0.509772</td>\n",
       "      <td>0.0</td>\n",
       "      <td>-0.835191</td>\n",
       "      <td>0.530164</td>\n",
       "      <td>0.803478</td>\n",
       "      <td>-1.538324</td>\n",
       "      <td>-1.418627</td>\n",
       "    </tr>\n",
       "    <tr>\n",
       "      <th>2</th>\n",
       "      <td>0.140848</td>\n",
       "      <td>0.791735</td>\n",
       "      <td>-0.559342</td>\n",
       "      <td>0.541209</td>\n",
       "      <td>0.0</td>\n",
       "      <td>-0.835191</td>\n",
       "      <td>1.104283</td>\n",
       "      <td>-0.659935</td>\n",
       "      <td>-1.538324</td>\n",
       "      <td>-1.636708</td>\n",
       "    </tr>\n",
       "    <tr>\n",
       "      <th>3</th>\n",
       "      <td>0.336373</td>\n",
       "      <td>-0.175857</td>\n",
       "      <td>-0.264081</td>\n",
       "      <td>0.430580</td>\n",
       "      <td>0.0</td>\n",
       "      <td>-0.835191</td>\n",
       "      <td>1.104283</td>\n",
       "      <td>-1.684325</td>\n",
       "      <td>-1.538324</td>\n",
       "      <td>-1.789364</td>\n",
       "    </tr>\n",
       "    <tr>\n",
       "      <th>4</th>\n",
       "      <td>-0.284080</td>\n",
       "      <td>-0.465066</td>\n",
       "      <td>-0.935129</td>\n",
       "      <td>0.873098</td>\n",
       "      <td>0.0</td>\n",
       "      <td>1.197330</td>\n",
       "      <td>-1.356225</td>\n",
       "      <td>-1.537984</td>\n",
       "      <td>-1.014945</td>\n",
       "      <td>-1.244163</td>\n",
       "    </tr>\n",
       "  </tbody>\n",
       "</table>\n",
       "</div>"
      ],
      "text/plain": [
       "   SENSOR1_2.5  SENSOR2_2.5  TEMPERATURE  RELATIVE_HUMIDITY  YEAR     MONTH  \\\n",
       "0     1.030713     1.764043    -0.398291          -0.896976   0.0 -0.835191   \n",
       "1    10.600473     9.055564     1.185383          -0.509772   0.0 -0.835191   \n",
       "2     0.140848     0.791735    -0.559342           0.541209   0.0 -0.835191   \n",
       "3     0.336373    -0.175857    -0.264081           0.430580   0.0 -0.835191   \n",
       "4    -0.284080    -0.465066    -0.935129           0.873098   0.0  1.197330   \n",
       "\n",
       "        DAY      HOUR  DAY_OF_WEEK  HOUR_OF_WEEK  \n",
       "0  0.858232 -0.513594     0.555191      0.478669  \n",
       "1  0.530164  0.803478    -1.538324     -1.418627  \n",
       "2  1.104283 -0.659935    -1.538324     -1.636708  \n",
       "3  1.104283 -1.684325    -1.538324     -1.789364  \n",
       "4 -1.356225 -1.537984    -1.014945     -1.244163  "
      ]
     },
     "execution_count": 227,
     "metadata": {},
     "output_type": "execute_result"
    }
   ],
   "source": [
    "scaler = StandardScaler()\n",
    "# fit and transform in one step\n",
    "standardized = scaler.fit_transform(test_df1)\n",
    "# convert the scaled predictor values into a dataframe\n",
    "test_df2 = pd.DataFrame(standardized,columns=test_df1.columns)\n",
    "test_df2.head()"
   ]
  },
  {
   "cell_type": "markdown",
   "id": "14cf17f1",
   "metadata": {},
   "source": [
    "# 3. Modelling"
   ]
  },
  {
   "cell_type": "code",
   "execution_count": 228,
   "id": "dbfa8b57",
   "metadata": {},
   "outputs": [
    {
     "name": "stdout",
     "output_type": "stream",
     "text": [
      "Accuracy score: 0.7317897350137061\n",
      "\n",
      "\n",
      "              precision    recall  f1-score   support\n",
      "\n",
      "           0       0.71      0.96      0.82     36634\n",
      "           1       0.84      0.34      0.48     21369\n",
      "\n",
      "    accuracy                           0.73     58003\n",
      "   macro avg       0.77      0.65      0.65     58003\n",
      "weighted avg       0.76      0.73      0.69     58003\n",
      "\n"
     ]
    }
   ],
   "source": [
    "from sklearn.ensemble import RandomForestClassifier\n",
    "from sklearn.model_selection import train_test_split\n",
    "from sklearn.metrics import accuracy_score, confusion_matrix, classification_report, ConfusionMatrixDisplay\n",
    "\n",
    "X = train_df3\n",
    "y = train_df1.OFFSET_FAULT\n",
    "\n",
    "# Splitting the data into training and testing sets\n",
    "X_train, X_test, y_train, y_test = train_test_split(X, y, test_size = 0.2, random_state = 42)\n",
    "\n",
    "# Instantiating the model\n",
    "clf = RandomForestClassifier(max_depth = 3, random_state = 0)\n",
    "clf.fit(X_train, y_train)\n",
    "\n",
    "# Making predictions\n",
    "y_pred = clf.predict(X_test)\n",
    "\n",
    "# Measuring the accuracy of the model\n",
    "print(f'Accuracy score: {accuracy_score(y_test, y_pred)}')\n",
    "print('\\n')\n",
    "print(f'{classification_report(y_test, y_pred)}')"
   ]
  },
  {
   "cell_type": "code",
   "execution_count": 229,
   "id": "ca2f5072",
   "metadata": {
    "scrolled": true
   },
   "outputs": [
    {
     "data": {
      "image/png": "[encoded data removed]",
      "text/plain": [
       "<Figure size 1080x504 with 2 Axes>"
      ]
     },
     "metadata": {},
     "output_type": "display_data"
    }
   ],
   "source": [
    "# Confusion matrix\n",
    "cm = confusion_matrix(y_test, y_pred, labels=clf.classes_)\n",
    "disp = ConfusionMatrixDisplay(confusion_matrix=cm, display_labels=clf.classes_)\n",
    "fig, ax = plt.subplots(figsize=(15,7))\n",
    "disp.plot(ax=ax)\n",
    "plt.show()"
   ]
  },
  {
   "cell_type": "code",
   "execution_count": 230,
   "id": "898c7d63",
   "metadata": {
    "scrolled": true
   },
   "outputs": [
    {
     "data": {
      "image/png": "[encoded data removed]",
      "text/plain": [
       "<Figure size 720x720 with 1 Axes>"
      ]
     },
     "metadata": {},
     "output_type": "display_data"
    }
   ],
   "source": [
    "# Feature importance\n",
    "impo_df = pd.DataFrame({'feature': X.columns, 'importance': clf.feature_importances_}).set_index('feature').sort_values(by = 'importance', ascending = False)\n",
    "impo_df = impo_df[:12].sort_values(by = 'importance', ascending = True)\n",
    "impo_df.plot(kind = 'barh', figsize = (10, 10), color = 'purple')\n",
    "plt.legend(loc = 'center right')\n",
    "plt.title('Bar chart showing feature importance', color = 'indigo', fontsize = 14)\n",
    "plt.xlabel('Features', fontsize = 12, color = 'indigo')\n",
    "plt.show()"
   ]
  },
  {
   "cell_type": "code",
   "execution_count": 231,
   "id": "f079720c",
   "metadata": {
    "scrolled": true
   },
   "outputs": [
    {
     "name": "stdout",
     "output_type": "stream",
     "text": [
      "[0 1 1 0 1]\n"
     ]
    }
   ],
   "source": [
    "# Import DecisionTreeClassifier from sklearn.tree\n",
    "from sklearn.tree import DecisionTreeClassifier\n",
    "\n",
    "# Instantiate a DecisionTreeClassifier 'dt' with a maximum depth of 6\n",
    "dt = DecisionTreeClassifier(max_depth=6, random_state=42)\n",
    "\n",
    "# Fit dt to the training set\n",
    "dt.fit(X_train, y_train)\n",
    "\n",
    "# Predict test set labels\n",
    "y_pred = dt.predict(X_test)\n",
    "print(y_pred[0:5])"
   ]
  },
  {
   "cell_type": "code",
   "execution_count": 232,
   "id": "6b5c663c",
   "metadata": {},
   "outputs": [
    {
     "name": "stdout",
     "output_type": "stream",
     "text": [
      "Test set accuracy: 0.80\n"
     ]
    }
   ],
   "source": [
    "# Predict test set labels\n",
    "y_pred = dt.predict(X_test)\n",
    "\n",
    "# Compute test set accuracy  \n",
    "acc = accuracy_score(y_test, y_pred)\n",
    "print(\"Test set accuracy: {:.2f}\".format(acc))"
   ]
  },
  {
   "cell_type": "code",
   "execution_count": 233,
   "id": "5e011f49",
   "metadata": {},
   "outputs": [
    {
     "name": "stdout",
     "output_type": "stream",
     "text": [
      "Accuracy achieved by using entropy:  0.8311811458028033\n"
     ]
    }
   ],
   "source": [
    "# Instantiate dt_entropy, set 'entropy' as the information criterion\n",
    "dt_entropy = DecisionTreeClassifier(max_depth=8, criterion='entropy', random_state=42)\n",
    "\n",
    "# Fit dt_entropy to the training set\n",
    "dt_entropy.fit(X_train,y_train)\n",
    "\n",
    "# Use dt_entropy to predict test set labels\n",
    "y_pred= dt_entropy.predict(X_test)\n",
    "\n",
    "# Evaluate accuracy_entropy\n",
    "accuracy_entropy = accuracy_score(y_test, y_pred)\n",
    "\n",
    "# Print accuracy_entropy\n",
    "print('Accuracy achieved by using entropy: ', accuracy_entropy)\n"
   ]
  },
  {
   "cell_type": "markdown",
   "id": "3d9b39a2",
   "metadata": {},
   "source": []
  }
 ],
 "metadata": {
  "kernelspec": {
   "display_name": "Python 3 (ipykernel)",
   "language": "python",
   "name": "python3"
  },
  "language_info": {
   "codemirror_mode": {
    "name": "ipython",
    "version": 3
   },
   "file_extension": ".py",
   "mimetype": "text/x-python",
   "name": "python",
   "nbconvert_exporter": "python",
   "pygments_lexer": "ipython3",
   "version": "3.9.7"
  }
 },
 "nbformat": 4,
 "nbformat_minor": 5
}
