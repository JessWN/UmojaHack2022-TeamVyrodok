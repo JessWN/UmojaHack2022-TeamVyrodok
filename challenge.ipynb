{
 "cells": [
  {
   "cell_type": "markdown",
   "id": "65a12f1e",
   "metadata": {},
   "source": [
    "### FAULTY AIR QUALITY SENSOR CHALLENGE"
   ]
  },
  {
   "cell_type": "markdown",
   "id": "18e07056",
   "metadata": {},
   "source": [
    "#### VYRODOK TEAM\n",
    "School: EDSA\n",
    "\n",
    "- Eric Mbuthia\n",
    "- Linda Kelida\n",
    "- Teddy Waweru\n",
    "- Jessica Njuguna"
   ]
  },
  {
   "cell_type": "markdown",
   "id": "1ee561ee",
   "metadata": {},
   "source": [
    "# 1. EDA Process"
   ]
  },
  {
   "cell_type": "markdown",
   "id": "1524eaaa",
   "metadata": {},
   "source": [
    "#### Import EDA Packages"
   ]
  },
  {
   "cell_type": "code",
   "execution_count": 5,
   "id": "f0cd59ac",
   "metadata": {},
   "outputs": [],
   "source": [
    "import pandas as pd\n",
    "import numpy as np\n",
    "import matplotlib.pyplot as plt\n",
    "import seaborn as sns\n",
    "sns.set()"
   ]
  },
  {
   "cell_type": "markdown",
   "id": "a00c38df",
   "metadata": {},
   "source": [
    "#### Import Data"
   ]
  },
  {
   "cell_type": "code",
   "execution_count": 2,
   "id": "f56c51d9",
   "metadata": {},
   "outputs": [],
   "source": [
    "# Load Files\n",
    "train_df = pd.read_csv('Challenge/data/train.csv')\n",
    "test_df = pd.read_csv('Challenge/data/test.csv')\n",
    "samp_df = pd.read_csv('Challenge/data/SampleSubmission.csv')"
   ]
  },
  {
   "cell_type": "markdown",
   "id": "46a7b956",
   "metadata": {},
   "source": [
    "## Statistical Summaries"
   ]
  },
  {
   "cell_type": "code",
   "execution_count": 4,
   "id": "9c158afa",
   "metadata": {},
   "outputs": [
    {
     "data": {
      "text/plain": [
       "(Index(['ID', 'Datetime', 'Sensor1_PM2.5', 'Sensor2_PM2.5', 'Temperature',\n",
       "        'Relative_Humidity', 'Offset_fault'],\n",
       "       dtype='object'),\n",
       " Index(['ID', 'Datetime', 'Sensor1_PM2.5', 'Sensor2_PM2.5', 'Temperature',\n",
       "        'Relative_Humidity'],\n",
       "       dtype='object'),\n",
       " Index(['ID', 'Offset_fault'], dtype='object'))"
      ]
     },
     "execution_count": 4,
     "metadata": {},
     "output_type": "execute_result"
    }
   ],
   "source": [
    "train_df.columns, test_df.columns, samp_df.columns"
   ]
  },
  {
   "cell_type": "code",
   "execution_count": 12,
   "id": "02701bc9",
   "metadata": {},
   "outputs": [
    {
     "data": {
      "text/plain": [
       "((297177, 7),\n",
       " (127361, 6),\n",
       " (127361, 2),\n",
       " ID                      0\n",
       " Datetime                0\n",
       " Sensor1_PM2.5        3614\n",
       " Sensor2_PM2.5        3614\n",
       " Temperature          3549\n",
       " Relative_Humidity    3549\n",
       " Offset_fault            0\n",
       " dtype: int64,\n",
       " ID                       0\n",
       " Datetime                 0\n",
       " Sensor1_PM2.5            0\n",
       " Sensor2_PM2.5            0\n",
       " Temperature          88090\n",
       " Relative_Humidity    88090\n",
       " dtype: int64)"
      ]
     },
     "execution_count": 12,
     "metadata": {},
     "output_type": "execute_result"
    }
   ],
   "source": [
    "train_df.shape, test_df.shape, samp_df.shape, train_df.isna().sum(), test_df.isna().sum()"
   ]
  },
  {
   "cell_type": "code",
   "execution_count": 7,
   "id": "6bf57dc6",
   "metadata": {},
   "outputs": [
    {
     "name": "stdout",
     "output_type": "stream",
     "text": [
      "<class 'pandas.core.frame.DataFrame'>\n",
      "RangeIndex: 297177 entries, 0 to 297176\n",
      "Data columns (total 7 columns):\n",
      " #   Column             Non-Null Count   Dtype  \n",
      "---  ------             --------------   -----  \n",
      " 0   ID                 297177 non-null  object \n",
      " 1   Datetime           297177 non-null  object \n",
      " 2   Sensor1_PM2.5      293563 non-null  float64\n",
      " 3   Sensor2_PM2.5      293563 non-null  float64\n",
      " 4   Temperature        293628 non-null  float64\n",
      " 5   Relative_Humidity  293628 non-null  float64\n",
      " 6   Offset_fault       297177 non-null  int64  \n",
      "dtypes: float64(4), int64(1), object(2)\n",
      "memory usage: 15.9+ MB\n"
     ]
    },
    {
     "data": {
      "text/plain": [
       "(None,\n",
       " ID                    object\n",
       " Datetime              object\n",
       " Sensor1_PM2.5        float64\n",
       " Sensor2_PM2.5        float64\n",
       " Temperature          float64\n",
       " Relative_Humidity    float64\n",
       " Offset_fault           int64\n",
       " dtype: object)"
      ]
     },
     "execution_count": 7,
     "metadata": {},
     "output_type": "execute_result"
    }
   ],
   "source": [
    "train_df.info(), train_df.dtypes"
   ]
  },
  {
   "cell_type": "code",
   "execution_count": 9,
   "id": "c3dd1379",
   "metadata": {},
   "outputs": [
    {
     "data": {
      "text/html": [
       "<div><div id=0082a466-c82e-4753-bcfc-1e90120b7163 style=\"display:none; background-color:#9D6CFF; color:white; width:200px; height:30px; padding-left:5px; border-radius:4px; flex-direction:row; justify-content:space-around; align-items:center;\" onmouseover=\"this.style.backgroundColor='#BA9BF8'\" onmouseout=\"this.style.backgroundColor='#9D6CFF'\" onclick=\"window.commands?.execute('create-mitosheet-from-dataframe-output');\">See Full Dataframe in Mito</div> <script> if (window.commands.hasCommand('create-mitosheet-from-dataframe-output')) document.getElementById('0082a466-c82e-4753-bcfc-1e90120b7163').style.display = 'flex' </script> <table border=\"1\" class=\"dataframe\">\n",
       "  <thead>\n",
       "    <tr style=\"text-align: right;\">\n",
       "      <th></th>\n",
       "      <th>Sensor1_PM2.5</th>\n",
       "      <th>Sensor2_PM2.5</th>\n",
       "      <th>Temperature</th>\n",
       "      <th>Relative_Humidity</th>\n",
       "      <th>Offset_fault</th>\n",
       "    </tr>\n",
       "  </thead>\n",
       "  <tbody>\n",
       "    <tr>\n",
       "      <th>count</th>\n",
       "      <td>293563.000000</td>\n",
       "      <td>293563.000000</td>\n",
       "      <td>293628.000000</td>\n",
       "      <td>293628.000000</td>\n",
       "      <td>297177.000000</td>\n",
       "    </tr>\n",
       "    <tr>\n",
       "      <th>mean</th>\n",
       "      <td>40.751195</td>\n",
       "      <td>38.183018</td>\n",
       "      <td>23.316554</td>\n",
       "      <td>78.653623</td>\n",
       "      <td>0.371072</td>\n",
       "    </tr>\n",
       "    <tr>\n",
       "      <th>std</th>\n",
       "      <td>28.526182</td>\n",
       "      <td>28.647761</td>\n",
       "      <td>3.836971</td>\n",
       "      <td>14.772725</td>\n",
       "      <td>0.483092</td>\n",
       "    </tr>\n",
       "    <tr>\n",
       "      <th>min</th>\n",
       "      <td>-9.450000</td>\n",
       "      <td>-9.700000</td>\n",
       "      <td>16.700000</td>\n",
       "      <td>27.000000</td>\n",
       "      <td>0.000000</td>\n",
       "    </tr>\n",
       "    <tr>\n",
       "      <th>25%</th>\n",
       "      <td>22.430000</td>\n",
       "      <td>19.520000</td>\n",
       "      <td>20.400000</td>\n",
       "      <td>68.000000</td>\n",
       "      <td>0.000000</td>\n",
       "    </tr>\n",
       "    <tr>\n",
       "      <th>50%</th>\n",
       "      <td>36.470000</td>\n",
       "      <td>33.720000</td>\n",
       "      <td>21.900000</td>\n",
       "      <td>84.000000</td>\n",
       "      <td>0.000000</td>\n",
       "    </tr>\n",
       "    <tr>\n",
       "      <th>75%</th>\n",
       "      <td>49.420000</td>\n",
       "      <td>47.570000</td>\n",
       "      <td>26.300000</td>\n",
       "      <td>91.000000</td>\n",
       "      <td>1.000000</td>\n",
       "    </tr>\n",
       "    <tr>\n",
       "      <th>max</th>\n",
       "      <td>997.960000</td>\n",
       "      <td>997.260000</td>\n",
       "      <td>34.900000</td>\n",
       "      <td>99.000000</td>\n",
       "      <td>1.000000</td>\n",
       "    </tr>\n",
       "  </tbody>\n",
       "</table></div>"
      ],
      "text/plain": [
       "       Sensor1_PM2.5  Sensor2_PM2.5    Temperature  Relative_Humidity  \\\n",
       "count  293563.000000  293563.000000  293628.000000      293628.000000   \n",
       "mean       40.751195      38.183018      23.316554          78.653623   \n",
       "std        28.526182      28.647761       3.836971          14.772725   \n",
       "min        -9.450000      -9.700000      16.700000          27.000000   \n",
       "25%        22.430000      19.520000      20.400000          68.000000   \n",
       "50%        36.470000      33.720000      21.900000          84.000000   \n",
       "75%        49.420000      47.570000      26.300000          91.000000   \n",
       "max       997.960000     997.260000      34.900000          99.000000   \n",
       "\n",
       "        Offset_fault  \n",
       "count  297177.000000  \n",
       "mean        0.371072  \n",
       "std         0.483092  \n",
       "min         0.000000  \n",
       "25%         0.000000  \n",
       "50%         0.000000  \n",
       "75%         1.000000  \n",
       "max         1.000000  "
      ]
     },
     "execution_count": 9,
     "metadata": {},
     "output_type": "execute_result"
    }
   ],
   "source": [
    "train_df.describe()"
   ]
  },
  {
   "cell_type": "code",
   "execution_count": 10,
   "id": "9811c7cb",
   "metadata": {},
   "outputs": [
    {
     "data": {
      "text/plain": [
       "ID                      0\n",
       "Datetime                0\n",
       "Sensor1_PM2.5        3614\n",
       "Sensor2_PM2.5        3614\n",
       "Temperature          3549\n",
       "Relative_Humidity    3549\n",
       "Offset_fault            0\n",
       "dtype: int64"
      ]
     },
     "execution_count": 10,
     "metadata": {},
     "output_type": "execute_result"
    }
   ],
   "source": [
    "train_df.isna().sum()"
   ]
  },
  {
   "cell_type": "markdown",
   "id": "db594bb1",
   "metadata": {},
   "source": [
    "## Visualizations"
   ]
  },
  {
   "cell_type": "markdown",
   "id": "3b69d3cc",
   "metadata": {},
   "source": [
    "### Time Series"
   ]
  },
  {
   "cell_type": "markdown",
   "id": "2e04f6be",
   "metadata": {},
   "source": [
    "### Target Variable Distribution"
   ]
  },
  {
   "cell_type": "code",
   "execution_count": 9,
   "id": "575d4ac9",
   "metadata": {},
   "outputs": [
    {
     "data": {
      "image/png": "[encoded data removed]",
      "text/plain": [
       "<Figure size 576x360 with 1 Axes>"
      ]
     },
     "metadata": {},
     "output_type": "display_data"
    }
   ],
   "source": [
    "# Target variable distribution\n",
    "sns.set_style('darkgrid')\n",
    "plt.figure(figsize=(8, 5))\n",
    "sns.countplot(x = train_df[\"Offset_fault\"])\n",
    "plt.title('Target variable distribution')\n",
    "plt.show()"
   ]
  },
  {
   "cell_type": "markdown",
   "id": "0191c64b",
   "metadata": {},
   "source": [
    "### Outliers"
   ]
  },
  {
   "cell_type": "code",
   "execution_count": 8,
   "id": "7d95b35e",
   "metadata": {},
   "outputs": [
    {
     "data": {
      "image/png": "[encoded data removed]",
      "text/plain": [
       "<Figure size 1080x720 with 4 Axes>"
      ]
     },
     "metadata": {},
     "output_type": "display_data"
    }
   ],
   "source": [
    "# Plotting boxplots for each of the numerical columns\n",
    "sns.set_style('darkgrid')\n",
    "fig, axes = plt.subplots(nrows = 2, ncols = 2, figsize = (15, 10))\n",
    "fig.suptitle('Box plots showing outliers', y= 0.93, fontsize = 15)\n",
    "\n",
    "for ax, data, name in zip(axes.flatten(), train_df, ['Sensor1_PM2.5',\t'Sensor2_PM2.5',\t'Temperature',\t'Relative_Humidity']):\n",
    "  sns.boxplot(x = train_df[name], ax = ax)"
   ]
  },
  {
   "cell_type": "markdown",
   "id": "1ae1524b",
   "metadata": {},
   "source": [
    "### Feature Correlation"
   ]
  },
  {
   "cell_type": "markdown",
   "id": "a5b1cb18",
   "metadata": {},
   "source": [
    "# 2. Feature Engineering"
   ]
  },
  {
   "cell_type": "markdown",
   "id": "5d92c1bd",
   "metadata": {},
   "source": [
    "### Convert Data types to appropriate formats"
   ]
  },
  {
   "cell_type": "markdown",
   "id": "0d047adb",
   "metadata": {},
   "source": [
    "### Dealing with Null values"
   ]
  },
  {
   "cell_type": "markdown",
   "id": "5472a7d0",
   "metadata": {},
   "source": [
    "### Dealing with outliers"
   ]
  },
  {
   "cell_type": "markdown",
   "id": "14cf17f1",
   "metadata": {},
   "source": [
    "# 3. Modelling"
   ]
  },
  {
   "cell_type": "markdown",
   "id": "3d9b39a2",
   "metadata": {},
   "source": []
  }
 ],
 "metadata": {
  "kernelspec": {
   "display_name": "Python 3",
   "language": "python",
   "name": "python3"
  },
  "language_info": {
   "codemirror_mode": {
    "name": "ipython",
    "version": 3
   },
   "file_extension": ".py",
   "mimetype": "text/x-python",
   "name": "python",
   "nbconvert_exporter": "python",
   "pygments_lexer": "ipython3",
   "version": "3.9.7"
  }
 },
 "nbformat": 4,
 "nbformat_minor": 5
}
