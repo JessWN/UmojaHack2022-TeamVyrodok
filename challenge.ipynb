{
 "cells": [
  {
   "cell_type": "markdown",
   "id": "65a12f1e",
   "metadata": {},
   "source": [
    "### FAULTY AIR QUALITY SENSOR CHALLENGE"
   ]
  },
  {
   "cell_type": "markdown",
   "id": "18e07056",
   "metadata": {},
   "source": [
    "#### VYRODOK TEAM\n",
    "School: EDSA\n",
    "\n",
    "- Eric Mbuthia\n",
    "- Linda Kelida\n",
    "- Teddy Waweru\n",
    "- Jessica Njuguna"
   ]
  },
  {
   "cell_type": "markdown",
   "id": "1ee561ee",
   "metadata": {},
   "source": [
    "# 1. EDA Process"
   ]
  },
  {
   "cell_type": "markdown",
   "id": "1524eaaa",
   "metadata": {},
   "source": [
    "#### Import EDA Packages"
   ]
  },
  {
   "cell_type": "code",
   "execution_count": 152,
   "id": "f0cd59ac",
   "metadata": {},
   "outputs": [],
   "source": [
    "import pandas as pd\n",
    "import numpy as np\n",
    "import matplotlib.pyplot as plt\n",
    "\n",
    "import seaborn as sns\n",
    "sns.set()"
   ]
  },
  {
   "cell_type": "markdown",
   "id": "a00c38df",
   "metadata": {},
   "source": [
    "#### Import Data"
   ]
  },
  {
   "cell_type": "code",
   "execution_count": 165,
   "id": "f56c51d9",
   "metadata": {},
   "outputs": [],
   "source": [
    "#A00\n",
    "# Load Files\n",
    "raw_train_df = pd.read_csv('Challenge/data/train.csv', parse_dates=['Datetime'])\n",
    "raw_test_df = pd.read_csv('Challenge/data/test.csv', parse_dates=['Datetime'])\n",
    "raw_samp_df = pd.read_csv('Challenge/data/SampleSubmission.csv')"
   ]
  },
  {
   "cell_type": "markdown",
   "id": "46a7b956",
   "metadata": {},
   "source": [
    "## Statistical Summaries"
   ]
  },
  {
   "cell_type": "code",
   "execution_count": 155,
   "id": "9c158afa",
   "metadata": {},
   "outputs": [
    {
     "data": {
      "text/plain": [
       "(Index(['ID', 'Datetime', 'Sensor1_PM2.5', 'Sensor2_PM2.5', 'Temperature',\n",
       "        'Relative_Humidity', 'Offset_fault'],\n",
       "       dtype='object'),\n",
       " Index(['ID', 'DATETIME', 'YEAR', 'MONTH', 'DAY', 'DAY_OF_WEEK', 'HOUR',\n",
       "        'HOUR_OF_WEEK', 'SENSOR1_PM2.5', 'SENSOR2_PM2.5', 'TEMPERATURE',\n",
       "        'RELATIVE_HUMIDITY', 'OFFSET_FAULT'],\n",
       "       dtype='object'),\n",
       " Index(['ID', 'Offset_fault'], dtype='object'))"
      ]
     },
     "execution_count": 155,
     "metadata": {},
     "output_type": "execute_result"
    }
   ],
   "source": [
    "raw_train_df.columns, raw_test_df.columns, samp_df.columns"
   ]
  },
  {
   "cell_type": "code",
   "execution_count": 167,
   "id": "02701bc9",
   "metadata": {},
   "outputs": [
    {
     "data": {
      "text/plain": [
       "((297177, 7), (127361, 6), (127361, 2))"
      ]
     },
     "execution_count": 167,
     "metadata": {},
     "output_type": "execute_result"
    }
   ],
   "source": [
    "raw_train_df.shape, raw_test_df.shape, raw_samp_df.shape"
   ]
  },
  {
   "cell_type": "code",
   "execution_count": 157,
   "id": "6bf57dc6",
   "metadata": {},
   "outputs": [
    {
     "name": "stdout",
     "output_type": "stream",
     "text": [
      "<class 'pandas.core.frame.DataFrame'>\n",
      "RangeIndex: 297177 entries, 0 to 297176\n",
      "Data columns (total 7 columns):\n",
      " #   Column             Non-Null Count   Dtype         \n",
      "---  ------             --------------   -----         \n",
      " 0   ID                 297177 non-null  object        \n",
      " 1   Datetime           297177 non-null  datetime64[ns]\n",
      " 2   Sensor1_PM2.5      293563 non-null  float64       \n",
      " 3   Sensor2_PM2.5      293563 non-null  float64       \n",
      " 4   Temperature        293628 non-null  float64       \n",
      " 5   Relative_Humidity  293628 non-null  float64       \n",
      " 6   Offset_fault       297177 non-null  int64         \n",
      "dtypes: datetime64[ns](1), float64(4), int64(1), object(1)\n",
      "memory usage: 15.9+ MB\n"
     ]
    },
    {
     "data": {
      "text/plain": [
       "(None,\n",
       " ID                           object\n",
       " Datetime             datetime64[ns]\n",
       " Sensor1_PM2.5               float64\n",
       " Sensor2_PM2.5               float64\n",
       " Temperature                 float64\n",
       " Relative_Humidity           float64\n",
       " Offset_fault                  int64\n",
       " dtype: object)"
      ]
     },
     "execution_count": 157,
     "metadata": {},
     "output_type": "execute_result"
    }
   ],
   "source": [
    "raw_train_df.info(), raw_train_df.dtypes"
   ]
  },
  {
   "cell_type": "markdown",
   "id": "d3cddddf",
   "metadata": {},
   "source": [
    "We convert the Datetime column to datetime format, & add columns for the year, month, day & hour <br/>\n",
    "We shall have this in a function so it can be reused later."
   ]
  },
  {
   "cell_type": "markdown",
   "id": "688e7944",
   "metadata": {},
   "source": [
    "We shall declare a function that will contain these initial changes, in case we need to repeat the preparation of the dataset to contain these columns.\n",
    "(May be updated with other functions)"
   ]
  },
  {
   "cell_type": "code",
   "execution_count": 158,
   "id": "801dfc7f",
   "metadata": {},
   "outputs": [],
   "source": [
    "#Input: Expects df similar to the original dataset\n",
    "#Output: DF with the following columns:\n",
    "\n",
    "def prepare_df(_df):\n",
    "\n",
    "    df = _df.copy(deep=True)\n",
    "\n",
    "\n",
    "    # Add columns for year, month, day, hour\n",
    "    df['YEAR'] = pd.DatetimeIndex(df['Datetime']).year\n",
    "    df['MONTH'] = pd.DatetimeIndex(df['Datetime']).month\n",
    "    df['DAY'] = pd.DatetimeIndex(df['Datetime']).day\n",
    "    df['HOUR'] = pd.DatetimeIndex(df['Datetime']).hour\n",
    "    df['DAY_OF_WEEK'] = pd.DatetimeIndex(df['Datetime']).dayofweek\n",
    "    df['HOUR_OF_WEEK'] = ((pd.DatetimeIndex(df['Datetime']).dayofweek * 24) + pd.DatetimeIndex(df['Datetime']).hour)\n",
    "\n",
    "\n",
    "    #Standardize column titles\n",
    "    df.rename(\n",
    "        columns = {\n",
    "            'Datetime': 'DATETIME', 'Sensor1_PM2.5' : 'SENSOR1_PM2.5',\n",
    "            'Sensor2_PM2.5' : 'SENSOR2_PM2.5', 'Temperature': 'TEMPERATURE',\n",
    "            'Relative_Humidity': 'RELATIVE_HUMIDITY', 'Offset_fault': 'OFFSET_FAULT'\n",
    "        }, inplace=True\n",
    "    )\n",
    "\n",
    "    #Re-order columns\n",
    "    df = df.reindex(\n",
    "        columns = ['ID'] + ['DATETIME'] + ['YEAR'] + ['MONTH'] + ['DAY'] + \\\n",
    "            ['DAY_OF_WEEK'] + ['HOUR'] + ['HOUR_OF_WEEK'] + \\\n",
    "            [col for col in df.columns if col not in \\\n",
    "                ['ID', 'DATETIME', 'YEAR', 'MONTH', 'DAY', 'HOUR',\n",
    "                'OFFSET_FAULT', 'DAY_OF_WEEK', 'HOUR_OF_WEEK']]\\\n",
    "                    + ['OFFSET_FAULT']\n",
    "    )\n",
    "\n",
    "    return df"
   ]
  },
  {
   "cell_type": "code",
   "execution_count": 168,
   "id": "84afcb92",
   "metadata": {},
   "outputs": [],
   "source": [
    "train_df = prepare_df(raw_train_df)\n",
    "test_df = prepare_df(raw_test_df)"
   ]
  },
  {
   "cell_type": "code",
   "execution_count": 163,
   "id": "0749de1a",
   "metadata": {},
   "outputs": [
    {
     "data": {
      "text/html": [
       "<div><div id=b692f41b-b9a2-4caf-a2d2-d494962cbdbf style=\"display:none; background-color:#9D6CFF; color:white; width:200px; height:30px; padding-left:5px; border-radius:4px; flex-direction:row; justify-content:space-around; align-items:center;\" onmouseover=\"this.style.backgroundColor='#BA9BF8'\" onmouseout=\"this.style.backgroundColor='#9D6CFF'\" onclick=\"window.commands?.execute('create-mitosheet-from-dataframe-output');\">See Full Dataframe in Mito</div> <script> if (window.commands.hasCommand('create-mitosheet-from-dataframe-output')) document.getElementById('b692f41b-b9a2-4caf-a2d2-d494962cbdbf').style.display = 'flex' </script> <table border=\"1\" class=\"dataframe\">\n",
       "  <thead>\n",
       "    <tr style=\"text-align: right;\">\n",
       "      <th></th>\n",
       "      <th>ID</th>\n",
       "      <th>DATETIME</th>\n",
       "      <th>YEAR</th>\n",
       "      <th>MONTH</th>\n",
       "      <th>DAY</th>\n",
       "      <th>DAY_OF_WEEK</th>\n",
       "      <th>HOUR</th>\n",
       "      <th>HOUR_OF_WEEK</th>\n",
       "      <th>SENSOR1_PM2.5</th>\n",
       "      <th>SENSOR2_PM2.5</th>\n",
       "      <th>TEMPERATURE</th>\n",
       "      <th>RELATIVE_HUMIDITY</th>\n",
       "      <th>OFFSET_FAULT</th>\n",
       "    </tr>\n",
       "  </thead>\n",
       "  <tbody>\n",
       "    <tr>\n",
       "      <th>0</th>\n",
       "      <td>ID_QF0ZTQJ2SF5Q</td>\n",
       "      <td>2021-11-03 04:06:31</td>\n",
       "      <td>2021</td>\n",
       "      <td>11</td>\n",
       "      <td>3</td>\n",
       "      <td>2</td>\n",
       "      <td>4</td>\n",
       "      <td>52</td>\n",
       "      <td>52.58</td>\n",
       "      <td>49.52</td>\n",
       "      <td>17.4</td>\n",
       "      <td>96.0</td>\n",
       "      <td>0</td>\n",
       "    </tr>\n",
       "    <tr>\n",
       "      <th>1</th>\n",
       "      <td>ID_4GTK689CNX5S</td>\n",
       "      <td>2021-11-08 18:43:23</td>\n",
       "      <td>2021</td>\n",
       "      <td>11</td>\n",
       "      <td>8</td>\n",
       "      <td>0</td>\n",
       "      <td>18</td>\n",
       "      <td>18</td>\n",
       "      <td>35.25</td>\n",
       "      <td>33.40</td>\n",
       "      <td>25.0</td>\n",
       "      <td>75.0</td>\n",
       "      <td>0</td>\n",
       "    </tr>\n",
       "    <tr>\n",
       "      <th>2</th>\n",
       "      <td>ID_DL7VVKW9U7XQ</td>\n",
       "      <td>2021-11-07 09:50:33</td>\n",
       "      <td>2021</td>\n",
       "      <td>11</td>\n",
       "      <td>7</td>\n",
       "      <td>6</td>\n",
       "      <td>9</td>\n",
       "      <td>153</td>\n",
       "      <td>19.18</td>\n",
       "      <td>23.50</td>\n",
       "      <td>24.9</td>\n",
       "      <td>75.0</td>\n",
       "      <td>0</td>\n",
       "    </tr>\n",
       "    <tr>\n",
       "      <th>3</th>\n",
       "      <td>ID_6XQOMBXM2DG3</td>\n",
       "      <td>2022-01-01 18:55:15</td>\n",
       "      <td>2022</td>\n",
       "      <td>1</td>\n",
       "      <td>1</td>\n",
       "      <td>5</td>\n",
       "      <td>18</td>\n",
       "      <td>138</td>\n",
       "      <td>19.40</td>\n",
       "      <td>15.48</td>\n",
       "      <td>24.9</td>\n",
       "      <td>70.0</td>\n",
       "      <td>0</td>\n",
       "    </tr>\n",
       "    <tr>\n",
       "      <th>4</th>\n",
       "      <td>ID_UQZW9ISJY9QE</td>\n",
       "      <td>2021-11-05 22:23:48</td>\n",
       "      <td>2021</td>\n",
       "      <td>11</td>\n",
       "      <td>5</td>\n",
       "      <td>4</td>\n",
       "      <td>22</td>\n",
       "      <td>118</td>\n",
       "      <td>38.30</td>\n",
       "      <td>34.77</td>\n",
       "      <td>20.9</td>\n",
       "      <td>89.0</td>\n",
       "      <td>0</td>\n",
       "    </tr>\n",
       "  </tbody>\n",
       "</table></div>"
      ],
      "text/plain": [
       "                ID            DATETIME  YEAR  MONTH  DAY  DAY_OF_WEEK  HOUR  \\\n",
       "0  ID_QF0ZTQJ2SF5Q 2021-11-03 04:06:31  2021     11    3            2     4   \n",
       "1  ID_4GTK689CNX5S 2021-11-08 18:43:23  2021     11    8            0    18   \n",
       "2  ID_DL7VVKW9U7XQ 2021-11-07 09:50:33  2021     11    7            6     9   \n",
       "3  ID_6XQOMBXM2DG3 2022-01-01 18:55:15  2022      1    1            5    18   \n",
       "4  ID_UQZW9ISJY9QE 2021-11-05 22:23:48  2021     11    5            4    22   \n",
       "\n",
       "   HOUR_OF_WEEK  SENSOR1_PM2.5  SENSOR2_PM2.5  TEMPERATURE  RELATIVE_HUMIDITY  \\\n",
       "0            52          52.58          49.52         17.4               96.0   \n",
       "1            18          35.25          33.40         25.0               75.0   \n",
       "2           153          19.18          23.50         24.9               75.0   \n",
       "3           138          19.40          15.48         24.9               70.0   \n",
       "4           118          38.30          34.77         20.9               89.0   \n",
       "\n",
       "   OFFSET_FAULT  \n",
       "0             0  \n",
       "1             0  \n",
       "2             0  \n",
       "3             0  \n",
       "4             0  "
      ]
     },
     "execution_count": 163,
     "metadata": {},
     "output_type": "execute_result"
    }
   ],
   "source": [
    "train_df.head()"
   ]
  },
  {
   "cell_type": "code",
   "execution_count": 162,
   "id": "c3dd1379",
   "metadata": {},
   "outputs": [
    {
     "data": {
      "text/html": [
       "<div><div id=ac855968-3f96-4557-8c8a-13aac1303b83 style=\"display:none; background-color:#9D6CFF; color:white; width:200px; height:30px; padding-left:5px; border-radius:4px; flex-direction:row; justify-content:space-around; align-items:center;\" onmouseover=\"this.style.backgroundColor='#BA9BF8'\" onmouseout=\"this.style.backgroundColor='#9D6CFF'\" onclick=\"window.commands?.execute('create-mitosheet-from-dataframe-output');\">See Full Dataframe in Mito</div> <script> if (window.commands.hasCommand('create-mitosheet-from-dataframe-output')) document.getElementById('ac855968-3f96-4557-8c8a-13aac1303b83').style.display = 'flex' </script> <table border=\"1\" class=\"dataframe\">\n",
       "  <thead>\n",
       "    <tr style=\"text-align: right;\">\n",
       "      <th></th>\n",
       "      <th>YEAR</th>\n",
       "      <th>MONTH</th>\n",
       "      <th>DAY</th>\n",
       "      <th>DAY_OF_WEEK</th>\n",
       "      <th>HOUR</th>\n",
       "      <th>HOUR_OF_WEEK</th>\n",
       "      <th>SENSOR1_PM2.5</th>\n",
       "      <th>SENSOR2_PM2.5</th>\n",
       "      <th>TEMPERATURE</th>\n",
       "      <th>RELATIVE_HUMIDITY</th>\n",
       "      <th>OFFSET_FAULT</th>\n",
       "    </tr>\n",
       "  </thead>\n",
       "  <tbody>\n",
       "    <tr>\n",
       "      <th>count</th>\n",
       "      <td>297177.00</td>\n",
       "      <td>297177.00</td>\n",
       "      <td>297177.00</td>\n",
       "      <td>297177.00</td>\n",
       "      <td>297177.00</td>\n",
       "      <td>297177.00</td>\n",
       "      <td>293563.00</td>\n",
       "      <td>293563.00</td>\n",
       "      <td>293628.00</td>\n",
       "      <td>293628.00</td>\n",
       "      <td>297177.00</td>\n",
       "    </tr>\n",
       "    <tr>\n",
       "      <th>mean</th>\n",
       "      <td>2021.21</td>\n",
       "      <td>9.07</td>\n",
       "      <td>15.99</td>\n",
       "      <td>2.99</td>\n",
       "      <td>11.39</td>\n",
       "      <td>83.14</td>\n",
       "      <td>40.75</td>\n",
       "      <td>38.18</td>\n",
       "      <td>23.32</td>\n",
       "      <td>78.65</td>\n",
       "      <td>0.37</td>\n",
       "    </tr>\n",
       "    <tr>\n",
       "      <th>std</th>\n",
       "      <td>0.41</td>\n",
       "      <td>4.19</td>\n",
       "      <td>8.67</td>\n",
       "      <td>2.00</td>\n",
       "      <td>6.94</td>\n",
       "      <td>48.55</td>\n",
       "      <td>28.53</td>\n",
       "      <td>28.65</td>\n",
       "      <td>3.84</td>\n",
       "      <td>14.77</td>\n",
       "      <td>0.48</td>\n",
       "    </tr>\n",
       "    <tr>\n",
       "      <th>min</th>\n",
       "      <td>2021.00</td>\n",
       "      <td>1.00</td>\n",
       "      <td>1.00</td>\n",
       "      <td>0.00</td>\n",
       "      <td>0.00</td>\n",
       "      <td>0.00</td>\n",
       "      <td>-9.45</td>\n",
       "      <td>-9.70</td>\n",
       "      <td>16.70</td>\n",
       "      <td>27.00</td>\n",
       "      <td>0.00</td>\n",
       "    </tr>\n",
       "    <tr>\n",
       "      <th>25%</th>\n",
       "      <td>2021.00</td>\n",
       "      <td>10.00</td>\n",
       "      <td>9.00</td>\n",
       "      <td>1.00</td>\n",
       "      <td>5.00</td>\n",
       "      <td>41.00</td>\n",
       "      <td>22.43</td>\n",
       "      <td>19.52</td>\n",
       "      <td>20.40</td>\n",
       "      <td>68.00</td>\n",
       "      <td>0.00</td>\n",
       "    </tr>\n",
       "    <tr>\n",
       "      <th>50%</th>\n",
       "      <td>2021.00</td>\n",
       "      <td>11.00</td>\n",
       "      <td>16.00</td>\n",
       "      <td>3.00</td>\n",
       "      <td>11.00</td>\n",
       "      <td>83.00</td>\n",
       "      <td>36.47</td>\n",
       "      <td>33.72</td>\n",
       "      <td>21.90</td>\n",
       "      <td>84.00</td>\n",
       "      <td>0.00</td>\n",
       "    </tr>\n",
       "    <tr>\n",
       "      <th>75%</th>\n",
       "      <td>2021.00</td>\n",
       "      <td>12.00</td>\n",
       "      <td>23.00</td>\n",
       "      <td>5.00</td>\n",
       "      <td>17.00</td>\n",
       "      <td>125.00</td>\n",
       "      <td>49.42</td>\n",
       "      <td>47.57</td>\n",
       "      <td>26.30</td>\n",
       "      <td>91.00</td>\n",
       "      <td>1.00</td>\n",
       "    </tr>\n",
       "    <tr>\n",
       "      <th>max</th>\n",
       "      <td>2022.00</td>\n",
       "      <td>12.00</td>\n",
       "      <td>31.00</td>\n",
       "      <td>6.00</td>\n",
       "      <td>23.00</td>\n",
       "      <td>167.00</td>\n",
       "      <td>997.96</td>\n",
       "      <td>997.26</td>\n",
       "      <td>34.90</td>\n",
       "      <td>99.00</td>\n",
       "      <td>1.00</td>\n",
       "    </tr>\n",
       "  </tbody>\n",
       "</table></div>"
      ],
      "text/plain": [
       "            YEAR      MONTH        DAY  DAY_OF_WEEK       HOUR  HOUR_OF_WEEK  \\\n",
       "count  297177.00  297177.00  297177.00    297177.00  297177.00     297177.00   \n",
       "mean     2021.21       9.07      15.99         2.99      11.39         83.14   \n",
       "std         0.41       4.19       8.67         2.00       6.94         48.55   \n",
       "min      2021.00       1.00       1.00         0.00       0.00          0.00   \n",
       "25%      2021.00      10.00       9.00         1.00       5.00         41.00   \n",
       "50%      2021.00      11.00      16.00         3.00      11.00         83.00   \n",
       "75%      2021.00      12.00      23.00         5.00      17.00        125.00   \n",
       "max      2022.00      12.00      31.00         6.00      23.00        167.00   \n",
       "\n",
       "       SENSOR1_PM2.5  SENSOR2_PM2.5  TEMPERATURE  RELATIVE_HUMIDITY  \\\n",
       "count      293563.00      293563.00    293628.00          293628.00   \n",
       "mean           40.75          38.18        23.32              78.65   \n",
       "std            28.53          28.65         3.84              14.77   \n",
       "min            -9.45          -9.70        16.70              27.00   \n",
       "25%            22.43          19.52        20.40              68.00   \n",
       "50%            36.47          33.72        21.90              84.00   \n",
       "75%            49.42          47.57        26.30              91.00   \n",
       "max           997.96         997.26        34.90              99.00   \n",
       "\n",
       "       OFFSET_FAULT  \n",
       "count     297177.00  \n",
       "mean           0.37  \n",
       "std            0.48  \n",
       "min            0.00  \n",
       "25%            0.00  \n",
       "50%            0.00  \n",
       "75%            1.00  \n",
       "max            1.00  "
      ]
     },
     "execution_count": 162,
     "metadata": {},
     "output_type": "execute_result"
    }
   ],
   "source": [
    "train_df.describe().round(2)"
   ]
  },
  {
   "cell_type": "markdown",
   "id": "7f76f79e",
   "metadata": {},
   "source": [
    "### Dealing with Null Values"
   ]
  },
  {
   "cell_type": "code",
   "execution_count": 169,
   "id": "9811c7cb",
   "metadata": {},
   "outputs": [
    {
     "data": {
      "text/plain": [
       "(ID                      0\n",
       " DATETIME                0\n",
       " YEAR                    0\n",
       " MONTH                   0\n",
       " DAY                     0\n",
       " DAY_OF_WEEK             0\n",
       " HOUR                    0\n",
       " HOUR_OF_WEEK            0\n",
       " SENSOR1_PM2.5        3614\n",
       " SENSOR2_PM2.5        3614\n",
       " TEMPERATURE          3549\n",
       " RELATIVE_HUMIDITY    3549\n",
       " OFFSET_FAULT            0\n",
       " dtype: int64,\n",
       " ID                        0\n",
       " DATETIME                  0\n",
       " YEAR                      0\n",
       " MONTH                     0\n",
       " DAY                       0\n",
       " DAY_OF_WEEK               0\n",
       " HOUR                      0\n",
       " HOUR_OF_WEEK              0\n",
       " SENSOR1_PM2.5             0\n",
       " SENSOR2_PM2.5             0\n",
       " TEMPERATURE           88090\n",
       " RELATIVE_HUMIDITY     88090\n",
       " OFFSET_FAULT         127361\n",
       " dtype: int64)"
      ]
     },
     "execution_count": 169,
     "metadata": {},
     "output_type": "execute_result"
    }
   ],
   "source": [
    "train_df.isna().sum(), test_df.isna().sum()"
   ]
  },
  {
   "cell_type": "markdown",
   "id": "590b3c5d",
   "metadata": {},
   "source": [
    "Option 1: Drop rows with Null values"
   ]
  },
  {
   "cell_type": "code",
   "execution_count": null,
   "id": "09b080e4",
   "metadata": {},
   "outputs": [],
   "source": [
    "def drop_na(_df):\n",
    "    df = _df.copy(deep=True)\n",
    "    \n",
    "    df= df.dropna(axis = 0, how ='any', thresh = None, subset = None, inplace=False)\n",
    "\n",
    "    return df"
   ]
  },
  {
   "cell_type": "markdown",
   "id": "1606bc91",
   "metadata": {},
   "source": [
    "Option 2: Replace with Mean values"
   ]
  },
  {
   "cell_type": "code",
   "execution_count": 170,
   "id": "6c6acf1d",
   "metadata": {},
   "outputs": [],
   "source": [
    "def fill_na_mean(_df, type = 'train'):\n",
    "    df = _df.copy(deep=True)\n",
    "    if type == 'train':\n",
    "        df['SENSOR1_PM2.5'] = df['SENSOR1_PM2.5'].fillna(df['SENSOR1_PM2.5'].mean())\n",
    "        df['SENSOR2_PM2.5'] = df['SENSOR2_PM2.5'].fillna(df['SENSOR2_PM2.5'].mean())\n",
    "        df['TEMPERATURE'] = df['TEMPERATURE'].fillna(df['TEMPERATURE'].mean())\n",
    "        df['RELATIVE_HUMIDITY'] = df['RELATIVE_HUMIDITY'].fillna(df['RELATIVE_HUMIDITY'].mean())\n",
    "    else:\n",
    "        df['TEMPERATURE'] = df['TEMPERATURE'].fillna(df['TEMPERATURE'].mean())\n",
    "        df['RELATIVE_HUMIDITY'] = df['RELATIVE_HUMIDITY'].fillna(df['RELATIVE_HUMIDITY'].mean())\n",
    "\n",
    "    return df\n",
    "\n"
   ]
  },
  {
   "cell_type": "markdown",
   "id": "9c1ef720",
   "metadata": {},
   "source": [
    "Option 3: For Relative_Humidity & Temperature, replace with cross values if they're available. <br>\n",
    "ie. if row has Relative_humidity but Temperature is blank, determine the relative ratio between them & use this for the calculation."
   ]
  },
  {
   "cell_type": "code",
   "execution_count": 174,
   "id": "8d93bbf9",
   "metadata": {},
   "outputs": [
    {
     "data": {
      "text/html": [
       "<div><div id=2bf12c49-bb94-435d-9e3d-0280b83eefc5 style=\"display:none; background-color:#9D6CFF; color:white; width:200px; height:30px; padding-left:5px; border-radius:4px; flex-direction:row; justify-content:space-around; align-items:center;\" onmouseover=\"this.style.backgroundColor='#BA9BF8'\" onmouseout=\"this.style.backgroundColor='#9D6CFF'\" onclick=\"window.commands?.execute('create-mitosheet-from-dataframe-output');\">See Full Dataframe in Mito</div> <script> if (window.commands.hasCommand('create-mitosheet-from-dataframe-output')) document.getElementById('2bf12c49-bb94-435d-9e3d-0280b83eefc5').style.display = 'flex' </script> <table border=\"1\" class=\"dataframe\">\n",
       "  <thead>\n",
       "    <tr style=\"text-align: right;\">\n",
       "      <th></th>\n",
       "      <th>RELATIVE_HUMIDITY</th>\n",
       "      <th>TEMPERATURE</th>\n",
       "    </tr>\n",
       "  </thead>\n",
       "  <tbody>\n",
       "    <tr>\n",
       "      <th>count</th>\n",
       "      <td>293628.000000</td>\n",
       "      <td>293628.000000</td>\n",
       "    </tr>\n",
       "    <tr>\n",
       "      <th>mean</th>\n",
       "      <td>78.653623</td>\n",
       "      <td>23.316554</td>\n",
       "    </tr>\n",
       "    <tr>\n",
       "      <th>std</th>\n",
       "      <td>14.772725</td>\n",
       "      <td>3.836971</td>\n",
       "    </tr>\n",
       "    <tr>\n",
       "      <th>min</th>\n",
       "      <td>27.000000</td>\n",
       "      <td>16.700000</td>\n",
       "    </tr>\n",
       "    <tr>\n",
       "      <th>25%</th>\n",
       "      <td>68.000000</td>\n",
       "      <td>20.400000</td>\n",
       "    </tr>\n",
       "    <tr>\n",
       "      <th>50%</th>\n",
       "      <td>84.000000</td>\n",
       "      <td>21.900000</td>\n",
       "    </tr>\n",
       "    <tr>\n",
       "      <th>75%</th>\n",
       "      <td>91.000000</td>\n",
       "      <td>26.300000</td>\n",
       "    </tr>\n",
       "    <tr>\n",
       "      <th>max</th>\n",
       "      <td>99.000000</td>\n",
       "      <td>34.900000</td>\n",
       "    </tr>\n",
       "  </tbody>\n",
       "</table></div>"
      ],
      "text/plain": [
       "       RELATIVE_HUMIDITY    TEMPERATURE\n",
       "count      293628.000000  293628.000000\n",
       "mean           78.653623      23.316554\n",
       "std            14.772725       3.836971\n",
       "min            27.000000      16.700000\n",
       "25%            68.000000      20.400000\n",
       "50%            84.000000      21.900000\n",
       "75%            91.000000      26.300000\n",
       "max            99.000000      34.900000"
      ]
     },
     "execution_count": 174,
     "metadata": {},
     "output_type": "execute_result"
    }
   ],
   "source": [
    "train_df[['RELATIVE_HUMIDITY', 'TEMPERATURE']].describe()"
   ]
  },
  {
   "cell_type": "markdown",
   "id": "ad98f384",
   "metadata": {},
   "source": [
    "By using ratios, we can consider the ranges of the values, for a closer relatable value to use to replace, which would be more accurate than using the mean."
   ]
  },
  {
   "cell_type": "markdown",
   "id": "db594bb1",
   "metadata": {},
   "source": [
    "## Visualizations"
   ]
  },
  {
   "cell_type": "markdown",
   "id": "3b69d3cc",
   "metadata": {},
   "source": [
    "### Time Series"
   ]
  },
  {
   "cell_type": "code",
   "execution_count": 215,
   "id": "36320bd5",
   "metadata": {},
   "outputs": [
    {
     "data": {
      "text/plain": [
       "[<matplotlib.lines.Line2D at 0x1c4805430d0>]"
      ]
     },
     "execution_count": 215,
     "metadata": {},
     "output_type": "execute_result"
    },
    {
     "ename": "OverflowError",
     "evalue": "Exceeded cell block limit (set 'agg.path.chunksize' rcparam)",
     "output_type": "error",
     "traceback": [
      "\u001b[1;31m---------------------------------------------------------------------------\u001b[0m",
      "\u001b[1;31mOverflowError\u001b[0m                             Traceback (most recent call last)",
      "\u001b[1;32m~\\anaconda3\\lib\\site-packages\\matplotlib\\backends\\backend_agg.py\u001b[0m in \u001b[0;36mdraw_path\u001b[1;34m(self, gc, path, transform, rgbFace)\u001b[0m\n\u001b[0;32m    160\u001b[0m             \u001b[1;32mtry\u001b[0m\u001b[1;33m:\u001b[0m\u001b[1;33m\u001b[0m\u001b[1;33m\u001b[0m\u001b[0m\n\u001b[1;32m--> 161\u001b[1;33m                 \u001b[0mself\u001b[0m\u001b[1;33m.\u001b[0m\u001b[0m_renderer\u001b[0m\u001b[1;33m.\u001b[0m\u001b[0mdraw_path\u001b[0m\u001b[1;33m(\u001b[0m\u001b[0mgc\u001b[0m\u001b[1;33m,\u001b[0m \u001b[0mpath\u001b[0m\u001b[1;33m,\u001b[0m \u001b[0mtransform\u001b[0m\u001b[1;33m,\u001b[0m \u001b[0mrgbFace\u001b[0m\u001b[1;33m)\u001b[0m\u001b[1;33m\u001b[0m\u001b[1;33m\u001b[0m\u001b[0m\n\u001b[0m\u001b[0;32m    162\u001b[0m             \u001b[1;32mexcept\u001b[0m \u001b[0mOverflowError\u001b[0m \u001b[1;32mas\u001b[0m \u001b[0merr\u001b[0m\u001b[1;33m:\u001b[0m\u001b[1;33m\u001b[0m\u001b[1;33m\u001b[0m\u001b[0m\n",
      "\u001b[1;31mOverflowError\u001b[0m: In draw_path: Exceeded cell block limit",
      "\nThe above exception was the direct cause of the following exception:\n",
      "\u001b[1;31mOverflowError\u001b[0m                             Traceback (most recent call last)",
      "\u001b[1;32m~\\anaconda3\\lib\\site-packages\\IPython\\core\\formatters.py\u001b[0m in \u001b[0;36m__call__\u001b[1;34m(self, obj)\u001b[0m\n\u001b[0;32m    339\u001b[0m                 \u001b[1;32mpass\u001b[0m\u001b[1;33m\u001b[0m\u001b[1;33m\u001b[0m\u001b[0m\n\u001b[0;32m    340\u001b[0m             \u001b[1;32melse\u001b[0m\u001b[1;33m:\u001b[0m\u001b[1;33m\u001b[0m\u001b[1;33m\u001b[0m\u001b[0m\n\u001b[1;32m--> 341\u001b[1;33m                 \u001b[1;32mreturn\u001b[0m \u001b[0mprinter\u001b[0m\u001b[1;33m(\u001b[0m\u001b[0mobj\u001b[0m\u001b[1;33m)\u001b[0m\u001b[1;33m\u001b[0m\u001b[1;33m\u001b[0m\u001b[0m\n\u001b[0m\u001b[0;32m    342\u001b[0m             \u001b[1;31m# Finally look for special method names\u001b[0m\u001b[1;33m\u001b[0m\u001b[1;33m\u001b[0m\u001b[0m\n\u001b[0;32m    343\u001b[0m             \u001b[0mmethod\u001b[0m \u001b[1;33m=\u001b[0m \u001b[0mget_real_method\u001b[0m\u001b[1;33m(\u001b[0m\u001b[0mobj\u001b[0m\u001b[1;33m,\u001b[0m \u001b[0mself\u001b[0m\u001b[1;33m.\u001b[0m\u001b[0mprint_method\u001b[0m\u001b[1;33m)\u001b[0m\u001b[1;33m\u001b[0m\u001b[1;33m\u001b[0m\u001b[0m\n",
      "\u001b[1;32m~\\anaconda3\\lib\\site-packages\\IPython\\core\\pylabtools.py\u001b[0m in \u001b[0;36mprint_figure\u001b[1;34m(fig, fmt, bbox_inches, base64, **kwargs)\u001b[0m\n\u001b[0;32m    149\u001b[0m         \u001b[0mFigureCanvasBase\u001b[0m\u001b[1;33m(\u001b[0m\u001b[0mfig\u001b[0m\u001b[1;33m)\u001b[0m\u001b[1;33m\u001b[0m\u001b[1;33m\u001b[0m\u001b[0m\n\u001b[0;32m    150\u001b[0m \u001b[1;33m\u001b[0m\u001b[0m\n\u001b[1;32m--> 151\u001b[1;33m     \u001b[0mfig\u001b[0m\u001b[1;33m.\u001b[0m\u001b[0mcanvas\u001b[0m\u001b[1;33m.\u001b[0m\u001b[0mprint_figure\u001b[0m\u001b[1;33m(\u001b[0m\u001b[0mbytes_io\u001b[0m\u001b[1;33m,\u001b[0m \u001b[1;33m**\u001b[0m\u001b[0mkw\u001b[0m\u001b[1;33m)\u001b[0m\u001b[1;33m\u001b[0m\u001b[1;33m\u001b[0m\u001b[0m\n\u001b[0m\u001b[0;32m    152\u001b[0m     \u001b[0mdata\u001b[0m \u001b[1;33m=\u001b[0m \u001b[0mbytes_io\u001b[0m\u001b[1;33m.\u001b[0m\u001b[0mgetvalue\u001b[0m\u001b[1;33m(\u001b[0m\u001b[1;33m)\u001b[0m\u001b[1;33m\u001b[0m\u001b[1;33m\u001b[0m\u001b[0m\n\u001b[0;32m    153\u001b[0m     \u001b[1;32mif\u001b[0m \u001b[0mfmt\u001b[0m \u001b[1;33m==\u001b[0m \u001b[1;34m'svg'\u001b[0m\u001b[1;33m:\u001b[0m\u001b[1;33m\u001b[0m\u001b[1;33m\u001b[0m\u001b[0m\n",
      "\u001b[1;32m~\\anaconda3\\lib\\site-packages\\matplotlib\\backend_bases.py\u001b[0m in \u001b[0;36mprint_figure\u001b[1;34m(self, filename, dpi, facecolor, edgecolor, orientation, format, bbox_inches, pad_inches, bbox_extra_artists, backend, **kwargs)\u001b[0m\n\u001b[0;32m   2253\u001b[0m                 \u001b[1;31m# force the figure dpi to 72), so we need to set it again here.\u001b[0m\u001b[1;33m\u001b[0m\u001b[1;33m\u001b[0m\u001b[0m\n\u001b[0;32m   2254\u001b[0m                 \u001b[1;32mwith\u001b[0m \u001b[0mcbook\u001b[0m\u001b[1;33m.\u001b[0m\u001b[0m_setattr_cm\u001b[0m\u001b[1;33m(\u001b[0m\u001b[0mself\u001b[0m\u001b[1;33m.\u001b[0m\u001b[0mfigure\u001b[0m\u001b[1;33m,\u001b[0m \u001b[0mdpi\u001b[0m\u001b[1;33m=\u001b[0m\u001b[0mdpi\u001b[0m\u001b[1;33m)\u001b[0m\u001b[1;33m:\u001b[0m\u001b[1;33m\u001b[0m\u001b[1;33m\u001b[0m\u001b[0m\n\u001b[1;32m-> 2255\u001b[1;33m                     result = print_method(\n\u001b[0m\u001b[0;32m   2256\u001b[0m                         \u001b[0mfilename\u001b[0m\u001b[1;33m,\u001b[0m\u001b[1;33m\u001b[0m\u001b[1;33m\u001b[0m\u001b[0m\n\u001b[0;32m   2257\u001b[0m                         \u001b[0mfacecolor\u001b[0m\u001b[1;33m=\u001b[0m\u001b[0mfacecolor\u001b[0m\u001b[1;33m,\u001b[0m\u001b[1;33m\u001b[0m\u001b[1;33m\u001b[0m\u001b[0m\n",
      "\u001b[1;32m~\\anaconda3\\lib\\site-packages\\matplotlib\\backend_bases.py\u001b[0m in \u001b[0;36mwrapper\u001b[1;34m(*args, **kwargs)\u001b[0m\n\u001b[0;32m   1667\u001b[0m             \u001b[0mkwargs\u001b[0m\u001b[1;33m.\u001b[0m\u001b[0mpop\u001b[0m\u001b[1;33m(\u001b[0m\u001b[0marg\u001b[0m\u001b[1;33m)\u001b[0m\u001b[1;33m\u001b[0m\u001b[1;33m\u001b[0m\u001b[0m\n\u001b[0;32m   1668\u001b[0m \u001b[1;33m\u001b[0m\u001b[0m\n\u001b[1;32m-> 1669\u001b[1;33m         \u001b[1;32mreturn\u001b[0m \u001b[0mfunc\u001b[0m\u001b[1;33m(\u001b[0m\u001b[1;33m*\u001b[0m\u001b[0margs\u001b[0m\u001b[1;33m,\u001b[0m \u001b[1;33m**\u001b[0m\u001b[0mkwargs\u001b[0m\u001b[1;33m)\u001b[0m\u001b[1;33m\u001b[0m\u001b[1;33m\u001b[0m\u001b[0m\n\u001b[0m\u001b[0;32m   1670\u001b[0m \u001b[1;33m\u001b[0m\u001b[0m\n\u001b[0;32m   1671\u001b[0m     \u001b[1;32mreturn\u001b[0m \u001b[0mwrapper\u001b[0m\u001b[1;33m\u001b[0m\u001b[1;33m\u001b[0m\u001b[0m\n",
      "\u001b[1;32m~\\anaconda3\\lib\\site-packages\\matplotlib\\backends\\backend_agg.py\u001b[0m in \u001b[0;36mprint_png\u001b[1;34m(self, filename_or_obj, metadata, pil_kwargs, *args)\u001b[0m\n\u001b[0;32m    506\u001b[0m             \u001b[1;33m*\u001b[0m\u001b[0mmetadata\u001b[0m\u001b[1;33m*\u001b[0m\u001b[1;33m,\u001b[0m \u001b[0mincluding\u001b[0m \u001b[0mthe\u001b[0m \u001b[0mdefault\u001b[0m \u001b[1;34m'Software'\u001b[0m \u001b[0mkey\u001b[0m\u001b[1;33m.\u001b[0m\u001b[1;33m\u001b[0m\u001b[1;33m\u001b[0m\u001b[0m\n\u001b[0;32m    507\u001b[0m         \"\"\"\n\u001b[1;32m--> 508\u001b[1;33m         \u001b[0mFigureCanvasAgg\u001b[0m\u001b[1;33m.\u001b[0m\u001b[0mdraw\u001b[0m\u001b[1;33m(\u001b[0m\u001b[0mself\u001b[0m\u001b[1;33m)\u001b[0m\u001b[1;33m\u001b[0m\u001b[1;33m\u001b[0m\u001b[0m\n\u001b[0m\u001b[0;32m    509\u001b[0m         mpl.image.imsave(\n\u001b[0;32m    510\u001b[0m             \u001b[0mfilename_or_obj\u001b[0m\u001b[1;33m,\u001b[0m \u001b[0mself\u001b[0m\u001b[1;33m.\u001b[0m\u001b[0mbuffer_rgba\u001b[0m\u001b[1;33m(\u001b[0m\u001b[1;33m)\u001b[0m\u001b[1;33m,\u001b[0m \u001b[0mformat\u001b[0m\u001b[1;33m=\u001b[0m\u001b[1;34m\"png\"\u001b[0m\u001b[1;33m,\u001b[0m \u001b[0morigin\u001b[0m\u001b[1;33m=\u001b[0m\u001b[1;34m\"upper\"\u001b[0m\u001b[1;33m,\u001b[0m\u001b[1;33m\u001b[0m\u001b[1;33m\u001b[0m\u001b[0m\n",
      "\u001b[1;32m~\\anaconda3\\lib\\site-packages\\matplotlib\\backends\\backend_agg.py\u001b[0m in \u001b[0;36mdraw\u001b[1;34m(self)\u001b[0m\n\u001b[0;32m    404\u001b[0m              (self.toolbar._wait_cursor_for_draw_cm() if self.toolbar\n\u001b[0;32m    405\u001b[0m               else nullcontext()):\n\u001b[1;32m--> 406\u001b[1;33m             \u001b[0mself\u001b[0m\u001b[1;33m.\u001b[0m\u001b[0mfigure\u001b[0m\u001b[1;33m.\u001b[0m\u001b[0mdraw\u001b[0m\u001b[1;33m(\u001b[0m\u001b[0mself\u001b[0m\u001b[1;33m.\u001b[0m\u001b[0mrenderer\u001b[0m\u001b[1;33m)\u001b[0m\u001b[1;33m\u001b[0m\u001b[1;33m\u001b[0m\u001b[0m\n\u001b[0m\u001b[0;32m    407\u001b[0m             \u001b[1;31m# A GUI class may be need to update a window using this draw, so\u001b[0m\u001b[1;33m\u001b[0m\u001b[1;33m\u001b[0m\u001b[0m\n\u001b[0;32m    408\u001b[0m             \u001b[1;31m# don't forget to call the superclass.\u001b[0m\u001b[1;33m\u001b[0m\u001b[1;33m\u001b[0m\u001b[0m\n",
      "\u001b[1;32m~\\anaconda3\\lib\\site-packages\\matplotlib\\artist.py\u001b[0m in \u001b[0;36mdraw_wrapper\u001b[1;34m(artist, renderer, *args, **kwargs)\u001b[0m\n\u001b[0;32m     72\u001b[0m     \u001b[1;33m@\u001b[0m\u001b[0mwraps\u001b[0m\u001b[1;33m(\u001b[0m\u001b[0mdraw\u001b[0m\u001b[1;33m)\u001b[0m\u001b[1;33m\u001b[0m\u001b[1;33m\u001b[0m\u001b[0m\n\u001b[0;32m     73\u001b[0m     \u001b[1;32mdef\u001b[0m \u001b[0mdraw_wrapper\u001b[0m\u001b[1;33m(\u001b[0m\u001b[0martist\u001b[0m\u001b[1;33m,\u001b[0m \u001b[0mrenderer\u001b[0m\u001b[1;33m,\u001b[0m \u001b[1;33m*\u001b[0m\u001b[0margs\u001b[0m\u001b[1;33m,\u001b[0m \u001b[1;33m**\u001b[0m\u001b[0mkwargs\u001b[0m\u001b[1;33m)\u001b[0m\u001b[1;33m:\u001b[0m\u001b[1;33m\u001b[0m\u001b[1;33m\u001b[0m\u001b[0m\n\u001b[1;32m---> 74\u001b[1;33m         \u001b[0mresult\u001b[0m \u001b[1;33m=\u001b[0m \u001b[0mdraw\u001b[0m\u001b[1;33m(\u001b[0m\u001b[0martist\u001b[0m\u001b[1;33m,\u001b[0m \u001b[0mrenderer\u001b[0m\u001b[1;33m,\u001b[0m \u001b[1;33m*\u001b[0m\u001b[0margs\u001b[0m\u001b[1;33m,\u001b[0m \u001b[1;33m**\u001b[0m\u001b[0mkwargs\u001b[0m\u001b[1;33m)\u001b[0m\u001b[1;33m\u001b[0m\u001b[1;33m\u001b[0m\u001b[0m\n\u001b[0m\u001b[0;32m     75\u001b[0m         \u001b[1;32mif\u001b[0m \u001b[0mrenderer\u001b[0m\u001b[1;33m.\u001b[0m\u001b[0m_rasterizing\u001b[0m\u001b[1;33m:\u001b[0m\u001b[1;33m\u001b[0m\u001b[1;33m\u001b[0m\u001b[0m\n\u001b[0;32m     76\u001b[0m             \u001b[0mrenderer\u001b[0m\u001b[1;33m.\u001b[0m\u001b[0mstop_rasterizing\u001b[0m\u001b[1;33m(\u001b[0m\u001b[1;33m)\u001b[0m\u001b[1;33m\u001b[0m\u001b[1;33m\u001b[0m\u001b[0m\n",
      "\u001b[1;32m~\\anaconda3\\lib\\site-packages\\matplotlib\\artist.py\u001b[0m in \u001b[0;36mdraw_wrapper\u001b[1;34m(artist, renderer, *args, **kwargs)\u001b[0m\n\u001b[0;32m     49\u001b[0m                 \u001b[0mrenderer\u001b[0m\u001b[1;33m.\u001b[0m\u001b[0mstart_filter\u001b[0m\u001b[1;33m(\u001b[0m\u001b[1;33m)\u001b[0m\u001b[1;33m\u001b[0m\u001b[1;33m\u001b[0m\u001b[0m\n\u001b[0;32m     50\u001b[0m \u001b[1;33m\u001b[0m\u001b[0m\n\u001b[1;32m---> 51\u001b[1;33m             \u001b[1;32mreturn\u001b[0m \u001b[0mdraw\u001b[0m\u001b[1;33m(\u001b[0m\u001b[0martist\u001b[0m\u001b[1;33m,\u001b[0m \u001b[0mrenderer\u001b[0m\u001b[1;33m,\u001b[0m \u001b[1;33m*\u001b[0m\u001b[0margs\u001b[0m\u001b[1;33m,\u001b[0m \u001b[1;33m**\u001b[0m\u001b[0mkwargs\u001b[0m\u001b[1;33m)\u001b[0m\u001b[1;33m\u001b[0m\u001b[1;33m\u001b[0m\u001b[0m\n\u001b[0m\u001b[0;32m     52\u001b[0m         \u001b[1;32mfinally\u001b[0m\u001b[1;33m:\u001b[0m\u001b[1;33m\u001b[0m\u001b[1;33m\u001b[0m\u001b[0m\n\u001b[0;32m     53\u001b[0m             \u001b[1;32mif\u001b[0m \u001b[0martist\u001b[0m\u001b[1;33m.\u001b[0m\u001b[0mget_agg_filter\u001b[0m\u001b[1;33m(\u001b[0m\u001b[1;33m)\u001b[0m \u001b[1;32mis\u001b[0m \u001b[1;32mnot\u001b[0m \u001b[1;32mNone\u001b[0m\u001b[1;33m:\u001b[0m\u001b[1;33m\u001b[0m\u001b[1;33m\u001b[0m\u001b[0m\n",
      "\u001b[1;32m~\\anaconda3\\lib\\site-packages\\matplotlib\\figure.py\u001b[0m in \u001b[0;36mdraw\u001b[1;34m(self, renderer)\u001b[0m\n\u001b[0;32m   2788\u001b[0m \u001b[1;33m\u001b[0m\u001b[0m\n\u001b[0;32m   2789\u001b[0m             \u001b[0mself\u001b[0m\u001b[1;33m.\u001b[0m\u001b[0mpatch\u001b[0m\u001b[1;33m.\u001b[0m\u001b[0mdraw\u001b[0m\u001b[1;33m(\u001b[0m\u001b[0mrenderer\u001b[0m\u001b[1;33m)\u001b[0m\u001b[1;33m\u001b[0m\u001b[1;33m\u001b[0m\u001b[0m\n\u001b[1;32m-> 2790\u001b[1;33m             mimage._draw_list_compositing_images(\n\u001b[0m\u001b[0;32m   2791\u001b[0m                 renderer, self, artists, self.suppressComposite)\n\u001b[0;32m   2792\u001b[0m \u001b[1;33m\u001b[0m\u001b[0m\n",
      "\u001b[1;32m~\\anaconda3\\lib\\site-packages\\matplotlib\\image.py\u001b[0m in \u001b[0;36m_draw_list_compositing_images\u001b[1;34m(renderer, parent, artists, suppress_composite)\u001b[0m\n\u001b[0;32m    130\u001b[0m     \u001b[1;32mif\u001b[0m \u001b[0mnot_composite\u001b[0m \u001b[1;32mor\u001b[0m \u001b[1;32mnot\u001b[0m \u001b[0mhas_images\u001b[0m\u001b[1;33m:\u001b[0m\u001b[1;33m\u001b[0m\u001b[1;33m\u001b[0m\u001b[0m\n\u001b[0;32m    131\u001b[0m         \u001b[1;32mfor\u001b[0m \u001b[0ma\u001b[0m \u001b[1;32min\u001b[0m \u001b[0martists\u001b[0m\u001b[1;33m:\u001b[0m\u001b[1;33m\u001b[0m\u001b[1;33m\u001b[0m\u001b[0m\n\u001b[1;32m--> 132\u001b[1;33m             \u001b[0ma\u001b[0m\u001b[1;33m.\u001b[0m\u001b[0mdraw\u001b[0m\u001b[1;33m(\u001b[0m\u001b[0mrenderer\u001b[0m\u001b[1;33m)\u001b[0m\u001b[1;33m\u001b[0m\u001b[1;33m\u001b[0m\u001b[0m\n\u001b[0m\u001b[0;32m    133\u001b[0m     \u001b[1;32melse\u001b[0m\u001b[1;33m:\u001b[0m\u001b[1;33m\u001b[0m\u001b[1;33m\u001b[0m\u001b[0m\n\u001b[0;32m    134\u001b[0m         \u001b[1;31m# Composite any adjacent images together\u001b[0m\u001b[1;33m\u001b[0m\u001b[1;33m\u001b[0m\u001b[0m\n",
      "\u001b[1;32m~\\anaconda3\\lib\\site-packages\\matplotlib\\artist.py\u001b[0m in \u001b[0;36mdraw_wrapper\u001b[1;34m(artist, renderer, *args, **kwargs)\u001b[0m\n\u001b[0;32m     49\u001b[0m                 \u001b[0mrenderer\u001b[0m\u001b[1;33m.\u001b[0m\u001b[0mstart_filter\u001b[0m\u001b[1;33m(\u001b[0m\u001b[1;33m)\u001b[0m\u001b[1;33m\u001b[0m\u001b[1;33m\u001b[0m\u001b[0m\n\u001b[0;32m     50\u001b[0m \u001b[1;33m\u001b[0m\u001b[0m\n\u001b[1;32m---> 51\u001b[1;33m             \u001b[1;32mreturn\u001b[0m \u001b[0mdraw\u001b[0m\u001b[1;33m(\u001b[0m\u001b[0martist\u001b[0m\u001b[1;33m,\u001b[0m \u001b[0mrenderer\u001b[0m\u001b[1;33m,\u001b[0m \u001b[1;33m*\u001b[0m\u001b[0margs\u001b[0m\u001b[1;33m,\u001b[0m \u001b[1;33m**\u001b[0m\u001b[0mkwargs\u001b[0m\u001b[1;33m)\u001b[0m\u001b[1;33m\u001b[0m\u001b[1;33m\u001b[0m\u001b[0m\n\u001b[0m\u001b[0;32m     52\u001b[0m         \u001b[1;32mfinally\u001b[0m\u001b[1;33m:\u001b[0m\u001b[1;33m\u001b[0m\u001b[1;33m\u001b[0m\u001b[0m\n\u001b[0;32m     53\u001b[0m             \u001b[1;32mif\u001b[0m \u001b[0martist\u001b[0m\u001b[1;33m.\u001b[0m\u001b[0mget_agg_filter\u001b[0m\u001b[1;33m(\u001b[0m\u001b[1;33m)\u001b[0m \u001b[1;32mis\u001b[0m \u001b[1;32mnot\u001b[0m \u001b[1;32mNone\u001b[0m\u001b[1;33m:\u001b[0m\u001b[1;33m\u001b[0m\u001b[1;33m\u001b[0m\u001b[0m\n",
      "\u001b[1;32m~\\anaconda3\\lib\\site-packages\\matplotlib\\_api\\deprecation.py\u001b[0m in \u001b[0;36mwrapper\u001b[1;34m(*inner_args, **inner_kwargs)\u001b[0m\n\u001b[0;32m    429\u001b[0m                          \u001b[1;32melse\u001b[0m \u001b[0mdeprecation_addendum\u001b[0m\u001b[1;33m,\u001b[0m\u001b[1;33m\u001b[0m\u001b[1;33m\u001b[0m\u001b[0m\n\u001b[0;32m    430\u001b[0m                 **kwargs)\n\u001b[1;32m--> 431\u001b[1;33m         \u001b[1;32mreturn\u001b[0m \u001b[0mfunc\u001b[0m\u001b[1;33m(\u001b[0m\u001b[1;33m*\u001b[0m\u001b[0minner_args\u001b[0m\u001b[1;33m,\u001b[0m \u001b[1;33m**\u001b[0m\u001b[0minner_kwargs\u001b[0m\u001b[1;33m)\u001b[0m\u001b[1;33m\u001b[0m\u001b[1;33m\u001b[0m\u001b[0m\n\u001b[0m\u001b[0;32m    432\u001b[0m \u001b[1;33m\u001b[0m\u001b[0m\n\u001b[0;32m    433\u001b[0m     \u001b[1;32mreturn\u001b[0m \u001b[0mwrapper\u001b[0m\u001b[1;33m\u001b[0m\u001b[1;33m\u001b[0m\u001b[0m\n",
      "\u001b[1;32m~\\anaconda3\\lib\\site-packages\\matplotlib\\axes\\_base.py\u001b[0m in \u001b[0;36mdraw\u001b[1;34m(self, renderer, inframe)\u001b[0m\n\u001b[0;32m   2919\u001b[0m             \u001b[0mrenderer\u001b[0m\u001b[1;33m.\u001b[0m\u001b[0mstop_rasterizing\u001b[0m\u001b[1;33m(\u001b[0m\u001b[1;33m)\u001b[0m\u001b[1;33m\u001b[0m\u001b[1;33m\u001b[0m\u001b[0m\n\u001b[0;32m   2920\u001b[0m \u001b[1;33m\u001b[0m\u001b[0m\n\u001b[1;32m-> 2921\u001b[1;33m         \u001b[0mmimage\u001b[0m\u001b[1;33m.\u001b[0m\u001b[0m_draw_list_compositing_images\u001b[0m\u001b[1;33m(\u001b[0m\u001b[0mrenderer\u001b[0m\u001b[1;33m,\u001b[0m \u001b[0mself\u001b[0m\u001b[1;33m,\u001b[0m \u001b[0martists\u001b[0m\u001b[1;33m)\u001b[0m\u001b[1;33m\u001b[0m\u001b[1;33m\u001b[0m\u001b[0m\n\u001b[0m\u001b[0;32m   2922\u001b[0m \u001b[1;33m\u001b[0m\u001b[0m\n\u001b[0;32m   2923\u001b[0m         \u001b[0mrenderer\u001b[0m\u001b[1;33m.\u001b[0m\u001b[0mclose_group\u001b[0m\u001b[1;33m(\u001b[0m\u001b[1;34m'axes'\u001b[0m\u001b[1;33m)\u001b[0m\u001b[1;33m\u001b[0m\u001b[1;33m\u001b[0m\u001b[0m\n",
      "\u001b[1;32m~\\anaconda3\\lib\\site-packages\\matplotlib\\image.py\u001b[0m in \u001b[0;36m_draw_list_compositing_images\u001b[1;34m(renderer, parent, artists, suppress_composite)\u001b[0m\n\u001b[0;32m    130\u001b[0m     \u001b[1;32mif\u001b[0m \u001b[0mnot_composite\u001b[0m \u001b[1;32mor\u001b[0m \u001b[1;32mnot\u001b[0m \u001b[0mhas_images\u001b[0m\u001b[1;33m:\u001b[0m\u001b[1;33m\u001b[0m\u001b[1;33m\u001b[0m\u001b[0m\n\u001b[0;32m    131\u001b[0m         \u001b[1;32mfor\u001b[0m \u001b[0ma\u001b[0m \u001b[1;32min\u001b[0m \u001b[0martists\u001b[0m\u001b[1;33m:\u001b[0m\u001b[1;33m\u001b[0m\u001b[1;33m\u001b[0m\u001b[0m\n\u001b[1;32m--> 132\u001b[1;33m             \u001b[0ma\u001b[0m\u001b[1;33m.\u001b[0m\u001b[0mdraw\u001b[0m\u001b[1;33m(\u001b[0m\u001b[0mrenderer\u001b[0m\u001b[1;33m)\u001b[0m\u001b[1;33m\u001b[0m\u001b[1;33m\u001b[0m\u001b[0m\n\u001b[0m\u001b[0;32m    133\u001b[0m     \u001b[1;32melse\u001b[0m\u001b[1;33m:\u001b[0m\u001b[1;33m\u001b[0m\u001b[1;33m\u001b[0m\u001b[0m\n\u001b[0;32m    134\u001b[0m         \u001b[1;31m# Composite any adjacent images together\u001b[0m\u001b[1;33m\u001b[0m\u001b[1;33m\u001b[0m\u001b[0m\n",
      "\u001b[1;32m~\\anaconda3\\lib\\site-packages\\matplotlib\\artist.py\u001b[0m in \u001b[0;36mdraw_wrapper\u001b[1;34m(artist, renderer, *args, **kwargs)\u001b[0m\n\u001b[0;32m     49\u001b[0m                 \u001b[0mrenderer\u001b[0m\u001b[1;33m.\u001b[0m\u001b[0mstart_filter\u001b[0m\u001b[1;33m(\u001b[0m\u001b[1;33m)\u001b[0m\u001b[1;33m\u001b[0m\u001b[1;33m\u001b[0m\u001b[0m\n\u001b[0;32m     50\u001b[0m \u001b[1;33m\u001b[0m\u001b[0m\n\u001b[1;32m---> 51\u001b[1;33m             \u001b[1;32mreturn\u001b[0m \u001b[0mdraw\u001b[0m\u001b[1;33m(\u001b[0m\u001b[0martist\u001b[0m\u001b[1;33m,\u001b[0m \u001b[0mrenderer\u001b[0m\u001b[1;33m,\u001b[0m \u001b[1;33m*\u001b[0m\u001b[0margs\u001b[0m\u001b[1;33m,\u001b[0m \u001b[1;33m**\u001b[0m\u001b[0mkwargs\u001b[0m\u001b[1;33m)\u001b[0m\u001b[1;33m\u001b[0m\u001b[1;33m\u001b[0m\u001b[0m\n\u001b[0m\u001b[0;32m     52\u001b[0m         \u001b[1;32mfinally\u001b[0m\u001b[1;33m:\u001b[0m\u001b[1;33m\u001b[0m\u001b[1;33m\u001b[0m\u001b[0m\n\u001b[0;32m     53\u001b[0m             \u001b[1;32mif\u001b[0m \u001b[0martist\u001b[0m\u001b[1;33m.\u001b[0m\u001b[0mget_agg_filter\u001b[0m\u001b[1;33m(\u001b[0m\u001b[1;33m)\u001b[0m \u001b[1;32mis\u001b[0m \u001b[1;32mnot\u001b[0m \u001b[1;32mNone\u001b[0m\u001b[1;33m:\u001b[0m\u001b[1;33m\u001b[0m\u001b[1;33m\u001b[0m\u001b[0m\n",
      "\u001b[1;32m~\\anaconda3\\lib\\site-packages\\matplotlib\\lines.py\u001b[0m in \u001b[0;36mdraw\u001b[1;34m(self, renderer)\u001b[0m\n\u001b[0;32m    794\u001b[0m \u001b[1;33m\u001b[0m\u001b[0m\n\u001b[0;32m    795\u001b[0m                 \u001b[0mgc\u001b[0m\u001b[1;33m.\u001b[0m\u001b[0mset_dashes\u001b[0m\u001b[1;33m(\u001b[0m\u001b[0mself\u001b[0m\u001b[1;33m.\u001b[0m\u001b[0m_dashOffset\u001b[0m\u001b[1;33m,\u001b[0m \u001b[0mself\u001b[0m\u001b[1;33m.\u001b[0m\u001b[0m_dashSeq\u001b[0m\u001b[1;33m)\u001b[0m\u001b[1;33m\u001b[0m\u001b[1;33m\u001b[0m\u001b[0m\n\u001b[1;32m--> 796\u001b[1;33m                 \u001b[0mrenderer\u001b[0m\u001b[1;33m.\u001b[0m\u001b[0mdraw_path\u001b[0m\u001b[1;33m(\u001b[0m\u001b[0mgc\u001b[0m\u001b[1;33m,\u001b[0m \u001b[0mtpath\u001b[0m\u001b[1;33m,\u001b[0m \u001b[0maffine\u001b[0m\u001b[1;33m.\u001b[0m\u001b[0mfrozen\u001b[0m\u001b[1;33m(\u001b[0m\u001b[1;33m)\u001b[0m\u001b[1;33m)\u001b[0m\u001b[1;33m\u001b[0m\u001b[1;33m\u001b[0m\u001b[0m\n\u001b[0m\u001b[0;32m    797\u001b[0m                 \u001b[0mgc\u001b[0m\u001b[1;33m.\u001b[0m\u001b[0mrestore\u001b[0m\u001b[1;33m(\u001b[0m\u001b[1;33m)\u001b[0m\u001b[1;33m\u001b[0m\u001b[1;33m\u001b[0m\u001b[0m\n\u001b[0;32m    798\u001b[0m \u001b[1;33m\u001b[0m\u001b[0m\n",
      "\u001b[1;32m~\\anaconda3\\lib\\site-packages\\matplotlib\\backends\\backend_agg.py\u001b[0m in \u001b[0;36mdraw_path\u001b[1;34m(self, gc, path, transform, rgbFace)\u001b[0m\n\u001b[0;32m    161\u001b[0m                 \u001b[0mself\u001b[0m\u001b[1;33m.\u001b[0m\u001b[0m_renderer\u001b[0m\u001b[1;33m.\u001b[0m\u001b[0mdraw_path\u001b[0m\u001b[1;33m(\u001b[0m\u001b[0mgc\u001b[0m\u001b[1;33m,\u001b[0m \u001b[0mpath\u001b[0m\u001b[1;33m,\u001b[0m \u001b[0mtransform\u001b[0m\u001b[1;33m,\u001b[0m \u001b[0mrgbFace\u001b[0m\u001b[1;33m)\u001b[0m\u001b[1;33m\u001b[0m\u001b[1;33m\u001b[0m\u001b[0m\n\u001b[0;32m    162\u001b[0m             \u001b[1;32mexcept\u001b[0m \u001b[0mOverflowError\u001b[0m \u001b[1;32mas\u001b[0m \u001b[0merr\u001b[0m\u001b[1;33m:\u001b[0m\u001b[1;33m\u001b[0m\u001b[1;33m\u001b[0m\u001b[0m\n\u001b[1;32m--> 163\u001b[1;33m                 raise OverflowError(\"Exceeded cell block limit (set \"\n\u001b[0m\u001b[0;32m    164\u001b[0m                                     \"'agg.path.chunksize' rcparam)\") from err\n\u001b[0;32m    165\u001b[0m \u001b[1;33m\u001b[0m\u001b[0m\n",
      "\u001b[1;31mOverflowError\u001b[0m: Exceeded cell block limit (set 'agg.path.chunksize' rcparam)"
     ]
    },
    {
     "data": {
      "text/plain": [
       "<Figure size 2160x720 with 1 Axes>"
      ]
     },
     "metadata": {},
     "output_type": "display_data"
    }
   ],
   "source": [
    "fig, axs = plt.subplots(figsize = (30,10))\n",
    "\n",
    "axs.plot(train_df['DATETIME'], train_df['RELATIVE_HUMIDITY'])\n"
   ]
  },
  {
   "cell_type": "markdown",
   "id": "2e04f6be",
   "metadata": {},
   "source": [
    "### Target Variable Distribution"
   ]
  },
  {
   "cell_type": "code",
   "execution_count": 216,
   "id": "575d4ac9",
   "metadata": {},
   "outputs": [
    {
     "data": {
      "image/png": "[encoded data removed]",
      "text/plain": [
       "<Figure size 576x360 with 1 Axes>"
      ]
     },
     "metadata": {},
     "output_type": "display_data"
    }
   ],
   "source": [
    "# Target variable distribution\n",
    "sns.set_style('darkgrid')\n",
    "plt.figure(figsize=(8, 5))\n",
    "sns.countplot(x = train_df[\"OFFSET_FAULT\"])\n",
    "plt.title('Target variable distribution')\n",
    "plt.show()"
   ]
  },
  {
   "cell_type": "markdown",
   "id": "0191c64b",
   "metadata": {},
   "source": [
    "### Outliers"
   ]
  },
  {
   "cell_type": "code",
   "execution_count": 217,
   "id": "7d95b35e",
   "metadata": {
    "scrolled": false
   },
   "outputs": [
    {
     "data": {
      "image/png": "[encoded data removed]",
      "text/plain": [
       "<Figure size 1080x720 with 4 Axes>"
      ]
     },
     "metadata": {},
     "output_type": "display_data"
    }
   ],
   "source": [
    "# Plotting boxplots for each of the numerical columns\n",
    "sns.set_style('darkgrid')\n",
    "fig, axes = plt.subplots(nrows = 2, ncols = 2, figsize = (15, 10))\n",
    "fig.suptitle('Box plots showing outliers', y= 0.93, fontsize = 15)\n",
    "\n",
    "for ax, data, name in zip(axes.flatten(), train_df, ['SENSOR1_2.5',\t'SENSOR2_2.5',\t'TEMPERATURE',\t'RELATIVE_HUMIDITY']):\n",
    "  sns.boxplot(x = train_df[name], ax = ax)"
   ]
  },
  {
   "cell_type": "code",
   "execution_count": 173,
   "id": "f34f18ff",
   "metadata": {},
   "outputs": [
    {
     "name": "stderr",
     "output_type": "stream",
     "text": [
      "C:\\Users\\teddy\\AppData\\Local\\Temp/ipykernel_26236/861045134.py:1: FutureWarning: Dropping of nuisance columns in DataFrame reductions (with 'numeric_only=None') is deprecated; in a future version this will raise TypeError.  Select only valid columns before calling the reduction.\n",
      "  train_df.kurtosis()\n"
     ]
    },
    {
     "data": {
      "text/plain": [
       "YEAR                  0.073008\n",
       "MONTH                -0.046183\n",
       "DAY                  -1.118707\n",
       "DAY_OF_WEEK          -1.248912\n",
       "HOUR                 -1.212467\n",
       "HOUR_OF_WEEK         -1.195986\n",
       "SENSOR1_PM2.5        97.920918\n",
       "SENSOR2_PM2.5        97.960266\n",
       "TEMPERATURE          -0.632673\n",
       "RELATIVE_HUMIDITY    -0.252337\n",
       "OFFSET_FAULT         -1.715106\n",
       "dtype: float64"
      ]
     },
     "execution_count": 173,
     "metadata": {},
     "output_type": "execute_result"
    }
   ],
   "source": [
    "train_df.kurtosis()"
   ]
  },
  {
   "cell_type": "code",
   "execution_count": null,
   "id": "52585274",
   "metadata": {},
   "outputs": [],
   "source": []
  },
  {
   "cell_type": "code",
   "execution_count": 218,
   "id": "27aff7c1",
   "metadata": {},
   "outputs": [
    {
     "data": {
      "image/png": "[encoded data removed]",
      "text/plain": [
       "<Figure size 1080x720 with 4 Axes>"
      ]
     },
     "metadata": {},
     "output_type": "display_data"
    }
   ],
   "source": [
    "# Plotting boxplots for each of the numerical columns\n",
    "sns.set_style('darkgrid')\n",
    "fig, axes = plt.subplots(nrows = 2, ncols = 2, figsize = (15, 10))\n",
    "fig.suptitle('Box plots showing outliers', y= 0.93, fontsize = 15)\n",
    "\n",
    "for ax, data, name in zip(axes.flatten(), test_df, ['SENSOR1_2.5',\t'SENSOR2_2.5',\t'TEMPERATURE',\t'RELATIVE_HUMIDITY']):\n",
    "  sns.boxplot(x = test_df[name], ax = ax)"
   ]
  },
  {
   "cell_type": "code",
   "execution_count": 219,
   "id": "929b4c78",
   "metadata": {},
   "outputs": [
    {
     "data": {
      "text/plain": [
       "(Index(['ID', 'DATETIME', 'SENSOR1_2.5', 'SENSOR2_2.5', 'TEMPERATURE',\n",
       "        'RELATIVE_HUMIDITY', 'OFFSET_FAULT', 'YEAR', 'MONTH', 'DAY', 'HOUR',\n",
       "        'DAY_OF_WEEK', 'HOUR_OF_WEEK'],\n",
       "       dtype='object'),\n",
       " Index(['ID', 'DATETIME', 'SENSOR1_2.5', 'SENSOR2_2.5', 'TEMPERATURE',\n",
       "        'RELATIVE_HUMIDITY', 'YEAR', 'MONTH', 'DAY', 'HOUR', 'DAY_OF_WEEK',\n",
       "        'HOUR_OF_WEEK'],\n",
       "       dtype='object'))"
      ]
     },
     "execution_count": 219,
     "metadata": {},
     "output_type": "execute_result"
    }
   ],
   "source": [
    "train_df.columns, test_df.columns"
   ]
  },
  {
   "cell_type": "markdown",
   "id": "1ae1524b",
   "metadata": {},
   "source": [
    "### Feature Correlation"
   ]
  },
  {
   "cell_type": "code",
   "execution_count": 220,
   "id": "3c0ff739",
   "metadata": {
    "scrolled": true
   },
   "outputs": [
    {
     "data": {
      "image/png": "[encoded data removed]",
      "text/plain": [
       "<Figure size 936x576 with 2 Axes>"
      ]
     },
     "metadata": {},
     "output_type": "display_data"
    }
   ],
   "source": [
    "#Quantify correlations\n",
    "corr = train_df.corr()\n",
    "plt.figure(figsize = (13, 8))\n",
    "sns.heatmap(corr, cmap='RdYlGn', annot = True, center = 0)\n",
    "plt.title('Correlogram', fontsize = 15, color = 'darkgreen')\n",
    "plt.show()"
   ]
  },
  {
   "cell_type": "markdown",
   "id": "a5b1cb18",
   "metadata": {},
   "source": [
    "# 2. Feature Engineering"
   ]
  },
  {
   "cell_type": "markdown",
   "id": "51d97739",
   "metadata": {},
   "source": [
    "drop the datetime and id columns"
   ]
  },
  {
   "cell_type": "markdown",
   "id": "5472a7d0",
   "metadata": {},
   "source": [
    "### Scaling of Data"
   ]
  },
  {
   "cell_type": "code",
   "execution_count": 226,
   "id": "492ac04b",
   "metadata": {},
   "outputs": [
    {
     "data": {
      "text/html": [
       "<div>\n",
       "<style scoped>\n",
       "    .dataframe tbody tr th:only-of-type {\n",
       "        vertical-align: middle;\n",
       "    }\n",
       "\n",
       "    .dataframe tbody tr th {\n",
       "        vertical-align: top;\n",
       "    }\n",
       "\n",
       "    .dataframe thead th {\n",
       "        text-align: right;\n",
       "    }\n",
       "</style>\n",
       "<table border=\"1\" class=\"dataframe\">\n",
       "  <thead>\n",
       "    <tr style=\"text-align: right;\">\n",
       "      <th></th>\n",
       "      <th>SENSOR1_2.5</th>\n",
       "      <th>SENSOR2_2.5</th>\n",
       "      <th>TEMPERATURE</th>\n",
       "      <th>RELATIVE_HUMIDITY</th>\n",
       "      <th>YEAR</th>\n",
       "      <th>MONTH</th>\n",
       "      <th>DAY</th>\n",
       "      <th>HOUR</th>\n",
       "      <th>DAY_OF_WEEK</th>\n",
       "      <th>HOUR_OF_WEEK</th>\n",
       "    </tr>\n",
       "  </thead>\n",
       "  <tbody>\n",
       "    <tr>\n",
       "      <th>0</th>\n",
       "      <td>0.408344</td>\n",
       "      <td>0.389972</td>\n",
       "      <td>-1.541598</td>\n",
       "      <td>1.175348</td>\n",
       "      <td>-0.512412</td>\n",
       "      <td>0.457146</td>\n",
       "      <td>-1.480885</td>\n",
       "      <td>-1.054724</td>\n",
       "      <td>-0.500162</td>\n",
       "      <td>-0.645040</td>\n",
       "    </tr>\n",
       "    <tr>\n",
       "      <th>1</th>\n",
       "      <td>-0.197635</td>\n",
       "      <td>-0.171258</td>\n",
       "      <td>0.436566</td>\n",
       "      <td>-0.244350</td>\n",
       "      <td>-0.512412</td>\n",
       "      <td>0.457146</td>\n",
       "      <td>-0.906539</td>\n",
       "      <td>0.954310</td>\n",
       "      <td>-1.495324</td>\n",
       "      <td>-1.341841</td>\n",
       "    </tr>\n",
       "    <tr>\n",
       "      <th>2</th>\n",
       "      <td>-0.759557</td>\n",
       "      <td>-0.515934</td>\n",
       "      <td>0.410537</td>\n",
       "      <td>-0.244350</td>\n",
       "      <td>-0.512412</td>\n",
       "      <td>0.457146</td>\n",
       "      <td>-1.021408</td>\n",
       "      <td>-0.337212</td>\n",
       "      <td>1.490163</td>\n",
       "      <td>1.424869</td>\n",
       "    </tr>\n",
       "    <tr>\n",
       "      <th>3</th>\n",
       "      <td>-0.751864</td>\n",
       "      <td>-0.795156</td>\n",
       "      <td>0.410537</td>\n",
       "      <td>-0.582373</td>\n",
       "      <td>1.951554</td>\n",
       "      <td>-1.926719</td>\n",
       "      <td>-1.710624</td>\n",
       "      <td>0.954310</td>\n",
       "      <td>0.992582</td>\n",
       "      <td>1.117457</td>\n",
       "    </tr>\n",
       "    <tr>\n",
       "      <th>4</th>\n",
       "      <td>-0.090986</td>\n",
       "      <td>-0.123560</td>\n",
       "      <td>-0.630602</td>\n",
       "      <td>0.702115</td>\n",
       "      <td>-0.512412</td>\n",
       "      <td>0.457146</td>\n",
       "      <td>-1.251147</td>\n",
       "      <td>1.528319</td>\n",
       "      <td>0.495001</td>\n",
       "      <td>0.707574</td>\n",
       "    </tr>\n",
       "  </tbody>\n",
       "</table>\n",
       "</div>"
      ],
      "text/plain": [
       "   SENSOR1_2.5  SENSOR2_2.5  TEMPERATURE  RELATIVE_HUMIDITY      YEAR  \\\n",
       "0     0.408344     0.389972    -1.541598           1.175348 -0.512412   \n",
       "1    -0.197635    -0.171258     0.436566          -0.244350 -0.512412   \n",
       "2    -0.759557    -0.515934     0.410537          -0.244350 -0.512412   \n",
       "3    -0.751864    -0.795156     0.410537          -0.582373  1.951554   \n",
       "4    -0.090986    -0.123560    -0.630602           0.702115 -0.512412   \n",
       "\n",
       "      MONTH       DAY      HOUR  DAY_OF_WEEK  HOUR_OF_WEEK  \n",
       "0  0.457146 -1.480885 -1.054724    -0.500162     -0.645040  \n",
       "1  0.457146 -0.906539  0.954310    -1.495324     -1.341841  \n",
       "2  0.457146 -1.021408 -0.337212     1.490163      1.424869  \n",
       "3 -1.926719 -1.710624  0.954310     0.992582      1.117457  \n",
       "4  0.457146 -1.251147  1.528319     0.495001      0.707574  "
      ]
     },
     "execution_count": 226,
     "metadata": {},
     "output_type": "execute_result"
    }
   ],
   "source": [
    "# demonstrate data standardization with sklearn\n",
    "from sklearn.preprocessing import StandardScaler\n",
    "# create scaler\n",
    "scaler = StandardScaler()\n",
    "# fit and transform in one step\n",
    "standardized = scaler.fit_transform(train_df2)\n",
    "# convert the scaled predictor values into a dataframe\n",
    "train_df3 = pd.DataFrame(standardized,columns=train_df2.columns)\n",
    "train_df3.head()"
   ]
  },
  {
   "cell_type": "code",
   "execution_count": 227,
   "id": "b08725d0",
   "metadata": {},
   "outputs": [
    {
     "data": {
      "text/html": [
       "<div>\n",
       "<style scoped>\n",
       "    .dataframe tbody tr th:only-of-type {\n",
       "        vertical-align: middle;\n",
       "    }\n",
       "\n",
       "    .dataframe tbody tr th {\n",
       "        vertical-align: top;\n",
       "    }\n",
       "\n",
       "    .dataframe thead th {\n",
       "        text-align: right;\n",
       "    }\n",
       "</style>\n",
       "<table border=\"1\" class=\"dataframe\">\n",
       "  <thead>\n",
       "    <tr style=\"text-align: right;\">\n",
       "      <th></th>\n",
       "      <th>SENSOR1_2.5</th>\n",
       "      <th>SENSOR2_2.5</th>\n",
       "      <th>TEMPERATURE</th>\n",
       "      <th>RELATIVE_HUMIDITY</th>\n",
       "      <th>YEAR</th>\n",
       "      <th>MONTH</th>\n",
       "      <th>DAY</th>\n",
       "      <th>HOUR</th>\n",
       "      <th>DAY_OF_WEEK</th>\n",
       "      <th>HOUR_OF_WEEK</th>\n",
       "    </tr>\n",
       "  </thead>\n",
       "  <tbody>\n",
       "    <tr>\n",
       "      <th>0</th>\n",
       "      <td>1.030713</td>\n",
       "      <td>1.764043</td>\n",
       "      <td>-0.398291</td>\n",
       "      <td>-0.896976</td>\n",
       "      <td>0.0</td>\n",
       "      <td>-0.835191</td>\n",
       "      <td>0.858232</td>\n",
       "      <td>-0.513594</td>\n",
       "      <td>0.555191</td>\n",
       "      <td>0.478669</td>\n",
       "    </tr>\n",
       "    <tr>\n",
       "      <th>1</th>\n",
       "      <td>10.600473</td>\n",
       "      <td>9.055564</td>\n",
       "      <td>1.185383</td>\n",
       "      <td>-0.509772</td>\n",
       "      <td>0.0</td>\n",
       "      <td>-0.835191</td>\n",
       "      <td>0.530164</td>\n",
       "      <td>0.803478</td>\n",
       "      <td>-1.538324</td>\n",
       "      <td>-1.418627</td>\n",
       "    </tr>\n",
       "    <tr>\n",
       "      <th>2</th>\n",
       "      <td>0.140848</td>\n",
       "      <td>0.791735</td>\n",
       "      <td>-0.559342</td>\n",
       "      <td>0.541209</td>\n",
       "      <td>0.0</td>\n",
       "      <td>-0.835191</td>\n",
       "      <td>1.104283</td>\n",
       "      <td>-0.659935</td>\n",
       "      <td>-1.538324</td>\n",
       "      <td>-1.636708</td>\n",
       "    </tr>\n",
       "    <tr>\n",
       "      <th>3</th>\n",
       "      <td>0.336373</td>\n",
       "      <td>-0.175857</td>\n",
       "      <td>-0.264081</td>\n",
       "      <td>0.430580</td>\n",
       "      <td>0.0</td>\n",
       "      <td>-0.835191</td>\n",
       "      <td>1.104283</td>\n",
       "      <td>-1.684325</td>\n",
       "      <td>-1.538324</td>\n",
       "      <td>-1.789364</td>\n",
       "    </tr>\n",
       "    <tr>\n",
       "      <th>4</th>\n",
       "      <td>-0.284080</td>\n",
       "      <td>-0.465066</td>\n",
       "      <td>-0.935129</td>\n",
       "      <td>0.873098</td>\n",
       "      <td>0.0</td>\n",
       "      <td>1.197330</td>\n",
       "      <td>-1.356225</td>\n",
       "      <td>-1.537984</td>\n",
       "      <td>-1.014945</td>\n",
       "      <td>-1.244163</td>\n",
       "    </tr>\n",
       "  </tbody>\n",
       "</table>\n",
       "</div>"
      ],
      "text/plain": [
       "   SENSOR1_2.5  SENSOR2_2.5  TEMPERATURE  RELATIVE_HUMIDITY  YEAR     MONTH  \\\n",
       "0     1.030713     1.764043    -0.398291          -0.896976   0.0 -0.835191   \n",
       "1    10.600473     9.055564     1.185383          -0.509772   0.0 -0.835191   \n",
       "2     0.140848     0.791735    -0.559342           0.541209   0.0 -0.835191   \n",
       "3     0.336373    -0.175857    -0.264081           0.430580   0.0 -0.835191   \n",
       "4    -0.284080    -0.465066    -0.935129           0.873098   0.0  1.197330   \n",
       "\n",
       "        DAY      HOUR  DAY_OF_WEEK  HOUR_OF_WEEK  \n",
       "0  0.858232 -0.513594     0.555191      0.478669  \n",
       "1  0.530164  0.803478    -1.538324     -1.418627  \n",
       "2  1.104283 -0.659935    -1.538324     -1.636708  \n",
       "3  1.104283 -1.684325    -1.538324     -1.789364  \n",
       "4 -1.356225 -1.537984    -1.014945     -1.244163  "
      ]
     },
     "execution_count": 227,
     "metadata": {},
     "output_type": "execute_result"
    }
   ],
   "source": [
    "scaler = StandardScaler()\n",
    "# fit and transform in one step\n",
    "standardized = scaler.fit_transform(test_df1)\n",
    "# convert the scaled predictor values into a dataframe\n",
    "test_df2 = pd.DataFrame(standardized,columns=test_df1.columns)\n",
    "test_df2.head()"
   ]
  },
  {
   "cell_type": "code",
   "execution_count": 228,
   "id": "dbfa8b57",
   "metadata": {},
   "outputs": [
    {
     "name": "stdout",
     "output_type": "stream",
     "text": [
      "Accuracy score: 0.7317897350137061\n",
      "\n",
      "\n",
      "              precision    recall  f1-score   support\n",
      "\n",
      "           0       0.71      0.96      0.82     36634\n",
      "           1       0.84      0.34      0.48     21369\n",
      "\n",
      "    accuracy                           0.73     58003\n",
      "   macro avg       0.77      0.65      0.65     58003\n",
      "weighted avg       0.76      0.73      0.69     58003\n",
      "\n"
     ]
    }
   ],
   "source": [
    "\n",
    "X = train_df3\n",
    "y = train_df1.OFFSET_FAULT\n",
    "\n",
    "# Splitting the data into training and testing sets\n",
    "X_train, X_test, y_train, y_test = train_test_split(X, y, test_size = 0.2, random_state = 42)\n",
    "\n",
    "# Instantiating the model\n",
    "clf = RandomForestClassifier(max_depth = 3, random_state = 0)\n",
    "clf.fit(X_train, y_train)\n",
    "\n",
    "# Making predictions\n",
    "y_pred = clf.predict(X_test)\n",
    "\n",
    "# Measuring the accuracy of the model\n",
    "print(f'Accuracy score: {accuracy_score(y_test, y_pred)}')\n",
    "print('\\n')\n",
    "print(f'{classification_report(y_test, y_pred)}')"
   ]
  },
  {
   "cell_type": "markdown",
   "id": "14cf17f1",
   "metadata": {},
   "source": [
    "# 3. Modelling"
   ]
  },
  {
   "cell_type": "markdown",
   "id": "ac2f6566",
   "metadata": {},
   "source": [
    "### Model Preparation"
   ]
  },
  {
   "cell_type": "markdown",
   "id": "5f742a08",
   "metadata": {},
   "source": [
    "#### Import Packages"
   ]
  },
  {
   "cell_type": "code",
   "execution_count": 182,
   "id": "9ae778e9",
   "metadata": {},
   "outputs": [],
   "source": [
    "from sklearn.tree import DecisionTreeClassifier\n",
    "from sklearn.ensemble import RandomForestClassifier\n",
    "from sklearn.model_selection import train_test_split\n",
    "\n",
    "#Packages for measuring model's accuracy\n",
    "from sklearn.metrics import  accuracy_score, confusion_matrix, classification_report, ConfusionMatrixDisplay"
   ]
  },
  {
   "cell_type": "markdown",
   "id": "2b157c78",
   "metadata": {},
   "source": [
    "### Preprocessing Test Data"
   ]
  },
  {
   "cell_type": "code",
   "execution_count": 175,
   "id": "5a86cb1e",
   "metadata": {},
   "outputs": [],
   "source": [
    "test_df = prepare_df(raw_test_df)"
   ]
  },
  {
   "cell_type": "code",
   "execution_count": 176,
   "id": "7f379dae",
   "metadata": {},
   "outputs": [
    {
     "data": {
      "text/plain": [
       "((127361, 13),\n",
       " ID                        0\n",
       " DATETIME                  0\n",
       " YEAR                      0\n",
       " MONTH                     0\n",
       " DAY                       0\n",
       " DAY_OF_WEEK               0\n",
       " HOUR                      0\n",
       " HOUR_OF_WEEK              0\n",
       " SENSOR1_PM2.5             0\n",
       " SENSOR2_PM2.5             0\n",
       " TEMPERATURE           88090\n",
       " RELATIVE_HUMIDITY     88090\n",
       " OFFSET_FAULT         127361\n",
       " dtype: int64)"
      ]
     },
     "execution_count": 176,
     "metadata": {},
     "output_type": "execute_result"
    }
   ],
   "source": [
    "test_df.shape, test_df.isna().sum()"
   ]
  },
  {
   "cell_type": "markdown",
   "id": "df0d16f3",
   "metadata": {},
   "source": [
    "#### Dealing with Null Values"
   ]
  },
  {
   "cell_type": "markdown",
   "id": "4e4e220a",
   "metadata": {},
   "source": [
    "This step is necessary, otherwise the model fitting will fail"
   ]
  },
  {
   "cell_type": "code",
   "execution_count": 184,
   "id": "1fcf6b9a",
   "metadata": {},
   "outputs": [],
   "source": [
    "test_df = fill_na_mean(test_df, 'test') #Flll the NaN values with the mean value"
   ]
  },
  {
   "cell_type": "code",
   "execution_count": 190,
   "id": "3e6ebc15",
   "metadata": {},
   "outputs": [
    {
     "data": {
      "text/plain": [
       "ID                        0\n",
       "DATETIME                  0\n",
       "YEAR                      0\n",
       "MONTH                     0\n",
       "DAY                       0\n",
       "DAY_OF_WEEK               0\n",
       "HOUR                      0\n",
       "HOUR_OF_WEEK              0\n",
       "SENSOR1_PM2.5             0\n",
       "SENSOR2_PM2.5             0\n",
       "TEMPERATURE               0\n",
       "RELATIVE_HUMIDITY         0\n",
       "OFFSET_FAULT         127361\n",
       "dtype: int64"
      ]
     },
     "execution_count": 190,
     "metadata": {},
     "output_type": "execute_result"
    }
   ],
   "source": [
    "test_df.isna().sum()"
   ]
  },
  {
   "cell_type": "markdown",
   "id": "20ad5aeb",
   "metadata": {},
   "source": [
    "### DecisionTree Classifier"
   ]
  },
  {
   "cell_type": "code",
   "execution_count": 220,
   "id": "f079720c",
   "metadata": {
    "scrolled": true
   },
   "outputs": [],
   "source": [
    "#Function to take df with valid columns to be used for model fitting.\n",
    "# Output is the DecisionTreeClassifier\n",
    "#Additional parameters for the Classifier can be passed\n",
    "def dtc_model(_df,\n",
    "                max_depth = 6,\n",
    "                criterion = 'entropy',\n",
    "                random_state = 0):\n",
    "\n",
    "\n",
    "    df = _df.copy(deep=True)\n",
    "\n",
    "    X = df[[col for col in df.columns if col not in \\\n",
    "        ['OFFSET_FAULT', 'ID', 'DATETIME']\n",
    "        ]]\n",
    "    y = df['OFFSET_FAULT']\n",
    "\n",
    "    X_train, X_test, y_train, y_test = train_test_split(X, y, test_size= 0.3, random_state=0)\n",
    "    # Instantiate a DecisionTreeClassifier 'dt' with a maximum depth of 6\n",
    "    dtc = DecisionTreeClassifier(max_depth=max_depth,\n",
    "                                    criterion = criterion,\n",
    "                                    random_state=random_state)\n",
    "\n",
    "    # Fit dt to the training set\n",
    "    dtc.fit(X_train, y_train)\n",
    "\n",
    "    # Predict test set labels\n",
    "    y_pred = dtc.predict(X_test)\n",
    "\n",
    "    # Compute test set accuracy  \n",
    "    print(f'Accuracy score: {accuracy_score(y_test, y_pred)}')\n",
    "    print('\\n')\n",
    "    print(f'{classification_report(y_test, y_pred)}')\n",
    "\n",
    "    #Plot the Confusion Matrix\n",
    "    cm = confusion_matrix(y_test, y_pred, labels=dtc.classes_)\n",
    "    disp = ConfusionMatrixDisplay(confusion_matrix=cm, display_labels=dtc.classes_)\n",
    "\n",
    "    fig, axs = plt.subplots(1,2, figsize = (15,10))\n",
    "\n",
    "    disp.plot(ax=axs[1])\n",
    "\n",
    "    # Plot Feature Importance Bar Chart\n",
    "    impo_df = pd.DataFrame({'feature': X.columns, 'importance': dtc.feature_importances_}).set_index('feature').sort_values(by = 'importance', ascending = False)\n",
    "    impo_df = impo_df.sort_values(by = 'importance', ascending = True)\n",
    "    impo_df.plot(kind = 'barh', color = 'purple', ax = axs[0])\n",
    "\n",
    "    plt.show()\n",
    "\n",
    "    return dtc"
   ]
  },
  {
   "cell_type": "markdown",
   "id": "50341316",
   "metadata": {},
   "source": [
    "Example of Calling the above function:"
   ]
  },
  {
   "cell_type": "code",
   "execution_count": 221,
   "id": "668919f5",
   "metadata": {},
   "outputs": [
    {
     "name": "stdout",
     "output_type": "stream",
     "text": [
      "Accuracy score: 0.7606501110438119\n",
      "\n",
      "\n",
      "              precision    recall  f1-score   support\n",
      "\n",
      "           0       0.88      0.71      0.79     55966\n",
      "           1       0.63      0.84      0.72     33188\n",
      "\n",
      "    accuracy                           0.76     89154\n",
      "   macro avg       0.76      0.78      0.76     89154\n",
      "weighted avg       0.79      0.76      0.76     89154\n",
      "\n"
     ]
    },
    {
     "data": {
      "image/png": "[encoded data removed]",
      "text/plain": [
       "<Figure size 1080x720 with 3 Axes>"
      ]
     },
     "metadata": {},
     "output_type": "display_data"
    }
   ],
   "source": [
    "#Create columns as per the preparation function\n",
    "train_df = prepare_df(raw_train_df)\n",
    "\n",
    "#Fill the Nan values using mean values\n",
    "train_df = fill_na_mean(train_df)\n",
    "\n",
    "#At this point, we can select specific columns to be used in the fitting.\n",
    "#We can experiment by using the SENSOR1_PM2.5, SENSOR2_PM2.5, TEMPERATURE & HOUR columns\n",
    "# NOTE that the OFFSET_FAULT column should always be included\n",
    "# model_cols = ['SENSOR1_PM2.5', 'SENSOR2_PM2.5', 'TEMPERATURE', 'HOUR', 'OFFSET_FAULT']\n",
    "\n",
    "#If we want to use all columns, uncomment the line below\n",
    "model_cols = [col for col in train_df.columns]\n",
    "\n",
    "# The following columns are removed in the function itself: ID, DATETIME\n",
    "\n",
    "#Fit the model\n",
    "dtc_ = dtc_model(train_df[model_cols])"
   ]
  },
  {
   "cell_type": "markdown",
   "id": "cb954757",
   "metadata": {},
   "source": [
    "### Random Forest Classifier"
   ]
  },
  {
   "cell_type": "code",
   "execution_count": 224,
   "id": "e25cafff",
   "metadata": {},
   "outputs": [],
   "source": [
    "#Function to take df with valid columns to be used for model fitting.\n",
    "# OUtput is the RandomForestClassifier\n",
    "#Function can take additional paramters for the RandomForestClassifier Model.\n",
    "def rfc_model(_df,\n",
    "                max_depth=8,\n",
    "                n_estimators=8,\n",
    "                random_state=0):\n",
    "\n",
    "    df = _df.copy(deep=True)\n",
    "\n",
    "    # Splitting the dataset into X & y\n",
    "    X = train_df[[col for col in train_df.columns if col not in\\\n",
    "        ['OFFSET_FAULT', 'ID', 'DATETIME']\n",
    "        ]]\n",
    "    y = train_df['OFFSET_FAULT']\n",
    "\n",
    "    #Splitting the data into training & testing sets.\n",
    "    X_train, X_test, y_train, y_test = train_test_split(X, y, test_size=0.2, \n",
    "                                            random_state= 42)\n",
    "\n",
    "    # Instantiate the RandomForestClassifier & fit the train data\n",
    "    rfc = RandomForestClassifier(max_depth= max_depth,\n",
    "                                n_estimators = n_estimators,\n",
    "                                random_state= random_state)\n",
    "    #Fit the train data\n",
    "    rfc.fit(X_train, y_train)\n",
    "\n",
    "    #Test the model\n",
    "    y_pred = rfc.predict(X_test)\n",
    "\n",
    "    #Calculate the model's accuracy\n",
    "    print(f'Accuracy score: {accuracy_score(y_test, y_pred)}')\n",
    "    print('\\n')\n",
    "    print(f'{classification_report(y_test, y_pred)}')\n",
    "\n",
    "    #Plot the Confusion Matrix\n",
    "    cm = confusion_matrix(y_test, y_pred, labels=rfc.classes_)\n",
    "    disp = ConfusionMatrixDisplay(confusion_matrix=cm, display_labels=rfc.classes_)\n",
    "\n",
    "    fig, axs = plt.subplots(1,2, figsize = (15,10))\n",
    "\n",
    "    disp.plot(ax=axs[1])\n",
    "\n",
    "    # Plot Feature Importance Bar Chart\n",
    "    impo_df = pd.DataFrame({'feature': X.columns, 'importance': rfc.feature_importances_}).set_index('feature').sort_values(by = 'importance', ascending = False)\n",
    "    impo_df = impo_df.sort_values(by = 'importance', ascending = True)\n",
    "    impo_df.plot(kind = 'barh', color = 'purple', ax = axs[0])\n",
    "\n",
    "    # plt.show()\n",
    "\n",
    "    return rfc\n",
    "\n"
   ]
  },
  {
   "cell_type": "markdown",
   "id": "1ef1faf4",
   "metadata": {},
   "source": [
    "Example of calling the above function:"
   ]
  },
  {
   "cell_type": "code",
   "execution_count": 225,
   "id": "f7551a5b",
   "metadata": {},
   "outputs": [
    {
     "name": "stdout",
     "output_type": "stream",
     "text": [
      "Accuracy score: 0.8534221683827983\n",
      "\n",
      "\n",
      "              precision    recall  f1-score   support\n",
      "\n",
      "           0       0.86      0.92      0.89     37442\n",
      "           1       0.85      0.74      0.79     21994\n",
      "\n",
      "    accuracy                           0.85     59436\n",
      "   macro avg       0.85      0.83      0.84     59436\n",
      "weighted avg       0.85      0.85      0.85     59436\n",
      "\n"
     ]
    },
    {
     "data": {
      "image/png": "[encoded data removed]",
      "text/plain": [
       "<Figure size 1080x720 with 3 Axes>"
      ]
     },
     "metadata": {},
     "output_type": "display_data"
    }
   ],
   "source": [
    "#Create columns as per the preparation function\n",
    "train_df = prepare_df(raw_train_df)\n",
    "\n",
    "#Fill the Nan values using mean values\n",
    "train_df = fill_na_mean(train_df)\n",
    "\n",
    "#At this point, we can select specific columns to be used in the fitting.\n",
    "#We can experiment by using the SENSOR1_PM2.5, SENSOR2_PM2.5, TEMPERATURE & HOUR columns\n",
    "# NOTE that the OFFSET_FAULT column should always be included\n",
    "# model_cols = ['SENSOR1_PM2.5', 'SENSOR2_PM2.5', 'TEMPERATURE', 'HOUR', 'OFFSET_FAULT']\n",
    "\n",
    "#If we want to use all columns, uncomment the line below\n",
    "model_cols = [col for col in train_df.columns]\n",
    "\n",
    "# The following columns are removed in the function itself: ID, DATETIME\n",
    "\n",
    "#Fit the model\n",
    "rfc_ = rfc_model(train_df[model_cols])"
   ]
  },
  {
   "cell_type": "markdown",
   "id": "3293cc71",
   "metadata": {},
   "source": [
    "## Hyper Parameter Tuning"
   ]
  },
  {
   "cell_type": "markdown",
   "id": "dfdda6e5",
   "metadata": {},
   "source": [
    "We can choose to either run the functions multiple times with different variables for the model's hyperparameters, or utilize the GridSearch function"
   ]
  },
  {
   "cell_type": "markdown",
   "id": "3f3b70cd",
   "metadata": {},
   "source": [
    "#### Iterating the above functions"
   ]
  },
  {
   "cell_type": "code",
   "execution_count": 231,
   "id": "77c320e2",
   "metadata": {},
   "outputs": [],
   "source": [
    "%%capture cap --no-stderr\n",
    "#The above magic command will enable saving the output of the cell\n",
    "#For tuning the RandomForestClassifier parameters:\n",
    "\n",
    "#Code for filtering the dataset's features can be included here.\n",
    "\n",
    "\n",
    "#Declare the list of hyper parameters to loop through.\n",
    "# NOTE that the duration of running the functions will be EXPONENTIAL to the number of points in the parameters\n",
    "#ie. 3 parameters with three points will  have a Big O Notation of (3 ** 3)\n",
    "n_estimators = [8,10]\n",
    "max_depths = [8,10]\n",
    "random_states = [30]\n",
    "\n",
    "\n",
    "#Create iterative loops to be looped through.\n",
    "for n_estimator in n_estimators:\n",
    "    for max_depth in max_depths:\n",
    "        for random_state in random_states:\n",
    "            print('Max_depth: \\t {} \\n N_estimators: \\t {} \\n Random_state: \\t {} \\n'\\\n",
    "                .format(max_depth, n_estimator, random_state))\n",
    "            rfc_ = rfc_model(train_df, max_depth=max_depth,\n",
    "                                        n_estimators=n_estimator,\n",
    "                                        random_state=random_state)\n",
    "\n",
    "#Save the output to a file\n",
    "#May be required to be run twixe if the error 'cap does not exist' is observed.\n",
    "with open('Challenge/data/rfc_tuning.txt', \"w\") as f:\n",
    "    f.write(cap.stdout)"
   ]
  },
  {
   "cell_type": "markdown",
   "id": "d97aef1e",
   "metadata": {},
   "source": [
    "### GridSearch Functionality"
   ]
  },
  {
   "cell_type": "code",
   "execution_count": null,
   "id": "ac2de8e7",
   "metadata": {},
   "outputs": [],
   "source": []
  },
  {
   "cell_type": "markdown",
   "id": "2729ff06",
   "metadata": {},
   "source": [
    "#### XG Boost Classifier"
   ]
  },
  {
   "cell_type": "markdown",
   "id": "3d9b39a2",
   "metadata": {},
   "source": []
  },
  {
   "cell_type": "markdown",
   "id": "86445568",
   "metadata": {},
   "source": [
    "## Prepare Submission Output"
   ]
  },
  {
   "cell_type": "markdown",
   "id": "dbb3e23b",
   "metadata": {},
   "source": [
    "raw_samp_df"
   ]
  },
  {
   "cell_type": "code",
   "execution_count": 151,
   "id": "409bd98c",
   "metadata": {},
   "outputs": [],
   "source": [
    "test_pred = rfc.predict(test_df[X.columns])\n",
    "rfc_sub_file = raw_samp_df.copy(deep = True)\n",
    "rfc_sub_file['Offset_fault'] = test_pred\n",
    "\n",
    "rfc_sub_file.to_csv('rfc_sub.csv', index = False)"
   ]
  },
  {
   "cell_type": "code",
   "execution_count": 149,
   "id": "56508354",
   "metadata": {},
   "outputs": [
    {
     "data": {
      "text/html": [
       "<div><div id=a4b06211-e72f-4df7-bbec-806f249c5474 style=\"display:none; background-color:#9D6CFF; color:white; width:200px; height:30px; padding-left:5px; border-radius:4px; flex-direction:row; justify-content:space-around; align-items:center;\" onmouseover=\"this.style.backgroundColor='#BA9BF8'\" onmouseout=\"this.style.backgroundColor='#9D6CFF'\" onclick=\"window.commands?.execute('create-mitosheet-from-dataframe-output');\">See Full Dataframe in Mito</div> <script> if (window.commands.hasCommand('create-mitosheet-from-dataframe-output')) document.getElementById('a4b06211-e72f-4df7-bbec-806f249c5474').style.display = 'flex' </script> <table border=\"1\" class=\"dataframe\">\n",
       "  <thead>\n",
       "    <tr style=\"text-align: right;\">\n",
       "      <th></th>\n",
       "      <th>ID</th>\n",
       "      <th>DATETIME</th>\n",
       "      <th>YEAR</th>\n",
       "      <th>MONTH</th>\n",
       "      <th>DAY</th>\n",
       "      <th>DAY_OF_WEEK</th>\n",
       "      <th>HOUR</th>\n",
       "      <th>HOUR_OF_WEEK</th>\n",
       "      <th>SENSOR1_PM2.5</th>\n",
       "      <th>SENSOR2_PM2.5</th>\n",
       "      <th>TEMPERATURE</th>\n",
       "      <th>RELATIVE_HUMIDITY</th>\n",
       "      <th>OFFSET_FAULT</th>\n",
       "    </tr>\n",
       "  </thead>\n",
       "  <tbody>\n",
       "    <tr>\n",
       "      <th>0</th>\n",
       "      <td>ID_STL3V9B2OU12</td>\n",
       "      <td>2022-01-28 08:49:41</td>\n",
       "      <td>2022</td>\n",
       "      <td>1</td>\n",
       "      <td>28</td>\n",
       "      <td>4</td>\n",
       "      <td>8</td>\n",
       "      <td>104</td>\n",
       "      <td>90.75</td>\n",
       "      <td>114.78</td>\n",
       "      <td>22.200000</td>\n",
       "      <td>56.000000</td>\n",
       "      <td>NaN</td>\n",
       "    </tr>\n",
       "    <tr>\n",
       "      <th>1</th>\n",
       "      <td>ID_U2EKAY4SGA94</td>\n",
       "      <td>2022-02-16 21:30:17</td>\n",
       "      <td>2022</td>\n",
       "      <td>2</td>\n",
       "      <td>16</td>\n",
       "      <td>2</td>\n",
       "      <td>21</td>\n",
       "      <td>69</td>\n",
       "      <td>56.03</td>\n",
       "      <td>52.18</td>\n",
       "      <td>23.683838</td>\n",
       "      <td>72.215834</td>\n",
       "      <td>NaN</td>\n",
       "    </tr>\n",
       "    <tr>\n",
       "      <th>2</th>\n",
       "      <td>ID_UJFLEWQR0U4N</td>\n",
       "      <td>2022-01-24 17:57:18</td>\n",
       "      <td>2022</td>\n",
       "      <td>1</td>\n",
       "      <td>24</td>\n",
       "      <td>0</td>\n",
       "      <td>17</td>\n",
       "      <td>17</td>\n",
       "      <td>387.35</td>\n",
       "      <td>346.73</td>\n",
       "      <td>28.100000</td>\n",
       "      <td>63.000000</td>\n",
       "      <td>NaN</td>\n",
       "    </tr>\n",
       "    <tr>\n",
       "      <th>3</th>\n",
       "      <td>ID_S2C2GPGA4R5I</td>\n",
       "      <td>2022-01-31 07:07:09</td>\n",
       "      <td>2022</td>\n",
       "      <td>1</td>\n",
       "      <td>31</td>\n",
       "      <td>0</td>\n",
       "      <td>7</td>\n",
       "      <td>7</td>\n",
       "      <td>63.17</td>\n",
       "      <td>83.85</td>\n",
       "      <td>21.600000</td>\n",
       "      <td>82.000000</td>\n",
       "      <td>NaN</td>\n",
       "    </tr>\n",
       "    <tr>\n",
       "      <th>4</th>\n",
       "      <td>ID_5V2C2ZL221H8</td>\n",
       "      <td>2022-01-31 00:37:05</td>\n",
       "      <td>2022</td>\n",
       "      <td>1</td>\n",
       "      <td>31</td>\n",
       "      <td>0</td>\n",
       "      <td>0</td>\n",
       "      <td>0</td>\n",
       "      <td>69.23</td>\n",
       "      <td>53.07</td>\n",
       "      <td>22.700000</td>\n",
       "      <td>80.000000</td>\n",
       "      <td>NaN</td>\n",
       "    </tr>\n",
       "    <tr>\n",
       "      <th>...</th>\n",
       "      <td>...</td>\n",
       "      <td>...</td>\n",
       "      <td>...</td>\n",
       "      <td>...</td>\n",
       "      <td>...</td>\n",
       "      <td>...</td>\n",
       "      <td>...</td>\n",
       "      <td>...</td>\n",
       "      <td>...</td>\n",
       "      <td>...</td>\n",
       "      <td>...</td>\n",
       "      <td>...</td>\n",
       "      <td>...</td>\n",
       "    </tr>\n",
       "    <tr>\n",
       "      <th>127356</th>\n",
       "      <td>ID_HNCS9Q2GNCQB</td>\n",
       "      <td>2022-02-13 00:37:14</td>\n",
       "      <td>2022</td>\n",
       "      <td>2</td>\n",
       "      <td>13</td>\n",
       "      <td>6</td>\n",
       "      <td>0</td>\n",
       "      <td>144</td>\n",
       "      <td>33.65</td>\n",
       "      <td>42.23</td>\n",
       "      <td>23.683838</td>\n",
       "      <td>72.215834</td>\n",
       "      <td>NaN</td>\n",
       "    </tr>\n",
       "    <tr>\n",
       "      <th>127357</th>\n",
       "      <td>ID_GIIQYTE11L3H</td>\n",
       "      <td>2022-03-09 16:26:42</td>\n",
       "      <td>2022</td>\n",
       "      <td>3</td>\n",
       "      <td>9</td>\n",
       "      <td>2</td>\n",
       "      <td>16</td>\n",
       "      <td>64</td>\n",
       "      <td>21.23</td>\n",
       "      <td>15.72</td>\n",
       "      <td>23.683838</td>\n",
       "      <td>72.215834</td>\n",
       "      <td>NaN</td>\n",
       "    </tr>\n",
       "    <tr>\n",
       "      <th>127358</th>\n",
       "      <td>ID_EC7F1P4GXKCL</td>\n",
       "      <td>2022-02-18 14:47:28</td>\n",
       "      <td>2022</td>\n",
       "      <td>2</td>\n",
       "      <td>18</td>\n",
       "      <td>4</td>\n",
       "      <td>14</td>\n",
       "      <td>110</td>\n",
       "      <td>41.45</td>\n",
       "      <td>47.25</td>\n",
       "      <td>23.683838</td>\n",
       "      <td>72.215834</td>\n",
       "      <td>NaN</td>\n",
       "    </tr>\n",
       "    <tr>\n",
       "      <th>127359</th>\n",
       "      <td>ID_J64RVG2BRAG0</td>\n",
       "      <td>2022-03-11 19:14:11</td>\n",
       "      <td>2022</td>\n",
       "      <td>3</td>\n",
       "      <td>11</td>\n",
       "      <td>4</td>\n",
       "      <td>19</td>\n",
       "      <td>115</td>\n",
       "      <td>28.60</td>\n",
       "      <td>27.27</td>\n",
       "      <td>23.683838</td>\n",
       "      <td>72.215834</td>\n",
       "      <td>NaN</td>\n",
       "    </tr>\n",
       "    <tr>\n",
       "      <th>127360</th>\n",
       "      <td>ID_7ABZNHCIVVAV</td>\n",
       "      <td>2022-03-11 01:51:28</td>\n",
       "      <td>2022</td>\n",
       "      <td>3</td>\n",
       "      <td>11</td>\n",
       "      <td>4</td>\n",
       "      <td>1</td>\n",
       "      <td>97</td>\n",
       "      <td>41.87</td>\n",
       "      <td>39.82</td>\n",
       "      <td>23.683838</td>\n",
       "      <td>72.215834</td>\n",
       "      <td>NaN</td>\n",
       "    </tr>\n",
       "  </tbody>\n",
       "</table></div>"
      ],
      "text/plain": [
       "                     ID            DATETIME  YEAR  MONTH  DAY  DAY_OF_WEEK  \\\n",
       "0       ID_STL3V9B2OU12 2022-01-28 08:49:41  2022      1   28            4   \n",
       "1       ID_U2EKAY4SGA94 2022-02-16 21:30:17  2022      2   16            2   \n",
       "2       ID_UJFLEWQR0U4N 2022-01-24 17:57:18  2022      1   24            0   \n",
       "3       ID_S2C2GPGA4R5I 2022-01-31 07:07:09  2022      1   31            0   \n",
       "4       ID_5V2C2ZL221H8 2022-01-31 00:37:05  2022      1   31            0   \n",
       "...                 ...                 ...   ...    ...  ...          ...   \n",
       "127356  ID_HNCS9Q2GNCQB 2022-02-13 00:37:14  2022      2   13            6   \n",
       "127357  ID_GIIQYTE11L3H 2022-03-09 16:26:42  2022      3    9            2   \n",
       "127358  ID_EC7F1P4GXKCL 2022-02-18 14:47:28  2022      2   18            4   \n",
       "127359  ID_J64RVG2BRAG0 2022-03-11 19:14:11  2022      3   11            4   \n",
       "127360  ID_7ABZNHCIVVAV 2022-03-11 01:51:28  2022      3   11            4   \n",
       "\n",
       "        HOUR  HOUR_OF_WEEK  SENSOR1_PM2.5  SENSOR2_PM2.5  TEMPERATURE  \\\n",
       "0          8           104          90.75         114.78    22.200000   \n",
       "1         21            69          56.03          52.18    23.683838   \n",
       "2         17            17         387.35         346.73    28.100000   \n",
       "3          7             7          63.17          83.85    21.600000   \n",
       "4          0             0          69.23          53.07    22.700000   \n",
       "...      ...           ...            ...            ...          ...   \n",
       "127356     0           144          33.65          42.23    23.683838   \n",
       "127357    16            64          21.23          15.72    23.683838   \n",
       "127358    14           110          41.45          47.25    23.683838   \n",
       "127359    19           115          28.60          27.27    23.683838   \n",
       "127360     1            97          41.87          39.82    23.683838   \n",
       "\n",
       "        RELATIVE_HUMIDITY  OFFSET_FAULT  \n",
       "0               56.000000           NaN  \n",
       "1               72.215834           NaN  \n",
       "2               63.000000           NaN  \n",
       "3               82.000000           NaN  \n",
       "4               80.000000           NaN  \n",
       "...                   ...           ...  \n",
       "127356          72.215834           NaN  \n",
       "127357          72.215834           NaN  \n",
       "127358          72.215834           NaN  \n",
       "127359          72.215834           NaN  \n",
       "127360          72.215834           NaN  \n",
       "\n",
       "[127361 rows x 13 columns]"
      ]
     },
     "execution_count": 149,
     "metadata": {},
     "output_type": "execute_result"
    }
   ],
   "source": [
    "test_df[]"
   ]
  },
  {
   "cell_type": "code",
   "execution_count": null,
   "id": "b9e26c8e",
   "metadata": {},
   "outputs": [],
   "source": []
  }
 ],
 "metadata": {
  "kernelspec": {
   "display_name": "Python 3 (ipykernel)",
   "language": "python",
   "name": "python3"
  },
  "language_info": {
   "codemirror_mode": {
    "name": "ipython",
    "version": 3
   },
   "file_extension": ".py",
   "mimetype": "text/x-python",
   "name": "python",
   "nbconvert_exporter": "python",
   "pygments_lexer": "ipython3",
   "version": "3.9.7"
  }
 },
 "nbformat": 4,
 "nbformat_minor": 5
}
