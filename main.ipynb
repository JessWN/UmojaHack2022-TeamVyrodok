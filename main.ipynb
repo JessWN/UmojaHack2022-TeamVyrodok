{
 "cells": [
  {
   "cell_type": "markdown",
   "metadata": {},
   "source": [
    "### INSURANCE POLICY LAPSE PREDICTION"
   ]
  },
  {
   "cell_type": "markdown",
   "metadata": {},
   "source": [
    "### Import Packages"
   ]
  },
  {
   "cell_type": "code",
   "execution_count": 26,
   "metadata": {},
   "outputs": [],
   "source": [
    "#A00\n",
    "#import basic packages.\n",
    "import pandas as pd\n",
    "import matplotlib.pyplot as plt\n",
    "\n",
    "from sklearn.ensemble import RandomForestClassifier"
   ]
  },
  {
   "cell_type": "markdown",
   "metadata": {},
   "source": [
    "### Import Files"
   ]
  },
  {
   "cell_type": "code",
   "execution_count": 27,
   "metadata": {},
   "outputs": [],
   "source": [
    "#A00\n",
    "#import files\n",
    "client_df = pd.read_csv('Practice/data/client_data.csv')\n",
    "payment_df = pd.read_csv('Practice/data/payment_history.csv')\n",
    "policy_df = pd.read_csv('Practice/data/policy_data.csv')\n",
    "main_train_df = pd.read_csv('Practice/data/train.csv')\n",
    "smp_sub_df = pd.read_csv('Practice/data/sample_sub.csv')"
   ]
  },
  {
   "cell_type": "markdown",
   "metadata": {},
   "source": [
    "### Expolaratory Data Analysis"
   ]
  },
  {
   "cell_type": "code",
   "execution_count": 3,
   "metadata": {},
   "outputs": [
    {
     "data": {
      "text/html": [
       "<div>\n",
       "<style scoped>\n",
       "    .dataframe tbody tr th:only-of-type {\n",
       "        vertical-align: middle;\n",
       "    }\n",
       "\n",
       "    .dataframe tbody tr th {\n",
       "        vertical-align: top;\n",
       "    }\n",
       "\n",
       "    .dataframe thead th {\n",
       "        text-align: right;\n",
       "    }\n",
       "</style>\n",
       "<table border=\"1\" class=\"dataframe\">\n",
       "  <thead>\n",
       "    <tr style=\"text-align: right;\">\n",
       "      <th></th>\n",
       "      <th>Policy ID</th>\n",
       "      <th>Lapse</th>\n",
       "      <th>Lapse Year</th>\n",
       "    </tr>\n",
       "  </thead>\n",
       "  <tbody>\n",
       "    <tr>\n",
       "      <th>0</th>\n",
       "      <td>PID_4928TWH</td>\n",
       "      <td>?</td>\n",
       "      <td>?</td>\n",
       "    </tr>\n",
       "    <tr>\n",
       "      <th>1</th>\n",
       "      <td>PID_KBLLEGK</td>\n",
       "      <td>?</td>\n",
       "      <td>?</td>\n",
       "    </tr>\n",
       "    <tr>\n",
       "      <th>2</th>\n",
       "      <td>PID_90F0QA3</td>\n",
       "      <td>?</td>\n",
       "      <td>?</td>\n",
       "    </tr>\n",
       "  </tbody>\n",
       "</table>\n",
       "</div>"
      ],
      "text/plain": [
       "     Policy ID Lapse Lapse Year\n",
       "0  PID_4928TWH     ?          ?\n",
       "1  PID_KBLLEGK     ?          ?\n",
       "2  PID_90F0QA3     ?          ?"
      ]
     },
     "execution_count": 3,
     "metadata": {},
     "output_type": "execute_result"
    }
   ],
   "source": [
    "#EDA on main_train_df\n",
    "\n",
    "main_train_df.head(3)"
   ]
  },
  {
   "cell_type": "markdown",
   "metadata": {},
   "source": [
    "The Policy ID with Lapse and Lapse Year '?' values are meant to be in the test df and will be separated"
   ]
  },
  {
   "cell_type": "code",
   "execution_count": 4,
   "metadata": {},
   "outputs": [
    {
     "data": {
      "text/plain": [
       "(51685, 3)"
      ]
     },
     "execution_count": 4,
     "metadata": {},
     "output_type": "execute_result"
    }
   ],
   "source": [
    "main_train_df.shape"
   ]
  },
  {
   "cell_type": "markdown",
   "metadata": {},
   "source": [
    "The train df has 51,683 rows and 3 columns"
   ]
  },
  {
   "cell_type": "code",
   "execution_count": 5,
   "metadata": {},
   "outputs": [
    {
     "name": "stdout",
     "output_type": "stream",
     "text": [
      "<class 'pandas.core.frame.DataFrame'>\n",
      "RangeIndex: 51685 entries, 0 to 51684\n",
      "Data columns (total 3 columns):\n",
      " #   Column      Non-Null Count  Dtype \n",
      "---  ------      --------------  ----- \n",
      " 0   Policy ID   51685 non-null  object\n",
      " 1   Lapse       51685 non-null  object\n",
      " 2   Lapse Year  51685 non-null  object\n",
      "dtypes: object(3)\n",
      "memory usage: 1.2+ MB\n"
     ]
    }
   ],
   "source": [
    "main_train_df.info()"
   ]
  },
  {
   "cell_type": "code",
   "execution_count": 9,
   "metadata": {},
   "outputs": [
    {
     "data": {
      "text/plain": [
       "Policy ID     0\n",
       "Lapse         0\n",
       "Lapse Year    0\n",
       "dtype: int64"
      ]
     },
     "execution_count": 9,
     "metadata": {},
     "output_type": "execute_result"
    }
   ],
   "source": [
    "main_train_df.isna().sum()"
   ]
  },
  {
   "cell_type": "markdown",
   "metadata": {},
   "source": [
    "No null values"
   ]
  },
  {
   "cell_type": "code",
   "execution_count": 10,
   "metadata": {},
   "outputs": [
    {
     "data": {
      "text/plain": [
       "51685"
      ]
     },
     "execution_count": 10,
     "metadata": {},
     "output_type": "execute_result"
    }
   ],
   "source": [
    "len(main_train_df['Policy ID'].unique())"
   ]
  },
  {
   "cell_type": "markdown",
   "metadata": {},
   "source": [
    "There are no duplicate Policy ID values"
   ]
  },
  {
   "cell_type": "code",
   "execution_count": 11,
   "metadata": {},
   "outputs": [
    {
     "data": {
      "text/plain": [
       "array(['?', '1'], dtype=object)"
      ]
     },
     "execution_count": 11,
     "metadata": {},
     "output_type": "execute_result"
    }
   ],
   "source": [
    "main_train_df['Lapse'].unique()"
   ]
  },
  {
   "cell_type": "markdown",
   "metadata": {},
   "source": [
    "Apart from '?', the Lapse value is equal to 1"
   ]
  },
  {
   "cell_type": "code",
   "execution_count": 12,
   "metadata": {},
   "outputs": [
    {
     "data": {
      "text/plain": [
       "array(['?', '2019', '2018', '2017'], dtype=object)"
      ]
     },
     "execution_count": 12,
     "metadata": {},
     "output_type": "execute_result"
    }
   ],
   "source": [
    "main_train_df['Lapse Year'].unique()"
   ]
  },
  {
   "cell_type": "markdown",
   "metadata": {},
   "source": [
    "The Lapse Years are between (2017-2019)"
   ]
  },
  {
   "cell_type": "markdown",
   "metadata": {},
   "source": [
    "### Feature Engineering"
   ]
  },
  {
   "cell_type": "markdown",
   "metadata": {},
   "source": [
    "First, we create the test df. Our target variable is Lapse, therefore we drop the Lapse Year column"
   ]
  },
  {
   "cell_type": "code",
   "execution_count": 68,
   "metadata": {},
   "outputs": [
    {
     "data": {
      "text/html": [
       "<div>\n",
       "<style scoped>\n",
       "    .dataframe tbody tr th:only-of-type {\n",
       "        vertical-align: middle;\n",
       "    }\n",
       "\n",
       "    .dataframe tbody tr th {\n",
       "        vertical-align: top;\n",
       "    }\n",
       "\n",
       "    .dataframe thead th {\n",
       "        text-align: right;\n",
       "    }\n",
       "</style>\n",
       "<table border=\"1\" class=\"dataframe\">\n",
       "  <thead>\n",
       "    <tr style=\"text-align: right;\">\n",
       "      <th></th>\n",
       "      <th>Policy ID</th>\n",
       "      <th>Lapse</th>\n",
       "    </tr>\n",
       "  </thead>\n",
       "  <tbody>\n",
       "    <tr>\n",
       "      <th>0</th>\n",
       "      <td>PID_4928TWH</td>\n",
       "      <td>?</td>\n",
       "    </tr>\n",
       "    <tr>\n",
       "      <th>1</th>\n",
       "      <td>PID_KBLLEGK</td>\n",
       "      <td>?</td>\n",
       "    </tr>\n",
       "    <tr>\n",
       "      <th>2</th>\n",
       "      <td>PID_90F0QA3</td>\n",
       "      <td>?</td>\n",
       "    </tr>\n",
       "  </tbody>\n",
       "</table>\n",
       "</div>"
      ],
      "text/plain": [
       "     Policy ID Lapse\n",
       "0  PID_4928TWH     ?\n",
       "1  PID_KBLLEGK     ?\n",
       "2  PID_90F0QA3     ?"
      ]
     },
     "execution_count": 68,
     "metadata": {},
     "output_type": "execute_result"
    }
   ],
   "source": [
    "#A00\n",
    "test_df = main_train_df[main_train_df['Lapse'] == '?'].drop(['Lapse Year'], axis =1)\n",
    "test_df.head(3)"
   ]
  },
  {
   "cell_type": "code",
   "execution_count": 14,
   "metadata": {},
   "outputs": [
    {
     "data": {
      "text/plain": [
       "array(['?'], dtype=object)"
      ]
     },
     "execution_count": 14,
     "metadata": {},
     "output_type": "execute_result"
    }
   ],
   "source": [
    "test_df['Lapse'].unique()"
   ]
  },
  {
   "cell_type": "code",
   "execution_count": 15,
   "metadata": {},
   "outputs": [
    {
     "data": {
      "text/plain": [
       "(43707, 2)"
      ]
     },
     "execution_count": 15,
     "metadata": {},
     "output_type": "execute_result"
    }
   ],
   "source": [
    "test_df.shape"
   ]
  },
  {
   "cell_type": "markdown",
   "metadata": {},
   "source": [
    "Out of the 51,685 rows, 43,707 are in our test df"
   ]
  },
  {
   "cell_type": "markdown",
   "metadata": {},
   "source": [
    "We create the train_df without the test rows"
   ]
  },
  {
   "cell_type": "code",
   "execution_count": 69,
   "metadata": {},
   "outputs": [
    {
     "name": "stdout",
     "output_type": "stream",
     "text": [
      "(7978, 3)\n"
     ]
    },
    {
     "data": {
      "text/html": [
       "<div>\n",
       "<style scoped>\n",
       "    .dataframe tbody tr th:only-of-type {\n",
       "        vertical-align: middle;\n",
       "    }\n",
       "\n",
       "    .dataframe tbody tr th {\n",
       "        vertical-align: top;\n",
       "    }\n",
       "\n",
       "    .dataframe thead th {\n",
       "        text-align: right;\n",
       "    }\n",
       "</style>\n",
       "<table border=\"1\" class=\"dataframe\">\n",
       "  <thead>\n",
       "    <tr style=\"text-align: right;\">\n",
       "      <th></th>\n",
       "      <th>Policy ID</th>\n",
       "      <th>Lapse</th>\n",
       "      <th>Lapse Year</th>\n",
       "    </tr>\n",
       "  </thead>\n",
       "  <tbody>\n",
       "    <tr>\n",
       "      <th>16</th>\n",
       "      <td>PID_MFAAYNJ</td>\n",
       "      <td>1</td>\n",
       "      <td>2019</td>\n",
       "    </tr>\n",
       "    <tr>\n",
       "      <th>23</th>\n",
       "      <td>PID_TICDPAY</td>\n",
       "      <td>1</td>\n",
       "      <td>2019</td>\n",
       "    </tr>\n",
       "    <tr>\n",
       "      <th>30</th>\n",
       "      <td>PID_SPACC3N</td>\n",
       "      <td>1</td>\n",
       "      <td>2018</td>\n",
       "    </tr>\n",
       "  </tbody>\n",
       "</table>\n",
       "</div>"
      ],
      "text/plain": [
       "      Policy ID Lapse Lapse Year\n",
       "16  PID_MFAAYNJ     1       2019\n",
       "23  PID_TICDPAY     1       2019\n",
       "30  PID_SPACC3N     1       2018"
      ]
     },
     "execution_count": 69,
     "metadata": {},
     "output_type": "execute_result"
    }
   ],
   "source": [
    "#A00\n",
    "train_df = main_train_df[main_train_df['Lapse'] != '?']\n",
    "print(train_df.shape)\n",
    "train_df.head(3)"
   ]
  },
  {
   "cell_type": "code",
   "execution_count": 33,
   "metadata": {},
   "outputs": [
    {
     "name": "stdout",
     "output_type": "stream",
     "text": [
      "<class 'pandas.core.frame.DataFrame'>\n",
      "Int64Index: 7978 entries, 16 to 51680\n",
      "Data columns (total 3 columns):\n",
      " #   Column      Non-Null Count  Dtype \n",
      "---  ------      --------------  ----- \n",
      " 0   Policy ID   7978 non-null   object\n",
      " 1   Lapse       7978 non-null   object\n",
      " 2   Lapse Year  7978 non-null   object\n",
      "dtypes: object(3)\n",
      "memory usage: 249.3+ KB\n"
     ]
    }
   ],
   "source": [
    "train_df.info()"
   ]
  },
  {
   "cell_type": "markdown",
   "metadata": {},
   "source": [
    "Our train df has 7,978 columns. The Lapse and Lapse Year are stored as objects. We will convert them to integers"
   ]
  },
  {
   "cell_type": "code",
   "execution_count": 70,
   "metadata": {},
   "outputs": [
    {
     "name": "stdout",
     "output_type": "stream",
     "text": [
      "<class 'pandas.core.frame.DataFrame'>\n",
      "Int64Index: 7978 entries, 16 to 51680\n",
      "Data columns (total 3 columns):\n",
      " #   Column      Non-Null Count  Dtype \n",
      "---  ------      --------------  ----- \n",
      " 0   Policy ID   7978 non-null   object\n",
      " 1   Lapse       7978 non-null   int64 \n",
      " 2   Lapse Year  7978 non-null   int64 \n",
      "dtypes: int64(2), object(1)\n",
      "memory usage: 249.3+ KB\n"
     ]
    },
    {
     "name": "stderr",
     "output_type": "stream",
     "text": [
      "C:\\Users\\teddy\\AppData\\Local\\Temp\\ipykernel_16688\\2600204025.py:3: SettingWithCopyWarning: \n",
      "A value is trying to be set on a copy of a slice from a DataFrame.\n",
      "Try using .loc[row_indexer,col_indexer] = value instead\n",
      "\n",
      "See the caveats in the documentation: https://pandas.pydata.org/pandas-docs/stable/user_guide/indexing.html#returning-a-view-versus-a-copy\n",
      "  train_df.loc[:, ('Lapse Year')] = pd.to_numeric(train_df['Lapse Year'])\n",
      "C:\\Users\\teddy\\AppData\\Local\\Temp\\ipykernel_16688\\2600204025.py:4: SettingWithCopyWarning: \n",
      "A value is trying to be set on a copy of a slice from a DataFrame.\n",
      "Try using .loc[row_indexer,col_indexer] = value instead\n",
      "\n",
      "See the caveats in the documentation: https://pandas.pydata.org/pandas-docs/stable/user_guide/indexing.html#returning-a-view-versus-a-copy\n",
      "  train_df.loc[:, ('Lapse')] = pd.to_numeric(train_df['Lapse'])\n"
     ]
    }
   ],
   "source": [
    "#A00\n",
    "#Converting Lapse & Lapse Year to integers\n",
    "train_df.loc[:, ('Lapse Year')] = pd.to_numeric(train_df['Lapse Year'])\n",
    "train_df.loc[:, ('Lapse')] = pd.to_numeric(train_df['Lapse'])\n",
    "train_df.info()"
   ]
  },
  {
   "cell_type": "markdown",
   "metadata": {},
   "source": [
    "Success!"
   ]
  },
  {
   "cell_type": "code",
   "execution_count": 16,
   "metadata": {},
   "outputs": [
    {
     "data": {
      "text/plain": [
       "array([1], dtype=int64)"
      ]
     },
     "execution_count": 16,
     "metadata": {},
     "output_type": "execute_result"
    }
   ],
   "source": [
    "train_df['Lapse'].unique()"
   ]
  },
  {
   "cell_type": "code",
   "execution_count": 17,
   "metadata": {},
   "outputs": [
    {
     "data": {
      "text/plain": [
       "array([2019, 2018, 2017], dtype=int64)"
      ]
     },
     "execution_count": 17,
     "metadata": {},
     "output_type": "execute_result"
    }
   ],
   "source": [
    "train_df['Lapse Year'].unique()"
   ]
  },
  {
   "cell_type": "markdown",
   "metadata": {},
   "source": [
    "We combine the following main features to the train_df: <br>\n",
    "POLICY_ID, LAPSE, LAPSE_YEAR - from train_df <br/>\n",
    "SEX, BIRTH_DATE - from client_df <br/>\n",
    "AMOUNT_PAID, DATE_PAID, PREMIUM_DUE_DATE - from payment_df <br/>\n",
    "PRODUCT_CODE(PPR_PRODCD), PRINC_RSHIP(CLF_LIFECD), SUM_ASSURED(NPR_SUM_ASSURE), CATEGORY - from policy_df\n"
   ]
  },
  {
   "cell_type": "code",
   "execution_count": 71,
   "metadata": {},
   "outputs": [
    {
     "data": {
      "text/html": [
       "<div>\n",
       "<style scoped>\n",
       "    .dataframe tbody tr th:only-of-type {\n",
       "        vertical-align: middle;\n",
       "    }\n",
       "\n",
       "    .dataframe tbody tr th {\n",
       "        vertical-align: top;\n",
       "    }\n",
       "\n",
       "    .dataframe thead th {\n",
       "        text-align: right;\n",
       "    }\n",
       "</style>\n",
       "<table border=\"1\" class=\"dataframe\">\n",
       "  <thead>\n",
       "    <tr style=\"text-align: right;\">\n",
       "      <th></th>\n",
       "      <th>POLICY_ID</th>\n",
       "      <th>GENDER</th>\n",
       "      <th>BIRTH YEAR</th>\n",
       "      <th>AMOUNT_PAID</th>\n",
       "      <th>DATE_PAID</th>\n",
       "      <th>PREMIUM_DUE_DATE</th>\n",
       "      <th>PRODUCT_CODE</th>\n",
       "      <th>PRINC_RSHIP</th>\n",
       "      <th>SUM_ASSURED</th>\n",
       "      <th>CATEGORY</th>\n",
       "      <th>LAPSE_YEAR</th>\n",
       "      <th>LAPSE</th>\n",
       "    </tr>\n",
       "  </thead>\n",
       "  <tbody>\n",
       "    <tr>\n",
       "      <th>16</th>\n",
       "      <td>PID_MFAAYNJ</td>\n",
       "      <td>F</td>\n",
       "      <td>1987</td>\n",
       "      <td>0.0</td>\n",
       "      <td>2018-01-10 00:00:00</td>\n",
       "      <td>2018-01-10 00:00:00</td>\n",
       "      <td>PPR_PRODCD_KOFUYNN</td>\n",
       "      <td>4</td>\n",
       "      <td>27631.086529</td>\n",
       "      <td>CATEGORY_GWW4FYB</td>\n",
       "      <td>2019</td>\n",
       "      <td>1</td>\n",
       "    </tr>\n",
       "    <tr>\n",
       "      <th>16</th>\n",
       "      <td>PID_MFAAYNJ</td>\n",
       "      <td>F</td>\n",
       "      <td>1987</td>\n",
       "      <td>0.0</td>\n",
       "      <td>2018-01-10 00:00:00</td>\n",
       "      <td>2018-01-10 00:00:00</td>\n",
       "      <td>PPR_PRODCD_KOFUYNN</td>\n",
       "      <td>1</td>\n",
       "      <td>123487.430359</td>\n",
       "      <td>CATEGORY_GWW4FYB</td>\n",
       "      <td>2019</td>\n",
       "      <td>1</td>\n",
       "    </tr>\n",
       "    <tr>\n",
       "      <th>16</th>\n",
       "      <td>PID_MFAAYNJ</td>\n",
       "      <td>F</td>\n",
       "      <td>1987</td>\n",
       "      <td>0.0</td>\n",
       "      <td>2018-01-10 00:00:00</td>\n",
       "      <td>2018-01-10 00:00:00</td>\n",
       "      <td>PPR_PRODCD_KOFUYNN</td>\n",
       "      <td>2</td>\n",
       "      <td>123487.430359</td>\n",
       "      <td>CATEGORY_GWW4FYB</td>\n",
       "      <td>2019</td>\n",
       "      <td>1</td>\n",
       "    </tr>\n",
       "    <tr>\n",
       "      <th>16</th>\n",
       "      <td>PID_MFAAYNJ</td>\n",
       "      <td>F</td>\n",
       "      <td>1987</td>\n",
       "      <td>0.0</td>\n",
       "      <td>2018-01-10 00:00:00</td>\n",
       "      <td>2018-01-10 00:00:00</td>\n",
       "      <td>PPR_PRODCD_B2KVCE7</td>\n",
       "      <td>2</td>\n",
       "      <td>NaN</td>\n",
       "      <td>CATEGORY_GWW4FYB</td>\n",
       "      <td>2019</td>\n",
       "      <td>1</td>\n",
       "    </tr>\n",
       "    <tr>\n",
       "      <th>16</th>\n",
       "      <td>PID_MFAAYNJ</td>\n",
       "      <td>F</td>\n",
       "      <td>1987</td>\n",
       "      <td>0.0</td>\n",
       "      <td>2018-01-10 00:00:00</td>\n",
       "      <td>2018-01-10 00:00:00</td>\n",
       "      <td>PPR_PRODCD_B2KVCE7</td>\n",
       "      <td>3</td>\n",
       "      <td>NaN</td>\n",
       "      <td>CATEGORY_GWW4FYB</td>\n",
       "      <td>2019</td>\n",
       "      <td>1</td>\n",
       "    </tr>\n",
       "    <tr>\n",
       "      <th>...</th>\n",
       "      <td>...</td>\n",
       "      <td>...</td>\n",
       "      <td>...</td>\n",
       "      <td>...</td>\n",
       "      <td>...</td>\n",
       "      <td>...</td>\n",
       "      <td>...</td>\n",
       "      <td>...</td>\n",
       "      <td>...</td>\n",
       "      <td>...</td>\n",
       "      <td>...</td>\n",
       "      <td>...</td>\n",
       "    </tr>\n",
       "    <tr>\n",
       "      <th>51671</th>\n",
       "      <td>PID_BS40NIJ</td>\n",
       "      <td>F</td>\n",
       "      <td>1984</td>\n",
       "      <td>0.0</td>\n",
       "      <td>2018-01-11 00:00:00</td>\n",
       "      <td>2018-01-11 00:00:00</td>\n",
       "      <td>PPR_PRODCD_KOFUYNN</td>\n",
       "      <td>2</td>\n",
       "      <td>27631.086529</td>\n",
       "      <td>CATEGORY_GWW4FYB</td>\n",
       "      <td>2019</td>\n",
       "      <td>1</td>\n",
       "    </tr>\n",
       "    <tr>\n",
       "      <th>51671</th>\n",
       "      <td>PID_BS40NIJ</td>\n",
       "      <td>F</td>\n",
       "      <td>1984</td>\n",
       "      <td>0.0</td>\n",
       "      <td>2018-01-11 00:00:00</td>\n",
       "      <td>2018-01-11 00:00:00</td>\n",
       "      <td>PPR_PRODCD_B2KVCE7</td>\n",
       "      <td>4</td>\n",
       "      <td>NaN</td>\n",
       "      <td>CATEGORY_GWW4FYB</td>\n",
       "      <td>2019</td>\n",
       "      <td>1</td>\n",
       "    </tr>\n",
       "    <tr>\n",
       "      <th>51671</th>\n",
       "      <td>PID_BS40NIJ</td>\n",
       "      <td>F</td>\n",
       "      <td>1984</td>\n",
       "      <td>0.0</td>\n",
       "      <td>2018-01-11 00:00:00</td>\n",
       "      <td>2018-01-11 00:00:00</td>\n",
       "      <td>PPR_PRODCD_KOFUYNN</td>\n",
       "      <td>3</td>\n",
       "      <td>27631.086529</td>\n",
       "      <td>CATEGORY_GWW4FYB</td>\n",
       "      <td>2019</td>\n",
       "      <td>1</td>\n",
       "    </tr>\n",
       "    <tr>\n",
       "      <th>51671</th>\n",
       "      <td>PID_BS40NIJ</td>\n",
       "      <td>F</td>\n",
       "      <td>1984</td>\n",
       "      <td>0.0</td>\n",
       "      <td>2018-01-11 00:00:00</td>\n",
       "      <td>2018-01-11 00:00:00</td>\n",
       "      <td>PPR_PRODCD_KOFUYNN</td>\n",
       "      <td>1</td>\n",
       "      <td>27631.086529</td>\n",
       "      <td>CATEGORY_GWW4FYB</td>\n",
       "      <td>2019</td>\n",
       "      <td>1</td>\n",
       "    </tr>\n",
       "    <tr>\n",
       "      <th>51671</th>\n",
       "      <td>PID_BS40NIJ</td>\n",
       "      <td>F</td>\n",
       "      <td>1984</td>\n",
       "      <td>0.0</td>\n",
       "      <td>2018-01-11 00:00:00</td>\n",
       "      <td>2018-01-11 00:00:00</td>\n",
       "      <td>PPR_PRODCD_B2KVCE7</td>\n",
       "      <td>3</td>\n",
       "      <td>NaN</td>\n",
       "      <td>CATEGORY_GWW4FYB</td>\n",
       "      <td>2019</td>\n",
       "      <td>1</td>\n",
       "    </tr>\n",
       "  </tbody>\n",
       "</table>\n",
       "<p>460479 rows × 12 columns</p>\n",
       "</div>"
      ],
      "text/plain": [
       "         POLICY_ID GENDER  BIRTH YEAR  AMOUNT_PAID            DATE_PAID  \\\n",
       "16     PID_MFAAYNJ      F        1987          0.0  2018-01-10 00:00:00   \n",
       "16     PID_MFAAYNJ      F        1987          0.0  2018-01-10 00:00:00   \n",
       "16     PID_MFAAYNJ      F        1987          0.0  2018-01-10 00:00:00   \n",
       "16     PID_MFAAYNJ      F        1987          0.0  2018-01-10 00:00:00   \n",
       "16     PID_MFAAYNJ      F        1987          0.0  2018-01-10 00:00:00   \n",
       "...            ...    ...         ...          ...                  ...   \n",
       "51671  PID_BS40NIJ      F        1984          0.0  2018-01-11 00:00:00   \n",
       "51671  PID_BS40NIJ      F        1984          0.0  2018-01-11 00:00:00   \n",
       "51671  PID_BS40NIJ      F        1984          0.0  2018-01-11 00:00:00   \n",
       "51671  PID_BS40NIJ      F        1984          0.0  2018-01-11 00:00:00   \n",
       "51671  PID_BS40NIJ      F        1984          0.0  2018-01-11 00:00:00   \n",
       "\n",
       "          PREMIUM_DUE_DATE        PRODUCT_CODE  PRINC_RSHIP    SUM_ASSURED  \\\n",
       "16     2018-01-10 00:00:00  PPR_PRODCD_KOFUYNN            4   27631.086529   \n",
       "16     2018-01-10 00:00:00  PPR_PRODCD_KOFUYNN            1  123487.430359   \n",
       "16     2018-01-10 00:00:00  PPR_PRODCD_KOFUYNN            2  123487.430359   \n",
       "16     2018-01-10 00:00:00  PPR_PRODCD_B2KVCE7            2            NaN   \n",
       "16     2018-01-10 00:00:00  PPR_PRODCD_B2KVCE7            3            NaN   \n",
       "...                    ...                 ...          ...            ...   \n",
       "51671  2018-01-11 00:00:00  PPR_PRODCD_KOFUYNN            2   27631.086529   \n",
       "51671  2018-01-11 00:00:00  PPR_PRODCD_B2KVCE7            4            NaN   \n",
       "51671  2018-01-11 00:00:00  PPR_PRODCD_KOFUYNN            3   27631.086529   \n",
       "51671  2018-01-11 00:00:00  PPR_PRODCD_KOFUYNN            1   27631.086529   \n",
       "51671  2018-01-11 00:00:00  PPR_PRODCD_B2KVCE7            3            NaN   \n",
       "\n",
       "               CATEGORY  LAPSE_YEAR  LAPSE  \n",
       "16     CATEGORY_GWW4FYB        2019      1  \n",
       "16     CATEGORY_GWW4FYB        2019      1  \n",
       "16     CATEGORY_GWW4FYB        2019      1  \n",
       "16     CATEGORY_GWW4FYB        2019      1  \n",
       "16     CATEGORY_GWW4FYB        2019      1  \n",
       "...                 ...         ...    ...  \n",
       "51671  CATEGORY_GWW4FYB        2019      1  \n",
       "51671  CATEGORY_GWW4FYB        2019      1  \n",
       "51671  CATEGORY_GWW4FYB        2019      1  \n",
       "51671  CATEGORY_GWW4FYB        2019      1  \n",
       "51671  CATEGORY_GWW4FYB        2019      1  \n",
       "\n",
       "[460479 rows x 12 columns]"
      ]
     },
     "execution_count": 71,
     "metadata": {},
     "output_type": "execute_result"
    }
   ],
   "source": [
    "#A00 \n",
    "#Combine main columns in the datasets to the train_df\n",
    "client_df_features = ['Policy ID','NPH_SEX','NPH_BIRTHDATE']\n",
    "payment_df_features = ['Policy ID', 'AMOUNTPAID', 'DATEPAID', 'PREMIUMDUEDATE']\n",
    "policy_df_features = ['Policy ID', 'PPR_PRODCD', 'CLF_LIFECD', 'NPR_SUMASSURED', 'CATEGORY']\n",
    "\n",
    "#Join the Client Dataset\n",
    "train_df = train_df.join(\n",
    "    client_df[client_df_features].set_index('Policy ID'),\n",
    "    on = 'Policy ID', how = 'inner')\n",
    "\n",
    "#Join the Payment Dataset\n",
    "train_df = train_df.join(\n",
    "    payment_df[payment_df_features].set_index('Policy ID'),\n",
    "    on = 'Policy ID', how = 'inner')\n",
    "\n",
    "#Join the Policy Dataset\n",
    "train_df = train_df.join(\n",
    "    policy_df[policy_df_features].set_index('Policy ID'),\n",
    "    on = 'Policy ID', how = 'inner')\n",
    "\n",
    "#Rename the columns\n",
    "rename_cols = {\n",
    "    'Policy ID': 'POLICY_ID', 'NPH_SEX': 'GENDER',\n",
    "    'NPH_BIRTHDATE': 'BIRTH YEAR', 'AMOUNTPAID': 'AMOUNT_PAID',\n",
    "    'DATEPAID': 'DATE_PAID', 'PREMIUMDUEDATE': 'PREMIUM_DUE_DATE',\n",
    "    'PPR_PRODCD': 'PRODUCT_CODE', 'CLF_LIFECD': 'PRINC_RSHIP',\n",
    "    'NPR_SUMASSURED': 'SUM_ASSURED', 'Lapse': 'LAPSE', 'Lapse Year': 'LAPSE_YEAR'\n",
    "}\n",
    "\n",
    "train_df.rename(columns=rename_cols, inplace=True)\n",
    "\n",
    "#Re-order the features\n",
    "train_df = train_df.reindex(columns=\n",
    "    ['POLICY_ID'] + [col for col in train_df.columns if col not in\\\n",
    "        ['POLICY_ID', 'LAPSE', 'LAPSE_YEAR']] + ['LAPSE_YEAR'] + ['LAPSE']\n",
    "    )\n",
    "\n",
    "train_df\n",
    "\n",
    " "
   ]
  },
  {
   "cell_type": "code",
   "execution_count": null,
   "metadata": {},
   "outputs": [],
   "source": []
  }
 ],
 "metadata": {
  "interpreter": {
   "hash": "ee9044a251df4dc771f76ab794dfa184c70dfe3714bb57b38698f3c7f5388f93"
  },
  "kernelspec": {
   "display_name": "Python 3",
   "language": "python",
   "name": "python3"
  },
  "language_info": {
   "codemirror_mode": {
    "name": "ipython",
    "version": 3
   },
   "file_extension": ".py",
   "mimetype": "text/x-python",
   "name": "python",
   "nbconvert_exporter": "python",
   "pygments_lexer": "ipython3",
   "version": "3.9.7"
  }
 },
 "nbformat": 4,
 "nbformat_minor": 2
}
